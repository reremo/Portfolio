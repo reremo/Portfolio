{
 "cells": [
  {
   "cell_type": "markdown",
   "metadata": {},
   "source": [
    "### Import packages"
   ]
  },
  {
   "cell_type": "code",
   "execution_count": 1,
   "metadata": {},
   "outputs": [],
   "source": [
    "import numpy as np\n",
    "import matplotlib.pyplot as plt\n",
    "import pandas as pd\n",
    "from statistics import mean\n",
    "from math import sqrt\n",
    "\n",
    "from rdkit import Chem\n",
    "\n",
    "from sklearn import metrics\n",
    "from sklearn import model_selection\n",
    "from sklearn import linear_model\n",
    "\n",
    "from sklearn.svm import SVR\n",
    "from sklearn.ensemble import RandomForestRegressor\n",
    "from sklearn.neural_network import MLPRegressor\n",
    "from sklearn.preprocessing import StandardScaler\n",
    "from sklearn.pipeline import Pipeline\n",
    "from sklearn.model_selection import GridSearchCV\n",
    "from sklearn.model_selection import LeaveOneOut\n",
    "from sklearn.metrics import mean_squared_error\n",
    "\n",
    "\n"
   ]
  },
  {
   "cell_type": "markdown",
   "metadata": {},
   "source": [
    "### Load Data"
   ]
  },
  {
   "cell_type": "code",
   "execution_count": 2,
   "metadata": {},
   "outputs": [],
   "source": [
    "%store -r X_train\n",
    "%store  -r X_test  \n",
    "%store -r y_train\n",
    "%store -r  y_test"
   ]
  },
  {
   "cell_type": "code",
   "execution_count": 3,
   "metadata": {},
   "outputs": [],
   "source": [
    "%store -r log_y\n",
    "%store -r X"
   ]
  },
  {
   "cell_type": "code",
   "execution_count": 4,
   "metadata": {},
   "outputs": [],
   "source": [
    "# X_train = X\n",
    "# y_train = log_y"
   ]
  },
  {
   "cell_type": "code",
   "execution_count": 5,
   "metadata": {},
   "outputs": [
    {
     "name": "stdout",
     "output_type": "stream",
     "text": [
      "(194, 3)\n",
      "(299, 3)\n"
     ]
    },
    {
     "data": {
      "image/png": "[encoded data removed]",
      "text/plain": [
       "<matplotlib.figure.Figure at 0x1101dae10>"
      ]
     },
     "metadata": {},
     "output_type": "display_data"
    }
   ],
   "source": [
    "plt.hist(y_train)\n",
    "print(y_train.shape)\n",
    "print(log_y.shape)"
   ]
  },
  {
   "cell_type": "markdown",
   "metadata": {},
   "source": [
    "## Tuning the SVR first"
   ]
  },
  {
   "cell_type": "markdown",
   "metadata": {},
   "source": [
    "### Define RMSE$_{CV}$  score"
   ]
  },
  {
   "cell_type": "code",
   "execution_count": 6,
   "metadata": {},
   "outputs": [],
   "source": [
    "from sklearn.metrics import mean_squared_error\n",
    "from sklearn.metrics import make_scorer\n",
    "rmse_scorer = make_scorer(mean_squared_error, greater_is_better=False)"
   ]
  },
  {
   "cell_type": "markdown",
   "metadata": {},
   "source": [
    "### Define the regressor to be tuned"
   ]
  },
  {
   "cell_type": "code",
   "execution_count": 7,
   "metadata": {},
   "outputs": [],
   "source": [
    "svr = SVR()\n",
    "\n",
    "scaler = StandardScaler()\n",
    "\n",
    "steps = [('scaler', scaler), ('svr', svr)]\n",
    "pipeline = Pipeline(steps) # define the pipeline object."
   ]
  },
  {
   "cell_type": "markdown",
   "metadata": {},
   "source": [
    "### Define the grid search"
   ]
  },
  {
   "cell_type": "code",
   "execution_count": 8,
   "metadata": {},
   "outputs": [],
   "source": [
    "parameters = {'svr__kernel': ('rbf',\"linear\"),\n",
    "              'svr__gamma': [1e-6,1e-5, 1e-4, 1e-3, 1e-2, 1e-1,1],\n",
    "              \"svr__C\": [0.001, 0.01, 0.1, 1, 10, 100, 1000],\n",
    "              \"svr__epsilon\" : [ 1e-4, 1e-3, 1e-2, 0.1, 1,10,100]}\n",
    "\n",
    "grid_mse = GridSearchCV(pipeline, param_grid=parameters, cv=5, scoring = rmse_scorer, n_jobs = -1)"
   ]
  },
  {
   "cell_type": "markdown",
   "metadata": {},
   "source": [
    "### Optimize the DCAA regressor"
   ]
  },
  {
   "cell_type": "code",
   "execution_count": 9,
   "metadata": {},
   "outputs": [
    {
     "data": {
      "text/plain": [
       "1.1939835455472043"
      ]
     },
     "execution_count": 9,
     "metadata": {},
     "output_type": "execute_result"
    }
   ],
   "source": [
    "#benckmark using only default values\n",
    "\n",
    "DCAA_train_mse = model_selection.cross_validate(pipeline, X,log_y[:,0], scoring = rmse_scorer, cv = 5, n_jobs = -1)\n",
    "DCAA_train_rmse = mean(np.sqrt(-DCAA_train_mse[\"test_score\"]))\n",
    "DCAA_train_rmse"
   ]
  },
  {
   "cell_type": "code",
   "execution_count": 10,
   "metadata": {},
   "outputs": [
    {
     "name": "stdout",
     "output_type": "stream",
     "text": [
      "RMSE$_{CV_{DCAA}}$ = 1.07\n"
     ]
    },
    {
     "data": {
      "text/plain": [
       "{'svr__C': 10, 'svr__epsilon': 0.1, 'svr__gamma': 0.001, 'svr__kernel': 'rbf'}"
      ]
     },
     "execution_count": 10,
     "metadata": {},
     "output_type": "execute_result"
    }
   ],
   "source": [
    "# Tuning DCAA regressor for the first time using MSE \n",
    "\n",
    "grid_mse.fit(X, log_y[:,0])\n",
    "print (\"RMSE$_{CV_{DCAA}}$ = %3.2f\" %(np.sqrt(-grid_mse.best_score_)))\n",
    "DCAA_params = grid_mse.best_params_\n",
    "DCAA_params\n",
    "#print (\"Best params with RMSE$_{CV_{DCAA}}$ = %3.2f\" % DCAA_params)\n",
    "#DCAA_regressor = grid.best_estimator_"
   ]
  },
  {
   "cell_type": "code",
   "execution_count": 106,
   "metadata": {},
   "outputs": [
    {
     "name": "stdout",
     "output_type": "stream",
     "text": [
      "RMSE$_{CV_{DCAA}}$ = 1.06\n"
     ]
    },
    {
     "data": {
      "text/plain": [
       "{'svr__C': 6,\n",
       " 'svr__epsilon': 0.0003,\n",
       " 'svr__gamma': 0.003,\n",
       " 'svr__kernel': 'rbf'}"
      ]
     },
     "execution_count": 106,
     "metadata": {},
     "output_type": "execute_result"
    }
   ],
   "source": [
    "# Tuning DCAA regressor for the second time using MSE\n",
    "\n",
    "parameters_2 = {'svr__kernel': ('rbf',\"linear\"),\n",
    "              'svr__gamma': [1e-4,3e-4,6e-4, 1e-3, 3e-3, 6e-3, 1e-2],\n",
    "              \"svr__C\": [1, 3, 6, 10, 30, 60, 100],\n",
    "              \"svr__epsilon\" : [1e-4,3e-4,6e-4, 1e-3, 3e-3,1e-2, 3e-2, 6e-2, 0.1, 0.3, 0.6, 10]}\n",
    "\n",
    "\n",
    "grid_2_mse = GridSearchCV(pipeline, param_grid=parameters_2, cv=5, scoring = rmse_scorer, n_jobs = -1)\n",
    "\n",
    "grid_2_mse.fit(X, log_y[:,0])\n",
    "print (\"RMSE$_{CV_{DCAA}}$ = %3.2f\" %(np.sqrt(-grid_2_mse.best_score_)))\n",
    "DCAA_params = grid_2_mse.best_params_\n",
    "DCAA_params"
   ]
  },
  {
   "cell_type": "markdown",
   "metadata": {},
   "source": [
    "### Optimize the TCAA regressor"
   ]
  },
  {
   "cell_type": "code",
   "execution_count": 12,
   "metadata": {},
   "outputs": [
    {
     "data": {
      "text/plain": [
       "1.3398542449962354"
      ]
     },
     "execution_count": 12,
     "metadata": {},
     "output_type": "execute_result"
    }
   ],
   "source": [
    "#benckmark using only default values\n",
    "\n",
    "TCAA_train_mse = model_selection.cross_validate(pipeline, X, log_y[:,1], scoring = rmse_scorer, cv = 5)\n",
    "TCAA_train_rmse = mean(np.sqrt(-TCAA_train_mse[\"test_score\"]))\n",
    "TCAA_train_rmse"
   ]
  },
  {
   "cell_type": "code",
   "execution_count": 13,
   "metadata": {},
   "outputs": [
    {
     "name": "stdout",
     "output_type": "stream",
     "text": [
      "RMSE$_{CV_{TCAA}}$ = 1.31\n"
     ]
    },
    {
     "data": {
      "text/plain": [
       "{'svr__C': 10, 'svr__epsilon': 0.1, 'svr__gamma': 0.001, 'svr__kernel': 'rbf'}"
      ]
     },
     "execution_count": 13,
     "metadata": {},
     "output_type": "execute_result"
    }
   ],
   "source": [
    "# Tuning TCAA regressor for the first time using MSE \n",
    "\n",
    "grid_mse.fit(X, log_y[:,1])\n",
    "print (\"RMSE$_{CV_{TCAA}}$ = %3.2f\" %(np.sqrt(-grid_mse.best_score_)))\n",
    "TCAA_params = grid_mse.best_params_\n",
    "TCAA_params"
   ]
  },
  {
   "cell_type": "code",
   "execution_count": 14,
   "metadata": {},
   "outputs": [
    {
     "name": "stdout",
     "output_type": "stream",
     "text": [
      "RMSE$_{CV_{TCAA}}$ = 1.29\n"
     ]
    },
    {
     "data": {
      "text/plain": [
       "{'svr__C': 3, 'svr__epsilon': 0.3, 'svr__gamma': 0.001, 'svr__kernel': 'rbf'}"
      ]
     },
     "execution_count": 14,
     "metadata": {},
     "output_type": "execute_result"
    }
   ],
   "source": [
    "# Tuning TCAA regressor for the second time using MSE\n",
    "\n",
    "parameters_2 = {'svr__kernel': ('rbf',\"linear\"),\n",
    "              'svr__gamma': [1e-4,3e-4,6e-4, 1e-3, 3e-3, 6e-3, 1e-2],\n",
    "              \"svr__C\": [1, 3, 6, 10, 30, 60, 100],\n",
    "              \"svr__epsilon\" : [ 1e-2, 3e-2, 6e-2, 0.1, 0.3, 0.6, 10]}\n",
    "\n",
    "\n",
    "grid_2_mse = GridSearchCV(pipeline, param_grid=parameters_2, cv=5, scoring = rmse_scorer, n_jobs = -1)\n",
    "\n",
    "grid_2_mse.fit(X, log_y[:,1])\n",
    "print (\"RMSE$_{CV_{TCAA}}$ = %3.2f\" %(np.sqrt(-grid_2_mse.best_score_)))\n",
    "TCAA_params = grid_2_mse.best_params_\n",
    "TCAA_params"
   ]
  },
  {
   "cell_type": "markdown",
   "metadata": {},
   "source": [
    "### Optimize the sumHAAs regressor"
   ]
  },
  {
   "cell_type": "code",
   "execution_count": 15,
   "metadata": {},
   "outputs": [],
   "source": [
    "# # Tuning sumHAAs regressor for the first time using MSE \n",
    "\n",
    "# grid_mse.fit(X_train, y_train[:,2])\n",
    "# print (\"RMSE$_{CV_{sumHAAs}}$ = %3.2f\" %(np.sqrt(-grid_mse.best_score_)))\n",
    "# HAA_params = grid_mse.best_params_\n",
    "# HAA_params"
   ]
  },
  {
   "cell_type": "code",
   "execution_count": 16,
   "metadata": {},
   "outputs": [],
   "source": [
    "# # Tuning sumHAAs regressor for the second time using MSE \n",
    "\n",
    "# parameters_2 = {'svr__kernel': ('rbf',\"linear\"),\n",
    "#               'svr__gamma': [1e-4,3e-4,6e-4, 1e-3, 3e-3, 6e-3, 1e-2],\n",
    "#               \"svr__C\": [1, 3, 6, 10, 30, 60, 100],\n",
    "#               \"svr__epsilon\" : [ 1e-2, 3e-2, 6e-2, 0.1, 0.3, 0.6, 10]}\n",
    "\n",
    "\n",
    "# grid_2_mse = GridSearchCV(pipeline, param_grid=parameters_2, cv=5, scoring = rmse_scorer)\n",
    "\n",
    "# grid_2_mse.fit(X_train, y_train[:,2])\n",
    "# print (\"RMSE$_{CV_{sumHAAs}}$ = %3.2f\" %(np.sqrt(-grid_2_mse.best_score_)))\n",
    "# HAA_params = grid_2_mse.best_params_\n",
    "# HAA_params"
   ]
  },
  {
   "cell_type": "markdown",
   "metadata": {},
   "source": [
    "## Tuning the RF"
   ]
  },
  {
   "cell_type": "markdown",
   "metadata": {},
   "source": [
    "### Define the regressor to be tuned"
   ]
  },
  {
   "cell_type": "code",
   "execution_count": 16,
   "metadata": {},
   "outputs": [],
   "source": [
    "### should i fix the random state???\n",
    "\n",
    "rf = RandomForestRegressor(random_state = 17)\n",
    "\n",
    "scaler = StandardScaler()\n",
    "\n",
    "steps = [('scaler', scaler), ('rf', rf)]\n",
    "\n",
    "pipeline = Pipeline(steps) # define the pipeline object.\n"
   ]
  },
  {
   "cell_type": "markdown",
   "metadata": {},
   "source": [
    "### Define the grid search\n",
    "##### !1 is a general search, 2 is defined near best params for search 1\n"
   ]
  },
  {
   "cell_type": "code",
   "execution_count": 17,
   "metadata": {},
   "outputs": [],
   "source": [
    "#n_estimators = Number of trees (ntree) /500\n",
    "\n",
    "#number of variables randomly sampled at each tree node (mtry) -  1/3 of features\n",
    "        #max_samplesint or float, default=None\n",
    "            #If bootstrap is True, the number of samples to draw from X to train each base estimator.\n",
    "\n",
    "    \n",
    "    \n",
    "#the minimum nodesize below which nodes are not further subdivided (nodesize)   5\n",
    "    #min_samples_leaf? The minimum number of samples required to be at a leaf node- ? \n",
    "\n",
    "\n",
    "parameters = {\n",
    "    'rf__n_estimators': [1,10,30,100,300],\n",
    "    'rf__max_features': [3,10,30,100,300,\"auto\"],    \n",
    "}"
   ]
  },
  {
   "cell_type": "code",
   "execution_count": 18,
   "metadata": {},
   "outputs": [],
   "source": [
    "grid_r2 = GridSearchCV(pipeline, param_grid=parameters, cv=5, scoring = \"r2\", n_jobs = -1)\n",
    "grid_mse = GridSearchCV(pipeline, param_grid=parameters, cv=5, scoring = rmse_scorer, n_jobs = -1)"
   ]
  },
  {
   "cell_type": "markdown",
   "metadata": {},
   "source": [
    "## GridSearchCV for DCAA"
   ]
  },
  {
   "cell_type": "code",
   "execution_count": 11,
   "metadata": {},
   "outputs": [
    {
     "data": {
      "text/plain": [
       "1.098932460508345"
      ]
     },
     "execution_count": 11,
     "metadata": {},
     "output_type": "execute_result"
    }
   ],
   "source": [
    "#benckmark using only default values\n",
    "\n",
    "DCAA_train_mse = model_selection.cross_validate(pipeline, X, log_y[:,0], scoring = rmse_scorer, cv = 5)\n",
    "DCAA_train_rmse = mean(np.sqrt(-DCAA_train_mse[\"test_score\"]))\n",
    "DCAA_train_rmse"
   ]
  },
  {
   "cell_type": "code",
   "execution_count": 12,
   "metadata": {},
   "outputs": [
    {
     "name": "stdout",
     "output_type": "stream",
     "text": [
      "RMSE$_{CV_{DCAA}}$ = 1.09\n"
     ]
    },
    {
     "data": {
      "text/plain": [
       "{'rf__max_features': 10, 'rf__n_estimators': 300}"
      ]
     },
     "execution_count": 12,
     "metadata": {},
     "output_type": "execute_result"
    }
   ],
   "source": [
    "# Tuning DCAA regressor for the first time using MSE \n",
    "\n",
    "grid_mse.fit(X, log_y[:,0])\n",
    "print (\"RMSE$_{CV_{DCAA}}$ = %3.2f\" %(np.sqrt(-grid_mse.best_score_)))\n",
    "DCAA_params = grid_mse.best_params_\n",
    "DCAA_params\n",
    "#print (\"Best parameters to predict DCAA = %3.2f\" %DCAA_params)\n",
    "#DCAA_regressor = grid.best_estimator_"
   ]
  },
  {
   "cell_type": "code",
   "execution_count": 13,
   "metadata": {},
   "outputs": [],
   "source": [
    "parameters_2_DCAA = {\n",
    "    'rf__n_estimators': [100, 300],\n",
    "    'rf__max_features': [10, \"auto\"],\n",
    "    'rf__min_samples_split': [0.003, 0.01, 0.03, 0.1, 0.3],\n",
    "    'rf__min_samples_leaf': [0.003, 0.01, 0.03, 0.1, 0.3],\n",
    "    'rf__max_depth': [1,3,10,30,100,300, None],\n",
    "    'rf__max_leaf_nodes': [1,3,10,30,100,300, None]\n",
    "}\n",
    "\n",
    "grid_2_mse_DCAA = GridSearchCV(pipeline, param_grid=parameters_2_DCAA, cv=5, scoring = rmse_scorer, n_jobs = -1)"
   ]
  },
  {
   "cell_type": "code",
   "execution_count": 14,
   "metadata": {},
   "outputs": [
    {
     "name": "stdout",
     "output_type": "stream",
     "text": [
      "RMSE$_{CV_{DCAA}}$ = 1.08\n"
     ]
    },
    {
     "data": {
      "text/plain": [
       "{'rf__max_depth': 30,\n",
       " 'rf__max_features': 'auto',\n",
       " 'rf__max_leaf_nodes': None,\n",
       " 'rf__min_samples_leaf': 0.01,\n",
       " 'rf__min_samples_split': 0.03,\n",
       " 'rf__n_estimators': 300}"
      ]
     },
     "execution_count": 14,
     "metadata": {},
     "output_type": "execute_result"
    }
   ],
   "source": [
    "# Tuning DCAA regressor for the second time using MSE\n",
    "\n",
    "grid_2_mse_DCAA.fit(X, log_y[:,0])\n",
    "print (\"RMSE$_{CV_{DCAA}}$ = %3.2f\" %(np.sqrt(-grid_2_mse_DCAA.best_score_)))\n",
    "DCAA_params = grid_2_mse_DCAA.best_params_\n",
    "DCAA_params\n",
    "#print (\"Best params with RMSE$_{CV_{DCAA}}$ = %3.2f\" % DCAA_params)\n",
    "#DCAA_regressor = grid.best_estimator_"
   ]
  },
  {
   "cell_type": "markdown",
   "metadata": {},
   "source": [
    "## Q$^2$"
   ]
  },
  {
   "cell_type": "code",
   "execution_count": 31,
   "metadata": {},
   "outputs": [
    {
     "data": {
      "text/plain": [
       "0.2581499160483281"
      ]
     },
     "execution_count": 31,
     "metadata": {},
     "output_type": "execute_result"
    }
   ],
   "source": [
    "# calculate q2 without optimization\n",
    "r2_DCAA_train = model_selection.cross_validate(pipeline, X, log_y[:,0], scoring = \"r2\", cv = 5)\n",
    "r2_DCAA_train = mean(r2_DCAA_train[\"test_score\"])\n",
    "r2_DCAA_train"
   ]
  },
  {
   "cell_type": "code",
   "execution_count": 32,
   "metadata": {},
   "outputs": [
    {
     "data": {
      "text/plain": [
       "0.2581499160483281"
      ]
     },
     "execution_count": 32,
     "metadata": {},
     "output_type": "execute_result"
    }
   ],
   "source": [
    "# calculate q2 without optimization \n",
    "\n",
    "### should i fix the random state???\n",
    "\n",
    "rf = RandomForestRegressor(random_state = 17)\n",
    "\n",
    "scaler = StandardScaler()\n",
    "steps = [('scaler', scaler), ('rf', rf)]\n",
    "rf_optimized = Pipeline(steps) # define the pipeline object.\n",
    "\n",
    "# calculate q2 after optimization \n",
    "r2_DCAA_train_opt = model_selection.cross_validate(rf_optimized, X, log_y[:,0], scoring = \"r2\", cv = 5)\n",
    "r2_DCAA_train_opt = mean(r2_DCAA_train_opt[\"test_score\"])\n",
    "r2_DCAA_train_opt"
   ]
  },
  {
   "cell_type": "code",
   "execution_count": 15,
   "metadata": {},
   "outputs": [
    {
     "data": {
      "text/plain": [
       "0.2968544136272871"
      ]
     },
     "execution_count": 15,
     "metadata": {},
     "output_type": "execute_result"
    }
   ],
   "source": [
    "# calculate q2 after optimization \n",
    "\n",
    "### should i fix the random state???\n",
    "\n",
    "rf = RandomForestRegressor(random_state = 17,\n",
    "                                    n_estimators = 300,\n",
    "                                    max_features = \"auto\",\n",
    "                                    min_samples_split = 0.03,\n",
    "                                    min_samples_leaf = 0.01,\n",
    "                                    max_depth = 30,\n",
    "                                    max_leaf_nodes = None)\n",
    "\n",
    "scaler = StandardScaler()\n",
    "steps = [('scaler', scaler), ('rf', rf)]\n",
    "rf_optimized = Pipeline(steps) # define the pipeline object.\n",
    "\n",
    "# calculate q2 after optimization \n",
    "r2_DCAA_train_opt = model_selection.cross_validate(rf_optimized, X, log_y[:,0], scoring = \"r2\", cv = 5)\n",
    "r2_DCAA_train_opt = mean(r2_DCAA_train_opt[\"test_score\"])\n",
    "r2_DCAA_train_opt"
   ]
  },
  {
   "cell_type": "markdown",
   "metadata": {},
   "source": [
    "## GridSearchCV for TCAA"
   ]
  },
  {
   "cell_type": "code",
   "execution_count": 19,
   "metadata": {},
   "outputs": [
    {
     "data": {
      "text/plain": [
       "1.255441087544345"
      ]
     },
     "execution_count": 19,
     "metadata": {},
     "output_type": "execute_result"
    }
   ],
   "source": [
    "#benchmark of the rmse\n",
    "\n",
    "score_TCAA_train_mse = model_selection.cross_validate(pipeline, X, log_y[:,1], scoring = rmse_scorer, cv = 5)\n",
    "score_TCAA_train_rmse = mean(np.sqrt(-score_TCAA_train_mse[\"test_score\"]))\n",
    "score_TCAA_train_rmse"
   ]
  },
  {
   "cell_type": "code",
   "execution_count": 20,
   "metadata": {},
   "outputs": [
    {
     "name": "stdout",
     "output_type": "stream",
     "text": [
      "RMSE$_{CV_{TCAA}}$ = 1.23\n"
     ]
    },
    {
     "data": {
      "text/plain": [
       "{'rf__max_features': 30, 'rf__n_estimators': 30}"
      ]
     },
     "execution_count": 20,
     "metadata": {},
     "output_type": "execute_result"
    }
   ],
   "source": [
    "# Tuning TCAA regressor for the first time using MSE \n",
    "\n",
    "grid_mse.fit(X, log_y[:,1])\n",
    "print (\"RMSE$_{CV_{TCAA}}$ = %3.2f\" %(np.sqrt(-grid_mse.best_score_)))\n",
    "TCAA_params = grid_mse.best_params_\n",
    "TCAA_params\n",
    "#print (\"Best params with RMSE$_{CV_{DCAA}}$ = %3.2f\" % DCAA_params)\n",
    "#DCAA_regressor = grid.best_estimator_"
   ]
  },
  {
   "cell_type": "code",
   "execution_count": null,
   "metadata": {},
   "outputs": [],
   "source": []
  },
  {
   "cell_type": "code",
   "execution_count": 21,
   "metadata": {},
   "outputs": [],
   "source": [
    "parameters_2_TCAA = {\n",
    "    'rf__n_estimators': [30,100],\n",
    "    'rf__max_features': [30, \"auto\"],\n",
    "    'rf__min_samples_split': [1,2,3,6,10,30],\n",
    "    'rf__min_samples_leaf': [1,2,3,6,10,30],\n",
    "    'rf__max_depth': [1,3,10,30,100,300, None],\n",
    "    'rf__max_leaf_nodes': [1,3,10,30,100,300, None]\n",
    "}\n",
    "\n",
    "grid_2_mse_TCAA = GridSearchCV(pipeline, param_grid=parameters_2_TCAA, cv=5, scoring = rmse_scorer, n_jobs = -1)"
   ]
  },
  {
   "cell_type": "code",
   "execution_count": 22,
   "metadata": {},
   "outputs": [
    {
     "name": "stdout",
     "output_type": "stream",
     "text": [
      "RMSE$_{CV_{TCAA}}$ = 1.23\n"
     ]
    },
    {
     "data": {
      "text/plain": [
       "{'rf__max_depth': 30,\n",
       " 'rf__max_features': 30,\n",
       " 'rf__max_leaf_nodes': None,\n",
       " 'rf__min_samples_leaf': 1,\n",
       " 'rf__min_samples_split': 2,\n",
       " 'rf__n_estimators': 30}"
      ]
     },
     "execution_count": 22,
     "metadata": {},
     "output_type": "execute_result"
    }
   ],
   "source": [
    "# Tuning TCAA regressor for the second time using MSE\n",
    "\n",
    "grid_2_mse_TCAA.fit(X, log_y[:,1])\n",
    "print (\"RMSE$_{CV_{TCAA}}$ = %3.2f\" %(np.sqrt(-grid_2_mse_TCAA.best_score_)))\n",
    "TCAA_params = grid_2_mse_TCAA.best_params_\n",
    "TCAA_params\n",
    "#print (\"Best params with RMSE$_{CV_{DCAA}}$ = %3.2f\" % DCAA_params)\n",
    "#DCAA_regressor = grid.best_estimator_"
   ]
  },
  {
   "cell_type": "markdown",
   "metadata": {},
   "source": [
    "## Q$^2$"
   ]
  },
  {
   "cell_type": "code",
   "execution_count": 23,
   "metadata": {},
   "outputs": [
    {
     "data": {
      "text/plain": [
       "0.4311955914251664"
      ]
     },
     "execution_count": 23,
     "metadata": {},
     "output_type": "execute_result"
    }
   ],
   "source": [
    "#benckmark using only default values    #rerun using cv10 there might bea  mistake!!\n",
    "\n",
    "score_TCAA_train = model_selection.cross_validate(pipeline, X, log_y[:,1], scoring = \"r2\", cv = 5)\n",
    "score_TCAA_train = mean(score_TCAA_train[\"test_score\"])\n",
    "score_TCAA_train"
   ]
  },
  {
   "cell_type": "code",
   "execution_count": 28,
   "metadata": {},
   "outputs": [
    {
     "data": {
      "text/plain": [
       "0.45754999596606954"
      ]
     },
     "execution_count": 28,
     "metadata": {},
     "output_type": "execute_result"
    }
   ],
   "source": [
    "# calculate q2 after optimization \n",
    "rf_optimized = RandomForestRegressor(random_state = 17,\n",
    "                                    n_estimators = 30,\n",
    "                                    max_features = 30,\n",
    "                                    min_samples_split = 2,\n",
    "                                    min_samples_leaf = 1,\n",
    "                                    max_depth = 30,\n",
    "                                    max_leaf_nodes = None)\n",
    "\n",
    "# calculate q2 after optimization \n",
    "r2_TCAA_train_opt = model_selection.cross_validate(rf_optimized, X, log_y[:,1], scoring = \"r2\", cv = 5)\n",
    "r2_TCAA_train_opt = mean(r2_TCAA_train_opt[\"test_score\"])\n",
    "r2_TCAA_train_opt"
   ]
  },
  {
   "cell_type": "markdown",
   "metadata": {},
   "source": [
    "## GridSearchCV for sumHAAs "
   ]
  },
  {
   "cell_type": "code",
   "execution_count": 77,
   "metadata": {},
   "outputs": [],
   "source": [
    "# # benchmark using default values\n",
    "\n",
    "# score_HAA_train_mse = model_selection.cross_validate(pipeline, X_train,y_train[:,2], scoring = rmse_scorer, cv = 5)\n",
    "# score_HAA_train_rmse = mean(np.sqrt(-score_HAA_train_mse[\"test_score\"]))\n",
    "# score_HAA_train_rmse"
   ]
  },
  {
   "cell_type": "code",
   "execution_count": 78,
   "metadata": {
    "scrolled": true
   },
   "outputs": [],
   "source": [
    "# # Tuning sumHAAs regressor for the first time using MSE \n",
    "\n",
    "# grid_mse.fit(X_train, y_train[:,2])\n",
    "# print (\"RMSE$_{CV_{sumHAAs}}$ = %3.2f\" %(np.sqrt(-grid_mse.best_score_)))\n",
    "# DCAA_params = grid_mse.best_params_\n",
    "# DCAA_params\n",
    "# #print (\"Best params with RMSE$_{CV_{DCAA}}$ = %3.2f\" % DCAA_params)\n",
    "# #DCAA_regressor = grid.best_estimator_"
   ]
  },
  {
   "cell_type": "code",
   "execution_count": 79,
   "metadata": {},
   "outputs": [],
   "source": [
    "# parameters_2_HAA = {\n",
    "#     'rf__n_estimators': [30,100],\n",
    "#     'rf__max_features': [300],\n",
    "#     'rf__min_samples_split': [0.01, 0.03, 0.1, 0.3],\n",
    "#     'rf__min_samples_leaf': [0.01, 0.03, 0.1, 0.3],\n",
    "#     'rf__max_depth': [1,3,10,30,100,300],\n",
    "#     'rf__max_leaf_nodes': [3,10,30,100,300]\n",
    "# }\n",
    "\n",
    "# grid_2_mse_HAA = GridSearchCV(pipeline, param_grid=parameters_2_HAA, cv=5, scoring = rmse_scorer)\n",
    "\n",
    "# # Tuning sumHAAs regressor for the second time using MSE\n",
    "\n",
    "# grid_2_mse_HAA.fit(X_train, y_train[:,2])\n",
    "# print (\"RMSE$_{CV_{sumHAAs}}$ = %3.2f\" %(np.sqrt(-grid_2_mse_HAA.best_score_)))\n",
    "# HAA_params = grid_2_mse_HAA.best_params_\n",
    "# HAA_params\n",
    "# #print (\"Best params with RMSE$_{CV_{DCAA}}$ = %3.2f\" % DCAA_params)\n",
    "# #DCAA_regressor = grid.best_estimator_"
   ]
  },
  {
   "cell_type": "markdown",
   "metadata": {},
   "source": [
    "## Q$^2$"
   ]
  },
  {
   "cell_type": "code",
   "execution_count": 80,
   "metadata": {},
   "outputs": [],
   "source": [
    "# #Calculate q2 before optimization\n",
    "\n",
    "\n",
    "# score_HAA_train = model_selection.cross_validate(pipeline, X_train,y_train[:,2], scoring = \"r2\", cv = 5)\n",
    "# score_HAA_train = mean(score_HAA_train[\"test_score\"])\n",
    "# score_HAA_train"
   ]
  },
  {
   "cell_type": "code",
   "execution_count": 81,
   "metadata": {},
   "outputs": [],
   "source": [
    "# # calculate q2 after optimization \n",
    "# rf_optimized = RandomForestRegressor(random_state = 17,\n",
    "#                                     n_estimators = 100,\n",
    "#                                     max_features = 300,\n",
    "#                                     min_samples_split = 0.1,\n",
    "#                                     min_samples_leaf = 0.03,\n",
    "#                                     max_depth = 10,\n",
    "#                                     max_leaf_nodes = 10)\n",
    "\n",
    "# # calculate q2 after optimization \n",
    "# r2_HAA_train_opt = model_selection.cross_validate(rf_optimized, X_train,y_train[:,2], scoring = \"r2\", cv = 5)\n",
    "# r2_HAA_train_opt = mean(r2_HAA_train_opt[\"test_score\"])\n",
    "# r2_HAA_train_opt"
   ]
  },
  {
   "cell_type": "markdown",
   "metadata": {},
   "source": [
    "### Get the scores before and after optimization"
   ]
  },
  {
   "cell_type": "code",
   "execution_count": 6,
   "metadata": {},
   "outputs": [],
   "source": [
    "# scale x_train\n",
    "\n",
    "scaler = StandardScaler().fit(X)\n",
    "X_scaled = scaler.transform(X)\n",
    "\n",
    "scaler = StandardScaler().fit(X_train)\n",
    "X_train_scaled = scaler.transform(X_train)\n",
    "\n",
    "#scaler = StandardScaler().fit(X_test)\n",
    "X_test_scaled = scaler.transform(X_test)\n"
   ]
  },
  {
   "cell_type": "code",
   "execution_count": 7,
   "metadata": {},
   "outputs": [],
   "source": [
    "# dictionary of selectors \n",
    "\n",
    "\n",
    "DCAA_regressors = {\"RF_opt\" : RandomForestRegressor(random_state = 17,\n",
    "                                    n_estimators = 300,\n",
    "                                    max_features = \"auto\",\n",
    "                                    min_samples_split = 0.03,\n",
    "                                    min_samples_leaf = 0.01,\n",
    "                                    max_depth = 30,\n",
    "                                    max_leaf_nodes = None),\n",
    "              \"SVR_{rbf}_opt\" : SVR(C=6,\n",
    "                                    epsilon=0.0003,\n",
    "                                    gamma=0.001,\n",
    "                                    kernel='rbf',\n",
    "                                    max_iter=-1,\n",
    "                                    shrinking=True,\n",
    "                                    tol=0.001,\n",
    "                                    verbose=False)}\n",
    "\n",
    "TCAA_regressors = {\"RF_opt\" : RandomForestRegressor(random_state = 17),\n",
    "              \"SVR_{rbf}_opt\" : SVR(C=3,\n",
    "                                    epsilon=0.3,\n",
    "                                    gamma=0.001,\n",
    "                                    kernel='rbf',\n",
    "                                    max_iter=-1,\n",
    "                                    shrinking=True,\n",
    "                                    tol=0.001,\n",
    "                                    verbose=False)}\n"
   ]
  },
  {
   "cell_type": "code",
   "execution_count": 8,
   "metadata": {},
   "outputs": [],
   "source": [
    "# # dictionary of selectors \n",
    "\n",
    "\n",
    "# DCAA_regressors = {\"RF_default\" : RandomForestRegressor(random_state = 17),\n",
    "#               \"SVR_{rbf}_default\" : SVR(),\n",
    "#               \"L-SVR_default\" :SVR(kernel = \"linear\"),\n",
    "#                    \"MLP_default\" : MLPRegressor(solver = \"lbfgs\",\n",
    "#                                                max_iter = 400, \n",
    "#                                                random_state = 17),\n",
    "#                   \"MLR_default\" : linear_model.LinearRegression(),\n",
    "#                 \"RF_opt\" : RandomForestRegressor(random_state = 17,\n",
    "#                                     n_estimators = 100,\n",
    "#                                     max_features = 100,\n",
    "#                                     min_samples_split = 0.1,\n",
    "#                                     min_samples_leaf = 0.03,\n",
    "#                                     max_depth = 10,\n",
    "#                                     max_leaf_nodes = 300),\n",
    "#               \"SVR_{rbf}_opt\" : SVR(C = 30,\n",
    "#                                     epsilon = 0.3,\n",
    "#                                     gamma = 0.0006),\n",
    "#               \"L-SVR_opt\" : SVR(kernel = \"linear\"),\n",
    "#                   \"MLP_opt\" : MLPRegressor(solver = \"lbfgs\",max_iter = 400, random_state = 17),\n",
    "#                   \"MLR_opt\" : linear_model.LinearRegression()}\n"
   ]
  },
  {
   "cell_type": "code",
   "execution_count": 9,
   "metadata": {},
   "outputs": [],
   "source": [
    "# # dictionary of selectors \n",
    "\n",
    "\n",
    "# TCAA_regressors = {\"RF_default\" : RandomForestRegressor(random_state = 17),\n",
    "#               \"SVR_{rbf}_default\" : SVR(),\n",
    "#               \"L-SVR_default\" :SVR(kernel = \"linear\"),\n",
    "#                    \"MLP_default\" : MLPRegressor(solver = \"lbfgs\",\n",
    "#                                                max_iter = 400, \n",
    "#                                                random_state = 17),\n",
    "#                   \"MLR_default\" : linear_model.LinearRegression(),\n",
    "#                 \"RF_opt\" : RandomForestRegressor(random_state = 17,\n",
    "#                                     n_estimators = 100,\n",
    "#                                     max_features = 100,\n",
    "#                                     min_samples_split = 0.1,\n",
    "#                                     min_samples_leaf = 0.03,\n",
    "#                                     max_depth = 10,\n",
    "#                                     max_leaf_nodes = 300),\n",
    "#               \"SVR_{rbf}_opt\" : SVR(C = 10,\n",
    "#                                     epsilon = 0.1,\n",
    "#                                     gamma = 0.001),\n",
    "#               \"L-SVR_opt\" : SVR(kernel = \"linear\"),\n",
    "#                   \"MLP_opt\" : MLPRegressor(solver = \"lbfgs\",max_iter = 400, random_state = 17),\n",
    "#                   \"MLR_opt\" : linear_model.LinearRegression()}\n"
   ]
  },
  {
   "cell_type": "code",
   "execution_count": 10,
   "metadata": {},
   "outputs": [],
   "source": [
    "# get scores for DCAA\n",
    "\n",
    "y_pred_DCAA = dict()\n",
    "r2_DCAA_cv = dict()\n",
    "rmse_DCAA_cv = dict()\n",
    "r2_DCAA_ext = dict ()\n",
    "rmse_DCAA_ext = dict()\n",
    "\n",
    "\n",
    "reg_list_DCAA = DCAA_regressors.keys()\n",
    "\n",
    "for a in reg_list_DCAA:\n",
    "    DCAA_regressors[a] = DCAA_regressors[a].fit(X_train_scaled, y_train[:,0])\n",
    "    y_pred_DCAA[a] = DCAA_regressors[a].predict(X_test_scaled)\n",
    "    \n",
    "    r2_DCAA_cv[a] = model_selection.cross_validate(DCAA_regressors[a], X_train_scaled,y_train[:,0], scoring = \"r2\", cv =5 )\n",
    "    r2_DCAA_cv[a] = mean(r2_DCAA_cv[a][\"test_score\"])\n",
    "    rmse_DCAA_cv[a] = model_selection.cross_validate(DCAA_regressors[a], X_train_scaled,y_train[:,0], scoring = \"neg_root_mean_squared_error\", cv =5 )\n",
    "    rmse_DCAA_cv[a] = -mean(rmse_DCAA_cv[a][\"test_score\"])\n",
    "    \n",
    "    r2_DCAA_ext[a] = DCAA_regressors[a].score(X_test_scaled, y_test[:,0])\n",
    "    rmse_DCAA_ext[a] = sqrt(mean_squared_error(y_test[:,0], (y_pred_DCAA[a])))"
   ]
  },
  {
   "cell_type": "code",
   "execution_count": 11,
   "metadata": {},
   "outputs": [],
   "source": [
    "# get scores for TCAA\n",
    "\n",
    "y_pred_TCAA = dict()\n",
    "\n",
    "r2_TCAA_cv = dict()\n",
    "rmse_TCAA_cv = dict()\n",
    "r2_TCAA_ext = dict ()\n",
    "rmse_TCAA_ext = dict()\n",
    "\n",
    "\n",
    "reg_list_TCAA = TCAA_regressors.keys()\n",
    "\n",
    "for a in reg_list_TCAA:\n",
    "    TCAA_regressors[a] = TCAA_regressors[a].fit(X_train_scaled, y_train[:,1])\n",
    "    y_pred_TCAA[a] = TCAA_regressors[a].predict(X_test_scaled)\n",
    "    \n",
    "    r2_TCAA_cv[a] = model_selection.cross_validate(TCAA_regressors[a], X_train_scaled,y_train[:,1], scoring = \"r2\", cv =5 )\n",
    "    r2_TCAA_cv[a] = mean(r2_TCAA_cv[a][\"test_score\"])\n",
    "    rmse_TCAA_cv[a] = model_selection.cross_validate(TCAA_regressors[a], X_train_scaled,y_train[:,1], scoring = \"neg_root_mean_squared_error\", cv =5 )\n",
    "    rmse_TCAA_cv[a] = -mean(rmse_TCAA_cv[a][\"test_score\"])\n",
    "    r2_TCAA_ext[a] = TCAA_regressors[a].score(X_test_scaled, y_test[:,1])\n",
    "    rmse_TCAA_ext[a] = sqrt(mean_squared_error(y_test[:,1], (y_pred_TCAA[a])))"
   ]
  },
  {
   "cell_type": "code",
   "execution_count": 12,
   "metadata": {},
   "outputs": [
    {
     "name": "stdout",
     "output_type": "stream",
     "text": [
      "Leave One Out Cross Validation\n",
      "LOO $Q^2$: 0.38884, MSE: 1.03883\n",
      "Leave One Out Cross Validation\n",
      "LOO $Q^2$: 0.44332, MSE: 0.99144\n"
     ]
    }
   ],
   "source": [
    "# calculate the leave one out cross validation for DCAA\n",
    "\n",
    "ytests_dict = dict()\n",
    "ypreds_dict = dict()\n",
    "\n",
    "loo_q2_DCAA = dict()\n",
    "loo_rmse_DCAA = dict ()\n",
    "\n",
    "\n",
    "reg_list_DCAA = DCAA_regressors.keys()\n",
    "\n",
    "Xr = X_scaled\n",
    "yr = log_y[:,0]\n",
    "\n",
    "for a in reg_list_DCAA:\n",
    "    loo = LeaveOneOut()\n",
    "    ytests = []\n",
    "    ypreds = []\n",
    "    for train_idx, test_idx in loo.split(Xr):\n",
    "        X_train, X_test = Xr[train_idx], Xr[test_idx] #requires arrays\n",
    "        y_train, y_test = yr[train_idx], yr[test_idx]\n",
    "    \n",
    "    \n",
    "        DCAA_regressors[a].fit(X = X_train, y = y_train) \n",
    "        y_pred = DCAA_regressors[a].predict(X_test)\n",
    "        \n",
    "        # there is only one y-test and y-pred per iteration over the loo.split, \n",
    "        # so to get a proper graph, we append them to respective lists.\n",
    "        \n",
    "        ytests += list(y_test)\n",
    "        ypreds += list(y_pred)\n",
    "    \n",
    "    ytests_dict[a] = ytests\n",
    "    ypreds_dict[a] = ypreds\n",
    "        \n",
    "    loo_q2_DCAA[a] = metrics.r2_score(ytests, ypreds)\n",
    "    loo_rmse_DCAA[a] = metrics.mean_squared_error(ytests, ypreds, squared = False)\n",
    "        \n",
    "    print(\"Leave One Out Cross Validation\")\n",
    "    print(\"LOO $Q^2$: {:.5f}, MSE: {:.5f}\".format(loo_q2_DCAA[a], loo_rmse_DCAA[a]))"
   ]
  },
  {
   "cell_type": "code",
   "execution_count": 13,
   "metadata": {},
   "outputs": [
    {
     "data": {
      "image/png": "[encoded data removed]",
      "text/plain": [
       "<Figure size 432x288 with 1 Axes>"
      ]
     },
     "metadata": {
      "needs_background": "light"
     },
     "output_type": "display_data"
    }
   ],
   "source": [
    "ytests_rf = ytests_dict[\"RF_opt\"]\n",
    "ypreds_rf = ypreds_dict[\"RF_opt\"]\n",
    "                        \n",
    "plt.axis([-.5, 8, -.5, 8])\n",
    "plt.scatter(ytests_rf,ypreds_rf)\n",
    "plt.plot([-1, 8], [-1, 8], color='r')\n",
    "plt.savefig(\"../Jupyter/results/figures/LOO_DCAA_\" + \"RF_opt\" + \"_20200505.pdf\")\n",
    "plt.show()                      \n",
    "\n",
    "                        "
   ]
  },
  {
   "cell_type": "code",
   "execution_count": 14,
   "metadata": {},
   "outputs": [
    {
     "data": {
      "image/png": "[encoded data removed]",
      "text/plain": [
       "<Figure size 432x288 with 1 Axes>"
      ]
     },
     "metadata": {
      "needs_background": "light"
     },
     "output_type": "display_data"
    }
   ],
   "source": [
    "ytests_svr = ytests_dict[\"SVR_{rbf}_opt\"]\n",
    "ypreds_svr = ypreds_dict[\"SVR_{rbf}_opt\"]\n",
    "                        \n",
    "plt.axis([-.5, 8, -.5, 8])\n",
    "plt.scatter(ytests_svr,ypreds_svr)\n",
    "plt.plot([-1, 8], [-1, 8], color='r')\n",
    "plt.savefig(\"../Jupyter/results/figures/LOO_DCAA_\" + \"SVR_{rbf}_opt\" + \"_20200505.pdf\")\n",
    "plt.show()                      \n"
   ]
  },
  {
   "cell_type": "code",
   "execution_count": 15,
   "metadata": {},
   "outputs": [],
   "source": [
    "svr_results = pd.DataFrame(ytests_svr)\n",
    "svr_results[\"predicted\"] = ypreds_svr\n",
    "svr_results.to_excel(\"../Jupyter/excel/svr_results_DCAA_20200505.xlsx\")"
   ]
  },
  {
   "cell_type": "code",
   "execution_count": 16,
   "metadata": {},
   "outputs": [],
   "source": [
    "rf_results = pd.DataFrame(ytests_rf)\n",
    "rf_results[\"predicted\"] = ypreds_rf\n",
    "rf_results.to_excel(\"../Jupyter/excel/rf_results_DCAA_20200505.xlsx\")"
   ]
  },
  {
   "cell_type": "code",
   "execution_count": 17,
   "metadata": {},
   "outputs": [
    {
     "name": "stdout",
     "output_type": "stream",
     "text": [
      "Leave One Out Cross Validation\n",
      "LOO $Q^2$: 0.56401%, MSE: 1.19361\n",
      "Leave One Out Cross Validation\n",
      "LOO $Q^2$: 0.56821%, MSE: 1.18786\n"
     ]
    }
   ],
   "source": [
    "#Calculate the LOO-CV for TCAA\n",
    "\n",
    "ytests_dict = dict()\n",
    "ypreds_dict = dict()\n",
    "\n",
    "loo_q2_TCAA = dict()\n",
    "loo_rmse_TCAA = dict ()\n",
    "\n",
    "reg_list_TCAA = TCAA_regressors.keys()\n",
    "\n",
    "Xr = X_scaled\n",
    "yr = log_y[:,1]\n",
    "\n",
    "for a in reg_list_TCAA:\n",
    "    loo = LeaveOneOut()\n",
    "    ytests = []\n",
    "    ypreds = []\n",
    "    for train_idx, test_idx in loo.split(Xr):\n",
    "        X_train, X_test = Xr[train_idx], Xr[test_idx] #requires arrays\n",
    "        y_train, y_test = yr[train_idx], yr[test_idx]\n",
    "    \n",
    "        #model = svm.SVR(kernel = \"linear\")\n",
    "        TCAA_regressors[a].fit(X = X_train, y = y_train) \n",
    "        y_pred = TCAA_regressors[a].predict(X_test)\n",
    "        \n",
    "        # there is only one y-test and y-pred per iteration over the loo.split, \n",
    "        # so to get a proper graph, we append them to respective lists.\n",
    "        \n",
    "        ytests += list(y_test)\n",
    "        ypreds += list(y_pred)\n",
    "        \n",
    "    ytests_dict[a] = ytests\n",
    "    ypreds_dict[a] = ypreds\n",
    "        \n",
    "    loo_q2_TCAA[a] = metrics.r2_score(ytests, ypreds)\n",
    "    loo_rmse_TCAA[a] = metrics.mean_squared_error(ytests, ypreds, squared = False)\n",
    "        \n",
    "    print(\"Leave One Out Cross Validation\")\n",
    "    print(\"LOO $Q^2$: {:.5f}%, MSE: {:.5f}\".format(loo_q2_TCAA[a], loo_rmse_TCAA[a]))"
   ]
  },
  {
   "cell_type": "code",
   "execution_count": 18,
   "metadata": {},
   "outputs": [
    {
     "data": {
      "image/png": "[encoded data removed]",
      "text/plain": [
       "<Figure size 432x288 with 1 Axes>"
      ]
     },
     "metadata": {
      "needs_background": "light"
     },
     "output_type": "display_data"
    }
   ],
   "source": [
    "ytests_rf = ytests_dict[\"RF_opt\"]\n",
    "ypreds_rf = ypreds_dict[\"RF_opt\"]\n",
    "                        \n",
    "plt.axis([-.5, 8, -.5, 8])\n",
    "plt.scatter(ytests_rf,ypreds_rf)\n",
    "plt.plot([-1, 8], [-1, 8], color='r')\n",
    "plt.savefig(\"../Jupyter/results/figures/LOO_TCAA_\" + \"RF_opt_std\" + \"_20200505.pdf\")\n",
    "plt.show()  "
   ]
  },
  {
   "cell_type": "code",
   "execution_count": 19,
   "metadata": {},
   "outputs": [
    {
     "data": {
      "image/png": "[encoded data removed]",
      "text/plain": [
       "<Figure size 432x288 with 1 Axes>"
      ]
     },
     "metadata": {
      "needs_background": "light"
     },
     "output_type": "display_data"
    }
   ],
   "source": [
    "ytests_svr = ytests_dict[\"SVR_{rbf}_opt\"]\n",
    "ypreds_svr = ypreds_dict[\"SVR_{rbf}_opt\"]\n",
    "                        \n",
    "plt.axis([-.5, 8, -.5, 8])\n",
    "plt.scatter(ytests_svr,ypreds_svr)\n",
    "plt.plot([-1, 8], [-1, 8], color='r')\n",
    "plt.savefig(\"../Jupyter/results/figures/LOO_TCAA_\" + \"SVR_{rbf}_opt_def\" + \"_20200505.pdf\")\n",
    "plt.show()   "
   ]
  },
  {
   "cell_type": "code",
   "execution_count": 20,
   "metadata": {},
   "outputs": [],
   "source": [
    "svr_results = pd.DataFrame(ytests_svr)\n",
    "svr_results[\"predicted\"] = ypreds_svr\n",
    "svr_results.to_excel(\"../Jupyter/excel/svr_results_TCAA_20200505.xlsx\")"
   ]
  },
  {
   "cell_type": "code",
   "execution_count": 21,
   "metadata": {},
   "outputs": [],
   "source": [
    "rf_results = pd.DataFrame(ytests_rf)\n",
    "rf_results[\"predicted\"] = ypreds_rf\n",
    "rf_results.to_excel(\"../Jupyter/excel/rf_results_TCAA_20200505_def.xlsx\")"
   ]
  },
  {
   "cell_type": "code",
   "execution_count": null,
   "metadata": {},
   "outputs": [],
   "source": []
  },
  {
   "cell_type": "code",
   "execution_count": null,
   "metadata": {},
   "outputs": [],
   "source": []
  },
  {
   "cell_type": "code",
   "execution_count": 22,
   "metadata": {},
   "outputs": [
    {
     "data": {
      "text/html": [
       "<div>\n",
       "<style scoped>\n",
       "    .dataframe tbody tr th:only-of-type {\n",
       "        vertical-align: middle;\n",
       "    }\n",
       "\n",
       "    .dataframe tbody tr th {\n",
       "        vertical-align: top;\n",
       "    }\n",
       "\n",
       "    .dataframe thead th {\n",
       "        text-align: right;\n",
       "    }\n",
       "</style>\n",
       "<table border=\"1\" class=\"dataframe\">\n",
       "  <thead>\n",
       "    <tr style=\"text-align: right;\">\n",
       "      <th></th>\n",
       "      <th>RMSE_{CV}</th>\n",
       "      <th>Q^2</th>\n",
       "      <th>RMSE_{ext}</th>\n",
       "      <th>R^2_{ext}</th>\n",
       "      <th>LOO-RMSE</th>\n",
       "      <th>LOO-Q^2</th>\n",
       "    </tr>\n",
       "  </thead>\n",
       "  <tbody>\n",
       "    <tr>\n",
       "      <th>RF_opt</th>\n",
       "      <td>1.089201</td>\n",
       "      <td>0.284406</td>\n",
       "      <td>1.036384</td>\n",
       "      <td>0.41802</td>\n",
       "      <td>1.038827</td>\n",
       "      <td>0.388838</td>\n",
       "    </tr>\n",
       "    <tr>\n",
       "      <th>SVR_{rbf}_opt</th>\n",
       "      <td>1.083005</td>\n",
       "      <td>0.291494</td>\n",
       "      <td>1.015744</td>\n",
       "      <td>0.44097</td>\n",
       "      <td>0.991441</td>\n",
       "      <td>0.443323</td>\n",
       "    </tr>\n",
       "  </tbody>\n",
       "</table>\n",
       "</div>"
      ],
      "text/plain": [
       "               RMSE_{CV}       Q^2  RMSE_{ext}  R^2_{ext}  LOO-RMSE   LOO-Q^2\n",
       "RF_opt          1.089201  0.284406    1.036384    0.41802  1.038827  0.388838\n",
       "SVR_{rbf}_opt   1.083005  0.291494    1.015744    0.44097  0.991441  0.443323"
      ]
     },
     "execution_count": 22,
     "metadata": {},
     "output_type": "execute_result"
    }
   ],
   "source": [
    "DCAA = {\"RMSE_{CV}\" : rmse_DCAA_cv,\n",
    "        \"Q^2\" :r2_DCAA_cv,\n",
    "       \"RMSE_{ext}\" : rmse_DCAA_ext,\n",
    "       \"R^2_{ext}\" : r2_DCAA_ext,\n",
    "       \"LOO-RMSE\" : loo_rmse_DCAA,\n",
    "       \"LOO-Q^2\" : loo_q2_DCAA}\n",
    "\n",
    "DCAA_df = pd.DataFrame.from_dict(DCAA)\n",
    "\n",
    "DCAA_df"
   ]
  },
  {
   "cell_type": "code",
   "execution_count": 23,
   "metadata": {},
   "outputs": [
    {
     "data": {
      "text/html": [
       "<div>\n",
       "<style scoped>\n",
       "    .dataframe tbody tr th:only-of-type {\n",
       "        vertical-align: middle;\n",
       "    }\n",
       "\n",
       "    .dataframe tbody tr th {\n",
       "        vertical-align: top;\n",
       "    }\n",
       "\n",
       "    .dataframe thead th {\n",
       "        text-align: right;\n",
       "    }\n",
       "</style>\n",
       "<table border=\"1\" class=\"dataframe\">\n",
       "  <thead>\n",
       "    <tr style=\"text-align: right;\">\n",
       "      <th></th>\n",
       "      <th>RMSE_{CV}</th>\n",
       "      <th>Q^2</th>\n",
       "      <th>RMSE_{ext}</th>\n",
       "      <th>R^2_{ext}</th>\n",
       "      <th>LOO-RMSE</th>\n",
       "      <th>LOO-Q^2</th>\n",
       "    </tr>\n",
       "  </thead>\n",
       "  <tbody>\n",
       "    <tr>\n",
       "      <th>RF_opt</th>\n",
       "      <td>1.240628</td>\n",
       "      <td>0.507552</td>\n",
       "      <td>1.166872</td>\n",
       "      <td>0.584302</td>\n",
       "      <td>1.193613</td>\n",
       "      <td>0.564013</td>\n",
       "    </tr>\n",
       "    <tr>\n",
       "      <th>SVR_{rbf}_opt</th>\n",
       "      <td>1.290184</td>\n",
       "      <td>0.467705</td>\n",
       "      <td>1.214291</td>\n",
       "      <td>0.549830</td>\n",
       "      <td>1.187859</td>\n",
       "      <td>0.568207</td>\n",
       "    </tr>\n",
       "  </tbody>\n",
       "</table>\n",
       "</div>"
      ],
      "text/plain": [
       "               RMSE_{CV}       Q^2  RMSE_{ext}  R^2_{ext}  LOO-RMSE   LOO-Q^2\n",
       "RF_opt          1.240628  0.507552    1.166872   0.584302  1.193613  0.564013\n",
       "SVR_{rbf}_opt   1.290184  0.467705    1.214291   0.549830  1.187859  0.568207"
      ]
     },
     "execution_count": 23,
     "metadata": {},
     "output_type": "execute_result"
    }
   ],
   "source": [
    "TCAA = {\"RMSE_{CV}\" : rmse_TCAA_cv,\n",
    "        \"Q^2\" :r2_TCAA_cv,\n",
    "       \"RMSE_{ext}\" : rmse_TCAA_ext,\n",
    "       \"R^2_{ext}\" : r2_TCAA_ext,\n",
    "       \"LOO-RMSE\" : loo_rmse_TCAA,\n",
    "       \"LOO-Q^2\" : loo_q2_TCAA}\n",
    "\n",
    "TCAA_df = pd.DataFrame.from_dict(TCAA)\n",
    "\n",
    "TCAA_df"
   ]
  },
  {
   "cell_type": "code",
   "execution_count": 24,
   "metadata": {},
   "outputs": [
    {
     "name": "stdout",
     "output_type": "stream",
     "text": [
      "\\begin{tabular}{lrrrrrr}\n",
      "\\toprule\n",
      "{} &  RMSE\\_\\{CV\\} &       Q\\textasciicircum 2 &  RMSE\\_\\{ext\\} &  R\\textasciicircum 2\\_\\{ext\\} &  LOO-RMSE &   LOO-Q\\textasciicircum 2 \\\\\n",
      "\\midrule\n",
      "RF\\_opt        &   1.089201 &  0.284406 &    1.036384 &    0.41802 &  1.038827 &  0.388838 \\\\\n",
      "SVR\\_\\{rbf\\}\\_opt &   1.083005 &  0.291494 &    1.015744 &    0.44097 &  0.991441 &  0.443323 \\\\\n",
      "\\bottomrule\n",
      "\\end{tabular}\n",
      "\n"
     ]
    }
   ],
   "source": [
    "print(pd.DataFrame.to_latex(DCAA_df, index = True))"
   ]
  },
  {
   "cell_type": "code",
   "execution_count": 25,
   "metadata": {},
   "outputs": [
    {
     "name": "stdout",
     "output_type": "stream",
     "text": [
      "\\begin{tabular}{lrrrrrr}\n",
      "\\toprule\n",
      "{} &  RMSE\\_\\{CV\\} &       Q\\textasciicircum 2 &  RMSE\\_\\{ext\\} &  R\\textasciicircum 2\\_\\{ext\\} &  LOO-RMSE &   LOO-Q\\textasciicircum 2 \\\\\n",
      "\\midrule\n",
      "RF\\_opt        &   1.240628 &  0.507552 &    1.166872 &   0.584302 &  1.193613 &  0.564013 \\\\\n",
      "SVR\\_\\{rbf\\}\\_opt &   1.290184 &  0.467705 &    1.214291 &   0.549830 &  1.187859 &  0.568207 \\\\\n",
      "\\bottomrule\n",
      "\\end{tabular}\n",
      "\n"
     ]
    }
   ],
   "source": [
    "print(pd.DataFrame.to_latex(TCAA_df, index = True))"
   ]
  },
  {
   "cell_type": "markdown",
   "metadata": {},
   "source": [
    "## Plotting the new regressors - with the scores"
   ]
  },
  {
   "cell_type": "code",
   "execution_count": 26,
   "metadata": {},
   "outputs": [],
   "source": [
    "%store -r X_train\n",
    "%store  -r X_test  \n",
    "%store -r y_train\n",
    "%store -r  y_test"
   ]
  },
  {
   "cell_type": "code",
   "execution_count": 27,
   "metadata": {},
   "outputs": [
    {
     "name": "stderr",
     "output_type": "stream",
     "text": [
      "/Users/andrescordero/anaconda3/envs/my-rdkit-env/lib/python3.6/site-packages/ipykernel_launcher.py:21: UserWarning: The handle <matplotlib.lines.Line2D object at 0x1a1f807a58> has a label of '_fit' which cannot be automatically added to the legend.\n"
     ]
    },
    {
     "data": {
      "image/png": "[encoded data removed]",
      "text/plain": [
       "<Figure size 864x288 with 2 Axes>"
      ]
     },
     "metadata": {
      "needs_background": "light"
     },
     "output_type": "display_data"
    },
    {
     "name": "stderr",
     "output_type": "stream",
     "text": [
      "/Users/andrescordero/anaconda3/envs/my-rdkit-env/lib/python3.6/site-packages/ipykernel_launcher.py:21: UserWarning: The handle <matplotlib.lines.Line2D object at 0x1a1ed6bba8> has a label of '_fit' which cannot be automatically added to the legend.\n"
     ]
    },
    {
     "data": {
      "image/png": "[encoded data removed]",
      "text/plain": [
       "<Figure size 864x288 with 2 Axes>"
      ]
     },
     "metadata": {
      "needs_background": "light"
     },
     "output_type": "display_data"
    }
   ],
   "source": [
    "for a in reg_list_DCAA:\n",
    "    fig, axs = plt.subplots(2, sharex=True, sharey=True, figsize = (12,4))\n",
    "\n",
    "\n",
    "    p1 = plt.subplot(121)\n",
    "    p1.axis([-.2, 8, -.2, 8])\n",
    "    p1.scatter((y_train[:,0]), (DCAA_regressors[a].predict(scaler.transform(X_train))), color='orange')\n",
    "    p1.scatter((y_test[:,0]), (y_pred_DCAA[a]), color = \"blue\")\n",
    "    p1.plot([-1, 8], [-1, 8], color='r')\n",
    "    p1.set_title('DCAAFP')\n",
    "    p1.text(4,7,\"R$^2_{ext}$ = %f\" %r2_DCAA_ext[a], horizontalalignment = \"center\", fontsize = 10)\n",
    "    p1.text(4,6.5,\"LOO-Q$^{2}$ = %f\" %loo_q2_DCAA[a], horizontalalignment = \"center\", fontsize = 10)\n",
    "\n",
    "    plt.ylabel(\"Predicted values (log scale)\")\n",
    "\n",
    "    p2 = plt.subplot(122)\n",
    "    p2.axis([-.5, 8, -.5, 8])\n",
    "    p2.scatter((y_train[:,1]), (TCAA_regressors[a].predict(scaler.transform(X_train))), color='orange')\n",
    "    p2.scatter((y_test[:,1]), (y_pred_TCAA[a]), color = \"blue\")\n",
    "    p2.plot([-1, 8], [-1, 8], color='r')\n",
    "    p2.legend((\"_fit\",\"Train\",\"Test\" ), edgecolor = \"black\", mode = \"none\", loc = \"upper left\")\n",
    "    p2.set_title('TCAAFP')\n",
    "    p2.text(4,7,\"R$^2_{CV}$ = %f\" %r2_TCAA_ext[a], horizontalalignment = \"center\", fontsize = 10)\n",
    "    p2.text(4,6.5,\"LOO-Q$^{2}$ = %f\" %loo_q2_DCAA[a], horizontalalignment = \"center\", fontsize = 10)\n",
    "\n",
    "\n",
    "\n",
    "    plt.text(-2,-2,\"Experimental values (log scale)\", horizontalalignment = \"center\", fontsize = 10)\n",
    "\n",
    "\n",
    "    plt.savefig(\"../Jupyter/results/figures/optimized_\" + str(a) + \"_20200505.pdf\")\n",
    "    plt.show()"
   ]
  },
  {
   "cell_type": "code",
   "execution_count": null,
   "metadata": {},
   "outputs": [],
   "source": []
  },
  {
   "cell_type": "code",
   "execution_count": null,
   "metadata": {},
   "outputs": [],
   "source": []
  },
  {
   "cell_type": "code",
   "execution_count": null,
   "metadata": {},
   "outputs": [],
   "source": []
  },
  {
   "cell_type": "code",
   "execution_count": null,
   "metadata": {},
   "outputs": [],
   "source": []
  },
  {
   "cell_type": "code",
   "execution_count": null,
   "metadata": {},
   "outputs": [],
   "source": []
  },
  {
   "cell_type": "code",
   "execution_count": null,
   "metadata": {},
   "outputs": [],
   "source": []
  },
  {
   "cell_type": "code",
   "execution_count": null,
   "metadata": {},
   "outputs": [],
   "source": []
  },
  {
   "cell_type": "code",
   "execution_count": null,
   "metadata": {},
   "outputs": [],
   "source": []
  },
  {
   "cell_type": "code",
   "execution_count": null,
   "metadata": {},
   "outputs": [],
   "source": []
  },
  {
   "cell_type": "code",
   "execution_count": null,
   "metadata": {},
   "outputs": [],
   "source": []
  },
  {
   "cell_type": "code",
   "execution_count": null,
   "metadata": {},
   "outputs": [],
   "source": []
  },
  {
   "cell_type": "code",
   "execution_count": null,
   "metadata": {},
   "outputs": [],
   "source": []
  },
  {
   "cell_type": "code",
   "execution_count": null,
   "metadata": {},
   "outputs": [],
   "source": []
  },
  {
   "cell_type": "code",
   "execution_count": null,
   "metadata": {},
   "outputs": [],
   "source": []
  },
  {
   "cell_type": "code",
   "execution_count": null,
   "metadata": {},
   "outputs": [],
   "source": []
  },
  {
   "cell_type": "code",
   "execution_count": null,
   "metadata": {},
   "outputs": [],
   "source": []
  },
  {
   "cell_type": "code",
   "execution_count": null,
   "metadata": {},
   "outputs": [],
   "source": []
  },
  {
   "cell_type": "code",
   "execution_count": null,
   "metadata": {},
   "outputs": [],
   "source": []
  },
  {
   "cell_type": "code",
   "execution_count": null,
   "metadata": {},
   "outputs": [],
   "source": []
  },
  {
   "cell_type": "code",
   "execution_count": null,
   "metadata": {},
   "outputs": [],
   "source": []
  },
  {
   "cell_type": "code",
   "execution_count": null,
   "metadata": {},
   "outputs": [],
   "source": []
  },
  {
   "cell_type": "code",
   "execution_count": null,
   "metadata": {},
   "outputs": [],
   "source": []
  },
  {
   "cell_type": "code",
   "execution_count": null,
   "metadata": {},
   "outputs": [],
   "source": []
  },
  {
   "cell_type": "code",
   "execution_count": null,
   "metadata": {},
   "outputs": [],
   "source": []
  },
  {
   "cell_type": "code",
   "execution_count": null,
   "metadata": {},
   "outputs": [],
   "source": []
  },
  {
   "cell_type": "code",
   "execution_count": null,
   "metadata": {},
   "outputs": [],
   "source": []
  },
  {
   "cell_type": "code",
   "execution_count": null,
   "metadata": {},
   "outputs": [],
   "source": []
  },
  {
   "cell_type": "code",
   "execution_count": null,
   "metadata": {},
   "outputs": [],
   "source": []
  },
  {
   "cell_type": "code",
   "execution_count": null,
   "metadata": {},
   "outputs": [],
   "source": []
  },
  {
   "cell_type": "code",
   "execution_count": null,
   "metadata": {},
   "outputs": [],
   "source": []
  },
  {
   "cell_type": "code",
   "execution_count": null,
   "metadata": {},
   "outputs": [],
   "source": []
  },
  {
   "cell_type": "code",
   "execution_count": null,
   "metadata": {},
   "outputs": [],
   "source": []
  },
  {
   "cell_type": "code",
   "execution_count": null,
   "metadata": {},
   "outputs": [],
   "source": []
  }
 ],
 "metadata": {
  "kernelspec": {
   "display_name": "Python 3",
   "language": "python",
   "name": "python3"
  },
  "language_info": {
   "codemirror_mode": {
    "name": "ipython",
    "version": 3
   },
   "file_extension": ".py",
   "mimetype": "text/x-python",
   "name": "python",
   "nbconvert_exporter": "python",
   "pygments_lexer": "ipython3",
   "version": "3.6.4"
  }
 },
 "nbformat": 4,
 "nbformat_minor": 4
}
