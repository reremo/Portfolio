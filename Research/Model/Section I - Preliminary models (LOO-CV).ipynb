{
 "cells": [
  {
   "cell_type": "markdown",
   "metadata": {},
   "source": [
    "## Import File"
   ]
  },
  {
   "cell_type": "code",
   "execution_count": 1,
   "metadata": {},
   "outputs": [],
   "source": [
    "%matplotlib inline "
   ]
  },
  {
   "cell_type": "code",
   "execution_count": 2,
   "metadata": {},
   "outputs": [],
   "source": [
    "import numpy as np\n",
    "import matplotlib.pyplot as plt\n",
    "import pandas as pd\n",
    "import sklearn\n",
    "\n",
    "from rdkit import Chem\n",
    "\n",
    "from sklearn.preprocessing import StandardScaler\n",
    "from sklearn import model_selection\n",
    "from sklearn.model_selection import LeaveOneOut\n",
    "from sklearn import metrics\n",
    "from sklearn.metrics import mean_squared_error\n",
    "\n",
    "from statistics import mean\n",
    "\n",
    "from math import sqrt"
   ]
  },
  {
   "cell_type": "code",
   "execution_count": 3,
   "metadata": {},
   "outputs": [],
   "source": [
    "from sklearn.ensemble import RandomForestRegressor"
   ]
  },
  {
   "cell_type": "code",
   "execution_count": 4,
   "metadata": {},
   "outputs": [],
   "source": [
    "from sklearn import svm\n",
    "#from sklearn.ensemble import RandomForestRegressor\n",
    "from sklearn.neural_network import MLPRegressor\n",
    "from sklearn import linear_model"
   ]
  },
  {
   "cell_type": "code",
   "execution_count": 5,
   "metadata": {},
   "outputs": [],
   "source": [
    " #These are stored after running the \"Data preprocessing\" notebook\n",
    "\n",
    "%store -r X_train         \n",
    "%store  -r X_test\n",
    "\n",
    "%store -r y_train\n",
    "%store -r  y_test\n",
    "\n",
    "%store -r X\n",
    "%store -r log_y\n"
   ]
  },
  {
   "cell_type": "markdown",
   "metadata": {},
   "source": [
    "## Scaling and Training "
   ]
  },
  {
   "cell_type": "code",
   "execution_count": 6,
   "metadata": {},
   "outputs": [],
   "source": [
    "# scale x_train\n",
    "scaler = StandardScaler().fit(X)\n",
    "X_scaled = scaler.transform(X)\n",
    "\n",
    "scaler = StandardScaler().fit(X_train)\n",
    "X_train_scaled = scaler.transform(X_train)\n",
    "X_test_scaled = scaler.transform(X_test)\n",
    "\n"
   ]
  },
  {
   "cell_type": "markdown",
   "metadata": {},
   "source": [
    "## Dictionary of regressors"
   ]
  },
  {
   "cell_type": "code",
   "execution_count": 7,
   "metadata": {},
   "outputs": [],
   "source": [
    "# define a dictionary regressors() were all regressors are stored\n",
    "\n",
    "DCAA_regressors = {\"RF\" : RandomForestRegressor(random_state = 17),\n",
    "              \"SVR_{rbf}\" : svm.SVR(),\n",
    "              \"SVR_{linear}\" : svm.SVR(kernel = \"linear\"),\n",
    "                  \"MLP\" : MLPRegressor(solver = \"lbfgs\", max_iter = 400, random_state = 17),\n",
    "                  \"MLR\" : linear_model.LinearRegression()}\n",
    "    "
   ]
  },
  {
   "cell_type": "code",
   "execution_count": 8,
   "metadata": {},
   "outputs": [],
   "source": [
    "# define a dictionary regressors() were all regressors are stored\n",
    "\n",
    "TCAA_regressors = {\"RF\" : RandomForestRegressor(random_state = 17),\n",
    "              \"SVR_{rbf}\" : svm.SVR(),\n",
    "              \"SVR_{linear}\" : svm.SVR(kernel = \"linear\"),\n",
    "                  \"MLP\" : MLPRegressor(solver = \"lbfgs\", max_iter = 400, random_state = 17),\n",
    "                  \"MLR\" : linear_model.LinearRegression()}\n",
    "    "
   ]
  },
  {
   "cell_type": "code",
   "execution_count": 9,
   "metadata": {},
   "outputs": [],
   "source": [
    "# get scores for DCAA\n",
    "\n",
    "y_pred_DCAA = dict()\n",
    "r2_DCAA_cv = dict()\n",
    "rmse_DCAA_cv = dict()\n",
    "r2_DCAA_ext = dict ()\n",
    "rmse_DCAA_ext = dict()\n",
    "\n",
    "\n",
    "reg_list_DCAA = DCAA_regressors.keys()\n",
    "\n",
    "for a in reg_list_DCAA:\n",
    "    DCAA_regressors[a] = DCAA_regressors[a].fit(X_train_scaled, y_train[:,0])\n",
    "    y_pred_DCAA[a] = DCAA_regressors[a].predict(X_test_scaled)\n",
    "    \n",
    "    r2_DCAA_cv[a] = model_selection.cross_validate(DCAA_regressors[a], X_train_scaled,y_train[:,0], scoring = \"r2\", cv = 5)\n",
    "    r2_DCAA_cv[a] = mean(r2_DCAA_cv[a][\"test_score\"])\n",
    "    rmse_DCAA_cv[a] = model_selection.cross_validate(DCAA_regressors[a], X_train_scaled,y_train[:,0], scoring = \"neg_root_mean_squared_error\", cv = 5)\n",
    "    rmse_DCAA_cv[a] = -mean(rmse_DCAA_cv[a][\"test_score\"])\n",
    "    \n",
    "    r2_DCAA_ext[a] = DCAA_regressors[a].score(X_test_scaled, y_test[:,0])\n",
    "    rmse_DCAA_ext[a] = sqrt(mean_squared_error(y_test[:,0], (y_pred_DCAA[a])))\n",
    "\n"
   ]
  },
  {
   "cell_type": "code",
   "execution_count": 10,
   "metadata": {},
   "outputs": [
    {
     "name": "stdout",
     "output_type": "stream",
     "text": [
      "{'RF': 0.07088550695793006, 'SVR_{rbf}': 0.4000501014173681, 'SVR_{linear}': -11.872446267696033, 'MLP': -4.319283237844951, 'MLR': -68.62458458252267}\n",
      "{'RF': 1.235657742644714, 'SVR_{rbf}': 0.9929355720756857, 'SVR_{linear}': 4.599325236576214, 'MLP': 2.9565834089549172, 'MLR': 10.696578580816558}\n"
     ]
    }
   ],
   "source": [
    "print(r2_DCAA_ext)\n",
    "print(rmse_DCAA_ext)"
   ]
  },
  {
   "cell_type": "code",
   "execution_count": 11,
   "metadata": {},
   "outputs": [],
   "source": [
    "# get scores for TCAA\n",
    "\n",
    "y_pred_TCAA = dict()\n",
    "\n",
    "r2_TCAA_cv = dict()\n",
    "rmse_TCAA_cv = dict()\n",
    "r2_TCAA_ext = dict ()\n",
    "rmse_TCAA_ext = dict()\n",
    "\n",
    "\n",
    "reg_list_TCAA = TCAA_regressors.keys()\n",
    "\n",
    "for a in reg_list_TCAA:\n",
    "    TCAA_regressors[a] = TCAA_regressors[a].fit(X_train_scaled, y_train[:,1])\n",
    "    y_pred_TCAA[a] = TCAA_regressors[a].predict(X_test_scaled)\n",
    "    \n",
    "    r2_TCAA_cv[a] = model_selection.cross_validate(TCAA_regressors[a], X_train_scaled,y_train[:,1], scoring = \"r2\", cv =5 )\n",
    "    r2_TCAA_cv[a] = mean(r2_TCAA_cv[a][\"test_score\"])\n",
    "    rmse_TCAA_cv[a] = model_selection.cross_validate(TCAA_regressors[a], X_train_scaled,y_train[:,1], scoring = \"neg_root_mean_squared_error\", cv =5 )\n",
    "    rmse_TCAA_cv[a] = -mean(rmse_TCAA_cv[a][\"test_score\"])\n",
    "    r2_TCAA_ext[a] = TCAA_regressors[a].score(X_test_scaled, y_test[:,1])\n",
    "    rmse_TCAA_ext[a] = sqrt(mean_squared_error(y_test[:,1], (y_pred_TCAA[a])))"
   ]
  },
  {
   "cell_type": "code",
   "execution_count": null,
   "metadata": {},
   "outputs": [],
   "source": [
    "#print(r2_TCAA_ext)\n",
    "#print(rmse_TCAA_ext)"
   ]
  },
  {
   "cell_type": "code",
   "execution_count": null,
   "metadata": {},
   "outputs": [],
   "source": [
    "# calculate the leave one out cross validation for DCAA\n",
    "\n",
    "\n",
    "loo_q2_DCAA = dict()\n",
    "loo_rmse_DCAA = dict ()\n",
    "\n",
    "\n",
    "reg_list_DCAA = DCAA_regressors.keys()\n",
    "\n",
    "Xr = X_scaled\n",
    "yr = log_y[:,0]\n",
    "\n",
    "for a in reg_list_DCAA:\n",
    "    loo = LeaveOneOut()\n",
    "    ytests = []\n",
    "    ypreds = []\n",
    "    for train_idx, test_idx in loo.split(Xr):\n",
    "        X_train, X_test = Xr[train_idx], Xr[test_idx] #requires arrays\n",
    "        y_train, y_test = yr[train_idx], yr[test_idx]\n",
    "    \n",
    "        #model = svm.SVR(kernel = \"linear\")\n",
    "        DCAA_regressors[a].fit(X = X_train, y = y_train) \n",
    "        y_pred = DCAA_regressors[a].predict(X_test)\n",
    "        \n",
    "        # there is only one y-test and y-pred per iteration over the loo.split, \n",
    "        # so to get a proper graph, we append them to respective lists.\n",
    "        \n",
    "        ytests += list(y_test)\n",
    "        ypreds += list(y_pred)\n",
    "        \n",
    "    loo_q2_DCAA[a] = metrics.r2_score(ytests, ypreds)\n",
    "    loo_rmse_DCAA[a] = metrics.mean_squared_error(ytests, ypreds, squared = False)\n",
    "        \n",
    "    print(\"Leave One Out Cross Validation\" + str(a))\n",
    "    print(\"LOO $Q^2$: {:.5f}, MSE: {:.5f}\".format(loo_q2_DCAA[a], loo_rmse_DCAA[a]))"
   ]
  },
  {
   "cell_type": "code",
   "execution_count": null,
   "metadata": {},
   "outputs": [],
   "source": [
    "#Calculate the LOO-CV for TCAA\n",
    "\n",
    "loo_q2_TCAA = dict()\n",
    "loo_rmse_TCAA = dict ()\n",
    "\n",
    "reg_list_TCAA = TCAA_regressors.keys()\n",
    "\n",
    "Xr = X_scaled\n",
    "yr = log_y[:,1]\n",
    "\n",
    "for a in reg_list_TCAA:\n",
    "    loo = LeaveOneOut()\n",
    "    ytests = []\n",
    "    ypreds = []\n",
    "    for train_idx, test_idx in loo.split(Xr):\n",
    "        X_train, X_test = Xr[train_idx], Xr[test_idx] #requires arrays\n",
    "        y_train, y_test = yr[train_idx], yr[test_idx]\n",
    "    \n",
    "        #model = svm.SVR(kernel = \"linear\")\n",
    "        TCAA_regressors[a].fit(X = X_train, y = y_train) \n",
    "        y_pred = TCAA_regressors[a].predict(X_test)\n",
    "        \n",
    "        # there is only one y-test and y-pred per iteration over the loo.split, \n",
    "        # so to get a proper graph, we append them to respective lists.\n",
    "        \n",
    "        ytests += list(y_test)\n",
    "        ypreds += list(y_pred)\n",
    "    \n",
    "    plt.axis([-.5, 8, -.5, 8])\n",
    "    plt.scatter(ytests,ypreds)\n",
    "    plt.plot([-1, 8], [-1, 8], color='r')\n",
    "    plt.savefig(\"../Jupyter/results/figures/LOO_TCAA_\" + str(a) + \"_20200505.pdf\")\n",
    "    plt.show\n",
    "        \n",
    "    loo_q2_TCAA[a] = metrics.r2_score(ytests, ypreds)\n",
    "    loo_rmse_TCAA[a] = metrics.mean_squared_error(ytests, ypreds, squared = False)\n",
    "        \n",
    "    print(\"Leave One Out Cross Validation\")\n",
    "    print(\"LOO $Q^2$: {:.5f}%, RMSE: {:.5f}\".format(loo_q2_TCAA[a], loo_rmse_TCAA[a]))"
   ]
  },
  {
   "cell_type": "code",
   "execution_count": null,
   "metadata": {},
   "outputs": [],
   "source": [
    "\n",
    "plt.axis([-.5, 8, -.5, 8])\n",
    "plt.scatter(ytests,ypreds)\n",
    "plt.plot([-1, 8], [-1, 8], color='r')\n",
    "plt.savefig(\"../Jupyter/results/figures/LOO_TCAA_\" + str(a) + \"_202000505.pdf\")\n",
    "plt.show\n",
    "\n"
   ]
  },
  {
   "cell_type": "code",
   "execution_count": null,
   "metadata": {},
   "outputs": [],
   "source": [
    "DCAA = {\"RMSE_{CV}\" : rmse_DCAA_cv,\n",
    "        \"Q^2\" :r2_DCAA_cv,\n",
    "       \"RMSE_{ext}\" : rmse_DCAA_ext,\n",
    "       \"R^2_{ext}\" : r2_DCAA_ext,\n",
    "       \"LOO-RMSE\" : loo_rmse_DCAA,\n",
    "       \"LOO-Q^2\" : loo_q2_DCAA}\n",
    "\n",
    "DCAA_df = pd.DataFrame.from_dict(DCAA)\n",
    "\n",
    "DCAA_df"
   ]
  },
  {
   "cell_type": "code",
   "execution_count": null,
   "metadata": {},
   "outputs": [],
   "source": [
    "TCAA = {\"RMSE_{CV}\" : rmse_TCAA_cv,\n",
    "        \"Q^2\" :r2_TCAA_cv,\n",
    "       \"RMSE_{ext}\" : rmse_TCAA_ext,\n",
    "       \"R^2_{ext}\" : r2_TCAA_ext,\n",
    "       \"LOO-RMSE\" : loo_rmse_TCAA,\n",
    "       \"LOO-Q^2\" : loo_q2_TCAA}\n",
    "\n",
    "TCAA_df = pd.DataFrame.from_dict(TCAA)\n",
    "\n",
    "TCAA_df"
   ]
  },
  {
   "cell_type": "code",
   "execution_count": null,
   "metadata": {},
   "outputs": [],
   "source": [
    "table_dict = {\"DCAA \": DCAA,\n",
    "             \"TCAA\" : TCAA}"
   ]
  },
  {
   "cell_type": "code",
   "execution_count": null,
   "metadata": {},
   "outputs": [],
   "source": [
    "print(pd.DataFrame.to_latex(DCAA_df, index = True))"
   ]
  },
  {
   "cell_type": "code",
   "execution_count": null,
   "metadata": {},
   "outputs": [],
   "source": [
    "# \\begin{array}{ccccc}\n",
    "# \\hline & & DCAA & & \\\\\n",
    "# \\hline  & RMSE_{CV} & Q^2 & RMSE_{ext} & R^2_{ext}  \\\\\\hline\n",
    "# RF           &  1.26 &  0.08 &  1.01 &  0.42 \\\\\n",
    "# SVR_{rbf}    &  1.19 &  0.26 &  0.99 &  0.44 \\\\\n",
    "# SVR_{linear} &  2.43 & -3.57 &  3.48 & -5.84 \\\\\n",
    "# MLP          &  1.51 & -0.49 &  1.24 &  0.13 \\\\\n",
    "# MLR          &  6.86x10^{11} & -1.78x10^{24} &  3.74x10^{11} & -7.90x10^{22} \\\\\n",
    "# \\end{array}"
   ]
  },
  {
   "cell_type": "code",
   "execution_count": null,
   "metadata": {},
   "outputs": [],
   "source": [
    "print(pd.DataFrame.to_latex(TCAA_df, index = True))"
   ]
  },
  {
   "cell_type": "code",
   "execution_count": null,
   "metadata": {},
   "outputs": [],
   "source": [
    "# \\begin{array}{ccccc}\n",
    "# \\hline & & TCAA & & \\\\\n",
    "# \\hline  & RMSE_{CV} & Q^2 & RMSE_{ext} & R^2_{ext}  \\\\\\hline\n",
    "# RF           &  1.24 &  0.54 &  1.27 &  0.50 \\\\\n",
    "# SVR_{rbf}    &  1.38 &  0.44 &  1.20 &  0.55 \\\\\n",
    "# SVR_{linear} &  3.48 & -3.38 &  3.32 & -2.42 \\\\\n",
    "# MLP          &  1.66 &  0.16 &  1.67 &  0.13 \\\\\n",
    "# MLR          &  5.01x10^{11} & -2.52x10^{23} &  1.73x10^{12} & -9.312x10^{23} \\\\\n",
    "# \\end{array}"
   ]
  },
  {
   "cell_type": "markdown",
   "metadata": {},
   "source": [
    "\\begin{array}{lcccccccc}\n",
    "\\hline & & DCAA & & & & TCAA & \\\\\n",
    "\\hline  & RMSE_{CV} & Q^2 & RMSE_{ext} & R^2_{ext}  & RMSE_{CV} & Q^2 & RMSE_{ext} & R^2_{ext} \\\\\\hline\n",
    "RF           &  1.26 &  0.08 &  1.01 &  0.42 &  1.24 &  0.54 &  1.27 &  0.50 \\\\\n",
    "SVR_{rbf}    &  1.19 &  0.26 &  0.99 &  0.44 &  1.38 &  0.44 &  1.20 &  0.55 \\\\\n",
    "SVR_{linear} &  2.43 & -3.57 &  3.48 & -5.84 &  3.48 & -3.38 &  3.32 & -2.42 \\\\\n",
    "MLP          &  1.51 & -0.49 &  1.24 &  0.13 &  1.66 &  0.16 &  1.67 &  0.13 \\\\\n",
    "MLR          &  5.007518e+11 & -2.519059e+23 &  1.730859e+12 & -9.319042e+23  &  5.01x10^{11} & -2.52x10^{23} &  1.73x10^{12} & -9.312x10^{23} \\\\\\hline\n",
    "\\end{array}"
   ]
  },
  {
   "cell_type": "markdown",
   "metadata": {},
   "source": [
    "# Scale & Support Vector Regression - Linear"
   ]
  },
  {
   "cell_type": "code",
   "execution_count": null,
   "metadata": {},
   "outputs": [],
   "source": [
    "#too many indices for array error - I guess I need to redifine and refit the regressors \n",
    "#probably if I get the LOO-CV first and then the external it would be ok. \n",
    "#Lets check for coherenece"
   ]
  },
  {
   "cell_type": "code",
   "execution_count": null,
   "metadata": {},
   "outputs": [],
   "source": [
    "for a in reg_list_DCAA:\n",
    "    fig, axs = plt.subplots(2, sharex=True, sharey=True, figsize = (12,4))\n",
    "\n",
    "\n",
    "    p1 = plt.subplot(121)\n",
    "    p1.axis([-.2, 8, -.2, 8])\n",
    "    p1.scatter((y_train[:,0]), (DCAA_regressors[a].predict(scaler.transform(X_train))), color='orange')\n",
    "    p1.scatter((y_test[:,0]), (y_pred_DCAA[a]), color = \"blue\")\n",
    "    p1.plot([-1, 8], [-1, 8], color='r')\n",
    "    p1.set_title('DCAAFP')\n",
    "    p1.text(4,7,\"R$^2_{ext}$ = %f\" %r2_DCAA_ext[a], horizontalalignment = \"center\", fontsize = 10)\n",
    "    p1.text(4,6.5,\"LOO-Q$^{2}$ = %f\" %loo_q2_DCAA[a], horizontalalignment = \"center\", fontsize = 10)\n",
    "\n",
    "    plt.ylabel(\"Predicted values (log scale)\")\n",
    "\n",
    "    p2 = plt.subplot(122)\n",
    "    p2.axis([-.5, 8, -.5, 8])\n",
    "    p2.scatter((y_train[:,1]), (TCAA_regressors[a].predict(scaler.transform(X_train))), color='orange')\n",
    "    p2.scatter((y_test[:,1]), (y_pred_TCAA[a]), color = \"blue\")\n",
    "    p2.plot([-1, 8], [-1, 8], color='r')\n",
    "    p2.legend((\"_fit\",\"Train\",\"Test\" ), edgecolor = \"black\", mode = \"none\", loc = \"upper left\")\n",
    "    p2.set_title('TCAAFP')\n",
    "    p2.text(4,7,\"R$^2_{ext}$ = %f\" %r2_TCAA_ext[a], horizontalalignment = \"center\", fontsize = 10)\n",
    "    p2.text(4,6.5,\"LOO-Q$^{2}$ = %f\" %loo_q2_TCAA[a], horizontalalignment = \"center\", fontsize = 10)\n",
    "\n",
    "\n",
    "\n",
    "    plt.text(-2,-2,\"Experimental values (log scale)\", horizontalalignment = \"center\", fontsize = 10)\n",
    "\n",
    "\n",
    "    plt.savefig(\"../Jupyter/results/figures/\" + str(a) + \"_20200505.pdf\")\n",
    "    plt.show()"
   ]
  },
  {
   "cell_type": "code",
   "execution_count": null,
   "metadata": {},
   "outputs": [],
   "source": []
  },
  {
   "cell_type": "code",
   "execution_count": null,
   "metadata": {},
   "outputs": [],
   "source": []
  }
 ],
 "metadata": {
  "kernelspec": {
   "display_name": "Python 3",
   "language": "python",
   "name": "python3"
  },
  "language_info": {
   "codemirror_mode": {
    "name": "ipython",
    "version": 3
   },
   "file_extension": ".py",
   "mimetype": "text/x-python",
   "name": "python",
   "nbconvert_exporter": "python",
   "pygments_lexer": "ipython3",
   "version": "3.6.4"
  }
 },
 "nbformat": 4,
 "nbformat_minor": 4
}
