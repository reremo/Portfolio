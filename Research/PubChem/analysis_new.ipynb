{
 "cells": [
  {
   "cell_type": "markdown",
   "metadata": {},
   "source": [
    "## The purpose of this notebook is to explore the results of the prediction of HAAFPs of all compounds in the PubChem database\n",
    "#### The analysis includes:\n",
    ">* Show the general distribution of FPs over the whole PubChem database\n",
    ">* Divide the results in categories from very low to very high FPs\n",
    ">* Explore the most common functional groups found in each category\n",
    ">* Export examples of compounds with very high FPs\n",
    ">* Search for non-obvious examples of \"very high\" and \"very low\" HAAFPs\n",
    ">* Clustering? "
   ]
  },
  {
   "cell_type": "markdown",
   "metadata": {},
   "source": [
    "## We need to consider separating code that takes a long time to run from code that aims to show results in real time. \n",
    "#### For example: Sampling 1000 compounds 10 times for each category, getting the functional group counts and calculating mean and SDs takes a very long time. The output can be stored as a csv file.\n",
    "#### Then, generating the upsetplots that take the averages of the above files is very fast and it is the most important sections in terms of showing the results.   "
   ]
  },
  {
   "cell_type": "code",
   "execution_count": 1,
   "metadata": {},
   "outputs": [],
   "source": [
    "#pip install pubchempy cf_list"
   ]
  },
  {
   "cell_type": "code",
   "execution_count": 2,
   "metadata": {},
   "outputs": [],
   "source": [
    "#pip install upsetplot"
   ]
  },
  {
   "cell_type": "code",
   "execution_count": 3,
   "metadata": {},
   "outputs": [],
   "source": [
    "#conda install -c rdkit rdkit=2019.09.1"
   ]
  },
  {
   "cell_type": "code",
   "execution_count": 4,
   "metadata": {},
   "outputs": [],
   "source": [
    "#pip install pandas==1.2.4"
   ]
  },
  {
   "cell_type": "code",
   "execution_count": 4,
   "metadata": {},
   "outputs": [],
   "source": [
    "import pandas as pd\n",
    "import numpy as np\n",
    "import itertools\n",
    "import random\n",
    "random.seed(17)\n",
    "import matplotlib.pyplot as plt\n",
    "\n",
    "import pubchempy as pcp\n",
    "\n",
    "import rdkit\n",
    "from rdkit import Chem\n",
    "from rdkit.Chem import Fragments as fr\n",
    "from rdkit.Chem import PandasTools\n",
    "\n",
    "import upsetplot \n",
    "from upsetplot import plot as uplot\n",
    "from upsetplot import generate_counts\n",
    "from upsetplot import from_memberships\n"
   ]
  },
  {
   "cell_type": "code",
   "execution_count": 5,
   "metadata": {},
   "outputs": [],
   "source": [
    "def show_romol(df):\n",
    "    cid_list = list(df[\"CID\"])\n",
    "    properties = ['IUPACName','CanonicalSMILES','MolecularFormula']\n",
    "    show_df = pd.DataFrame(pcp.get_properties(properties, cid_list, 'cid'))\n",
    "    show_df = pd.concat([df,show_df],axis = 1)\n",
    "    PandasTools.AddMoleculeColumnToFrame(show_df, smilesCol='CanonicalSMILES', includeFingerprints=False)\n",
    "    show_df = show_df[[\"CID\",\"log10_TCAA\",\"log10_DCAA\",\"IUPACName\",\"ROMol\"]]\n",
    "    return show_df"
   ]
  },
  {
   "cell_type": "markdown",
   "metadata": {},
   "source": [
    "#### Results are joined in single dataframe "
   ]
  },
  {
   "cell_type": "code",
   "execution_count": 6,
   "metadata": {},
   "outputs": [
    {
     "name": "stdout",
     "output_type": "stream",
     "text": [
      "5\n",
      "10\n"
     ]
    }
   ],
   "source": [
    "result_df1 = pd.read_csv(\"/Volumes/SONY_128CA2/result_TCAA_DCAA1.csv\")\n",
    "result_df2 = pd.read_csv(\"/Volumes/SONY_128CA2/result_TCAA_DCAA2.csv\")\n",
    "result_df3 = pd.read_csv(\"/Volumes/SONY_128CA2/result_TCAA_DCAA3.csv\")\n",
    "result_df4 = pd.read_csv(\"/Volumes/SONY_128CA2/result_TCAA_DCAA4.csv\")\n",
    "result_df5 = pd.read_csv(\"/Volumes/SONY_128CA2/result_TCAA_DCAA5.csv\")\n",
    "print(\"5\")\n",
    "result_df6 = pd.read_csv(\"/Volumes/SONY_128CA2/result_TCAA_DCAA6.csv\")\n",
    "result_df7 = pd.read_csv(\"/Volumes/SONY_128CA2/result_TCAA_DCAA7.csv\")\n",
    "result_df8 = pd.read_csv(\"/Volumes/SONY_128CA2/result_TCAA_DCAA8.csv\")\n",
    "result_df9 = pd.read_csv(\"/Volumes/SONY_128CA2/result_TCAA_DCAA9.csv\")\n",
    "result_df10 = pd.read_csv(\"/Volumes/SONY_128CA2/result_TCAA_DCAA10.csv\")\n",
    "print(\"10\")\n",
    "result_df11 = pd.read_csv(\"/Volumes/SONY_128CA2/result_TCAA_DCAA11.csv\")\n",
    "result_df12 = pd.read_csv(\"/Volumes/SONY_128CA2/result_TCAA_DCAA12.csv\")\n",
    "# result_df1 = pd.read_csv(\"/Users/andrescordero/Downloads/PubChem_data/result_TCAA_DCAA1.csv\")\n",
    "# result_df2 = pd.read_csv(\"/Users/andrescordero/Downloads/PubChem_data/result_TCAA_DCAA2.csv\")\n",
    "# result_df3 = pd.read_csv(\"/Users/andrescordero/Downloads/PubChem_data/result_TCAA_DCAA3.csv\")\n",
    "# result_df4 = pd.read_csv(\"/Users/andrescordero/Downloads/PubChem_data/result_TCAA_DCAA4.csv\")\n",
    "# result_df5 = pd.read_csv(\"/Users/andrescordero/Downloads/PubChem_data/result_TCAA_DCAA5.csv\")\n",
    "# print(\"...\")\n",
    "# result_df6 = pd.read_csv(\"/Users/andrescordero/Downloads/PubChem_data/result_TCAA_DCAA6.csv\")\n",
    "# result_df7 = pd.read_csv(\"/Users/andrescordero/Downloads/PubChem_data/result_TCAA_DCAA7.csv\")\n",
    "# result_df8 = pd.read_csv(\"/Users/andrescordero/Downloads/PubChem_data/result_TCAA_DCAA8.csv\")\n",
    "# result_df9 = pd.read_csv(\"/Users/andrescordero/Downloads/PubChem_data/result_TCAA_DCAA9.csv\")\n",
    "# result_df10 = pd.read_csv(\"/Users/andrescordero/Downloads/PubChem_data/result_TCAA_DCAA10.csv\")\n",
    "# print(\"...\")\n",
    "# result_df11 = pd.read_csv(\"/Users/andrescordero/Downloads/PubChem_data/result_TCAA_DCAA11.csv\")\n",
    "# result_df12 = pd.read_csv(\"/Users/andrescordero/Downloads/PubChem_data/result_TCAA_DCAA12.csv\")\n",
    "# print(\"done\")"
   ]
  },
  {
   "cell_type": "code",
   "execution_count": 7,
   "metadata": {},
   "outputs": [],
   "source": [
    "result_df = pd.concat([result_df1,result_df2,result_df3,result_df4,result_df5,result_df6,result_df7,result_df8,result_df9,result_df10,result_df11,result_df12], axis=0)\n",
    "#result_df = pd.read_csv(\"/Users/andrescordero/Downloads/result_TCAA_DCAA_May20_newPC.csv\")"
   ]
  },
  {
   "cell_type": "code",
   "execution_count": 8,
   "metadata": {
    "scrolled": true
   },
   "outputs": [
    {
     "data": {
      "text/plain": [
       "(111390281, 3)"
      ]
     },
     "execution_count": 8,
     "metadata": {},
     "output_type": "execute_result"
    }
   ],
   "source": [
    "result_df.shape\n"
   ]
  },
  {
   "cell_type": "code",
   "execution_count": 9,
   "metadata": {},
   "outputs": [
    {
     "data": {
      "text/html": [
       "<div>\n",
       "<style scoped>\n",
       "    .dataframe tbody tr th:only-of-type {\n",
       "        vertical-align: middle;\n",
       "    }\n",
       "\n",
       "    .dataframe tbody tr th {\n",
       "        vertical-align: top;\n",
       "    }\n",
       "\n",
       "    .dataframe thead th {\n",
       "        text-align: right;\n",
       "    }\n",
       "</style>\n",
       "<table border=\"1\" class=\"dataframe\">\n",
       "  <thead>\n",
       "    <tr style=\"text-align: right;\">\n",
       "      <th></th>\n",
       "      <th>CID</th>\n",
       "      <th>TCAA</th>\n",
       "      <th>DCAA</th>\n",
       "    </tr>\n",
       "  </thead>\n",
       "  <tbody>\n",
       "    <tr>\n",
       "      <th>0</th>\n",
       "      <td>49788089</td>\n",
       "      <td>6.057471</td>\n",
       "      <td>2.514149</td>\n",
       "    </tr>\n",
       "    <tr>\n",
       "      <th>1</th>\n",
       "      <td>10383</td>\n",
       "      <td>6.057471</td>\n",
       "      <td>2.514149</td>\n",
       "    </tr>\n",
       "    <tr>\n",
       "      <th>2</th>\n",
       "      <td>84709621</td>\n",
       "      <td>6.030990</td>\n",
       "      <td>2.325763</td>\n",
       "    </tr>\n",
       "    <tr>\n",
       "      <th>3</th>\n",
       "      <td>84711920</td>\n",
       "      <td>5.997079</td>\n",
       "      <td>2.541426</td>\n",
       "    </tr>\n",
       "    <tr>\n",
       "      <th>4</th>\n",
       "      <td>44154570</td>\n",
       "      <td>5.988623</td>\n",
       "      <td>2.553638</td>\n",
       "    </tr>\n",
       "  </tbody>\n",
       "</table>\n",
       "</div>"
      ],
      "text/plain": [
       "        CID      TCAA      DCAA\n",
       "0  49788089  6.057471  2.514149\n",
       "1     10383  6.057471  2.514149\n",
       "2  84709621  6.030990  2.325763\n",
       "3  84711920  5.997079  2.541426\n",
       "4  44154570  5.988623  2.553638"
      ]
     },
     "execution_count": 9,
     "metadata": {},
     "output_type": "execute_result"
    }
   ],
   "source": [
    "result_df.head(5)"
   ]
  },
  {
   "cell_type": "code",
   "execution_count": 11,
   "metadata": {},
   "outputs": [],
   "source": [
    "# show_romol(result_df[result_df[\"log10_TCAA\"] > 2.5])"
   ]
  },
  {
   "cell_type": "markdown",
   "metadata": {},
   "source": [
    "#### Results were initially calculated as a natural logarithm so two more formats are added\n",
    "raw <-- expressed as mmol/mol\n",
    "\n",
    "log10 <---- expressed as logarithm (base 10)"
   ]
  },
  {
   "cell_type": "code",
   "execution_count": 10,
   "metadata": {},
   "outputs": [
    {
     "name": "stdout",
     "output_type": "stream",
     "text": [
      "ok\n",
      "ok\n"
     ]
    }
   ],
   "source": [
    "result_df.shape\n",
    "result_df[\"raw_TCAA\"] = np.exp(result_df[\"TCAA\"])-1\n",
    "print(\"ok\")\n",
    "result_df[\"log10_TCAA\"] = np.log10(result_df[\"raw_TCAA\"])\n",
    "print(\"ok\")\n",
    "result_df[\"raw_DCAA\"] = np.exp(result_df[\"DCAA\"])-1\n",
    "result_df[\"log10_DCAA\"] = np.log10(result_df[\"raw_DCAA\"])"
   ]
  },
  {
   "cell_type": "markdown",
   "metadata": {},
   "source": [
    "## 1. General trend "
   ]
  },
  {
   "cell_type": "code",
   "execution_count": 11,
   "metadata": {
    "scrolled": true
   },
   "outputs": [
    {
     "data": {
      "image/png": "[encoded data removed]",
      "text/plain": [
       "<matplotlib.figure.Figure at 0x12220b908>"
      ]
     },
     "metadata": {},
     "output_type": "display_data"
    }
   ],
   "source": [
    "plt.hist(result_df[\"log10_TCAA\"], bins=100, range=(-1,3),\n",
    "                       bottom=None, histtype='bar',\n",
    "                       align='left', rwidth=1,\n",
    "                       color=None)\n",
    "# plt.savefig(\"data/dcaa_distribution_all.pdf\")\n",
    "plt.show()"
   ]
  },
  {
   "cell_type": "code",
   "execution_count": 12,
   "metadata": {},
   "outputs": [],
   "source": [
    "# (result_df[\"log10_TCAA\"] > 2.4).sum()"
   ]
  },
  {
   "cell_type": "code",
   "execution_count": 13,
   "metadata": {},
   "outputs": [],
   "source": [
    "# int_df = result_df[(result_df[\"log10_TCAA\"] >= 2.0) & (result_df[\"log10_TCAA\"] < 2.4)]\n",
    "#highs_df.to_csv(\"data/highTCAAFPs_newMay22.csv\")"
   ]
  },
  {
   "cell_type": "markdown",
   "metadata": {},
   "source": [
    "## 2. Split into categories \n",
    "\n",
    "#### from \"very low\" to \"very high\" FPs"
   ]
  },
  {
   "cell_type": "code",
   "execution_count": 14,
   "metadata": {},
   "outputs": [],
   "source": [
    "# ((result_df[\"log10_TCAA\"] >= 2.0) & (result_df[\"log10_TCAA\"] < 2.5)).sum()"
   ]
  },
  {
   "cell_type": "code",
   "execution_count": 15,
   "metadata": {},
   "outputs": [],
   "source": [
    "# result_df_ordered_by_TCAA = result_df"
   ]
  },
  {
   "cell_type": "code",
   "execution_count": 16,
   "metadata": {},
   "outputs": [],
   "source": [
    "# result_df_ordered_by_DCAA = result_df.sort_values(by = [\"log10_DCAA\"], ascending = False)"
   ]
  },
  {
   "cell_type": "code",
   "execution_count": 17,
   "metadata": {},
   "outputs": [],
   "source": [
    "# result_df = result_df_ordered_by_DCAA"
   ]
  },
  {
   "cell_type": "code",
   "execution_count": 18,
   "metadata": {},
   "outputs": [],
   "source": [
    "div_per_str_list = [\"2.0~\",\"1.5~2.0\",\"1.0~1.5\",\"0.5~1.0\",\"0~0.5\",\"~0.0\"]\n",
    "def get_division(result_slice):\n",
    "    \"\"\"Acceptable parameters are results for DCAA or TCAA (i.e.,result_df[\"log10_TCAA\"])\"\"\"   \n",
    "    div_list = [(result_slice >= 2.0).sum()\n",
    "                    ,(result_slice >= 1.5).sum()\n",
    "                    ,(result_slice >= 1.0).sum()\n",
    "                    ,(result_slice >= 0.5).sum()\n",
    "                    ,(result_slice >= 0.0).sum()\n",
    "                   ,(result_slice > -1000000000).sum()]\n",
    "    div_per_list = [float(i)/float(len(result_df))*100 for i in div_list]\n",
    "    \"\"\"The function returns a tuple including div_list and div_per_list\"\"\"\n",
    "    \"\"\"div_per_str_list is used in other function so it is defined outside\"\"\"\n",
    "    return div_list, div_per_list"
   ]
  },
  {
   "cell_type": "code",
   "execution_count": 19,
   "metadata": {},
   "outputs": [],
   "source": [
    "# div_list_TCAA, div_per_list_TCAA = get_division(result_slice = result_df[\"log10_TCAA\"])\n",
    "div_list_DCAA, div_per_list_DCAA = get_division(result_slice = result_df[\"log10_DCAA\"])"
   ]
  },
  {
   "cell_type": "markdown",
   "metadata": {},
   "source": [
    "## 3. Get counts for functional groups"
   ]
  },
  {
   "cell_type": "markdown",
   "metadata": {},
   "source": [
    "#### Each category contains millions of compounds, so we decided to take random samples to analyse the presence of functional groups"
   ]
  },
  {
   "cell_type": "code",
   "execution_count": 20,
   "metadata": {},
   "outputs": [],
   "source": [
    "#### run get_division with DCAA or TCAA to create the neccesary variables\n"
   ]
  },
  {
   "cell_type": "code",
   "execution_count": 21,
   "metadata": {},
   "outputs": [],
   "source": [
    "## There are no compounds with DCAAFPs> 2log units and only a few above 1.5. \n",
    "### Thus a different k_list is necessary for random sampling. \n",
    "k_list_DCAA = [int(div_list_DCAA[0]),10000,10000,10000,10000,10000,10000] ## do we need k_list? "
   ]
  },
  {
   "cell_type": "code",
   "execution_count": 22,
   "metadata": {},
   "outputs": [],
   "source": [
    "def divideNumber(dataframe, div_per_list):\n",
    "    \"\"\" Number is number of compounds in each category???\"\"\"\n",
    "    number = len(dataframe)\n",
    "    div_number_list =  [0] + [int(float(i)/float(100)*float(number)) for i in div_per_list]\n",
    "    return div_number_list"
   ]
  },
  {
   "cell_type": "code",
   "execution_count": 23,
   "metadata": {},
   "outputs": [],
   "source": [
    "def createRandom(div_number_list, size):\n",
    "    random_list = []\n",
    "    for i in range(0,len(div_number_list)-1):\n",
    "        if div_number_list[i+1] - div_number_list[i] > size:\n",
    "            tem_k = size\n",
    "        else:\n",
    "            tem_k = div_number_list[i+1] - div_number_list[i]\n",
    "        random_list.append(sorted(random.sample(range(div_number_list[i],div_number_list[i+1]), k=tem_k)))\n",
    "    return random_list"
   ]
  },
  {
   "cell_type": "code",
   "execution_count": 24,
   "metadata": {},
   "outputs": [],
   "source": [
    "def createRandomDic(dataframe, size, functional_group_list, div_per_list, isOneGroup=True):\n",
    "    \"\"\" Takes dataframe as input, that dataframe should contain CIDs, SMILES & Romol are calculated during dic \"\"\"\n",
    "    random_dic = {}\n",
    "    random_list = []\n",
    "    if not isOneGroup:\n",
    "        random_list = createRandom(divideNumber(dataframe, div_per_list), size)  ### Lets modify createRandomDic() so that it can be use for the category of choice\n",
    "    else:\n",
    "        random_list.append(sorted(random.sample(range(len(dataframe)), k=size)))\n",
    "        #print(random_list)\n",
    "    properties = ['IUPACName','CanonicalSMILES','MolecularFormula']\n",
    "    for i in range(len(random_list)):\n",
    "        tem_df = dataframe.iloc[random_list[i]]\n",
    "        if len(tem_df) != 0:\n",
    "            tem_df = pd.DataFrame(pcp.get_properties(properties, list(tem_df[\"CID\"]), 'cid'))\n",
    "            PandasTools.AddMoleculeColumnToFrame(tem_df, smilesCol='CanonicalSMILES', includeFingerprints=False)\n",
    "            tem2_df = create_functional_group_df(tem_df, functional_group_list)\n",
    "            tem2_df = pd.concat([tem_df,tem2_df],axis = 1)\n",
    "        else:\n",
    "            tem2_df = tem_df\n",
    "        random_dic[div_per_str_list[i]] = tem2_df\n",
    "    return random_dic"
   ]
  },
  {
   "cell_type": "code",
   "execution_count": 25,
   "metadata": {},
   "outputs": [],
   "source": [
    "def create_functional_group_df(dataframe, functional_group_list):\n",
    "    \"\"\"\"get the counts of functional groups in the functional group list for a given  list of compounds in dataframe\"\"\"\n",
    "    \n",
    "    functional_group_df = pd.DataFrame(columns = functional_group_list)\n",
    "    dataframe = dataframe.dropna(subset=['ROMol'])\n",
    "    dataframe.reset_index(drop=True, inplace=True)\n",
    "    for i in range(len(dataframe)):\n",
    "        a = fr.fr_phenol(dataframe[\"ROMol\"][i])\n",
    "        b = fr.fr_methoxy(dataframe[\"ROMol\"][i])\n",
    "        c = fr.fr_ketone(dataframe[\"ROMol\"][i])\n",
    "        d = fr.fr_aniline(dataframe[\"ROMol\"][i])\n",
    "        e = fr.fr_benzene(dataframe[\"ROMol\"][i])\n",
    "        functional_group_df.loc[i] = [a,b,c,d,e]\n",
    "    return functional_group_df"
   ]
  },
  {
   "cell_type": "code",
   "execution_count": 26,
   "metadata": {
    "scrolled": true
   },
   "outputs": [],
   "source": [
    "# functional_group_list = [\"phenol\",\"methoxy\",\"ketone\",\"aniline\",\"benzene\"]\n",
    "# div_number_list = divideNumber(result_df, div_per_list = div_per_list_TCAA) \n",
    "# random_list = createRandom(div_number_list, 10000)\n",
    "# random_dic_tcaa = createRandomDic(result_df, 10000, functional_group_list,div_per_list_TCAA, isOneGroup = False)"
   ]
  },
  {
   "cell_type": "code",
   "execution_count": 27,
   "metadata": {},
   "outputs": [],
   "source": [
    "# random_dic_tcaa"
   ]
  },
  {
   "cell_type": "code",
   "execution_count": 28,
   "metadata": {},
   "outputs": [],
   "source": [
    "functional_group_list = [\"phenol\",\"methoxy\",\"ketone\",\"aniline\",\"benzene\"]"
   ]
  },
  {
   "cell_type": "code",
   "execution_count": 29,
   "metadata": {},
   "outputs": [],
   "source": [
    "def createSource(functional_group_df):\n",
    "    l = functional_group_list\n",
    "    c_f_tuple = []\n",
    "    c_f_list = []\n",
    "    data_list = []\n",
    "    for i in range(1,len(l)+1):\n",
    "        c_f_tuple = c_f_tuple + list(itertools.combinations(l, i))\n",
    "    for i in c_f_tuple:\n",
    "        c_f_list.append(list(i))\n",
    "    c_f_list.append([])\n",
    "    for i in c_f_list: \n",
    "        count = 0\n",
    "        for j in range(0,len(functional_group_df)):\n",
    "            if list(pd.DataFrame(functional_group_df.iloc[j,5:][functional_group_df.iloc[j,5:]>0]).index) == i:            \n",
    "                count = count + 1\n",
    "        data_list.append(count)            \n",
    "    return data_list"
   ]
  },
  {
   "cell_type": "markdown",
   "metadata": {},
   "source": [
    "#### The purpose of \"c_f_list\" is to get a list of all possible combinations of the functional groups that are evaluated"
   ]
  },
  {
   "cell_type": "code",
   "execution_count": 30,
   "metadata": {},
   "outputs": [],
   "source": [
    "\n",
    "\n",
    "def create_c_f_list():\n",
    "    l = functional_group_list\n",
    "    c_f_tuple = []\n",
    "    c_f_list = []\n",
    "    data_list = []\n",
    "    for i in range(1,len(l)+1):\n",
    "        c_f_tuple = c_f_tuple + list(itertools.combinations(l, i))\n",
    "    \n",
    "    for i in c_f_tuple:\n",
    "        c_f_list.append(list(i))\n",
    "    c_f_list.append([])\n",
    "    return c_f_list\n",
    "c_f_list = create_c_f_list()"
   ]
  },
  {
   "cell_type": "markdown",
   "metadata": {},
   "source": [
    "### This portion creates 10 lists of 10000 random compounds for each category. The purpose is to determine if 10000 is a sufficiently large sample to be representative of each category. "
   ]
  },
  {
   "cell_type": "code",
   "execution_count": 31,
   "metadata": {},
   "outputs": [],
   "source": [
    "# len(random_dic_tcaa)"
   ]
  },
  {
   "cell_type": "code",
   "execution_count": 32,
   "metadata": {},
   "outputs": [],
   "source": [
    "# random_dic_tcaa.keys()"
   ]
  },
  {
   "cell_type": "code",
   "execution_count": 33,
   "metadata": {},
   "outputs": [],
   "source": [
    "###  random_dic_test = createRandomDic(dataframe = result_df,\n",
    "#                                  size = 10000, \n",
    "#                                  functional_group_list = functional_group_list, \n",
    "#                                  div_per_list = div_per_list_TCAA, \n",
    "#                                  isOneGroup=False)"
   ]
  },
  {
   "cell_type": "code",
   "execution_count": 34,
   "metadata": {},
   "outputs": [],
   "source": [
    "# random_dic_test.keys()"
   ]
  },
  {
   "cell_type": "code",
   "execution_count": 35,
   "metadata": {},
   "outputs": [],
   "source": [
    "\n",
    "\n",
    "\n",
    "def main():\n",
    "    times = 10\n",
    "    source_one_time = {}\n",
    "    source_10times = []\n",
    "    for i in range(times):\n",
    "        source_one_time = {}\n",
    "        random_dic = createRandomDic(dataframe = result_df,\n",
    "                                     size = 10000, \n",
    "                                     functional_group_list = functional_group_list, \n",
    "                                     div_per_list = div_per_list_TCAA, isOneGroup=False)\n",
    "        print(str(i+1) + \"time\")\n",
    "        for j in range(len(random_dic)):\n",
    "            print(str(div_per_str_list[j]) + \"FP\")\n",
    "            functional_group_df = random_dic[div_per_str_list[j]]\n",
    "            source_one_time[div_per_str_list[j]] = createSource(functional_group_df)\n",
    "        source_10times.append(source_one_time)  \n",
    "    print(\"finish create source\")\n",
    "    "
   ]
  },
  {
   "cell_type": "code",
   "execution_count": 36,
   "metadata": {},
   "outputs": [
    {
     "name": "stdout",
     "output_type": "stream",
     "text": [
      "1time\n",
      "2.0~FP\n",
      "1.5~2.0FP\n",
      "1.0~1.5FP\n",
      "0.5~1.0FP\n",
      "0~0.5FP\n",
      "~0.0FP\n",
      "2time\n",
      "2.0~FP\n",
      "1.5~2.0FP\n",
      "1.0~1.5FP\n",
      "0.5~1.0FP\n",
      "0~0.5FP\n",
      "~0.0FP\n"
     ]
    },
    {
     "ename": "URLError",
     "evalue": "<urlopen error [Errno 8] nodename nor servname provided, or not known>",
     "output_type": "error",
     "traceback": [
      "\u001b[0;31m---------------------------------------------------------------------------\u001b[0m",
      "\u001b[0;31mgaierror\u001b[0m                                  Traceback (most recent call last)",
      "\u001b[0;32m~/anaconda3/lib/python3.6/urllib/request.py\u001b[0m in \u001b[0;36mdo_open\u001b[0;34m(self, http_class, req, **http_conn_args)\u001b[0m\n\u001b[1;32m   1317\u001b[0m                 h.request(req.get_method(), req.selector, req.data, headers,\n\u001b[0;32m-> 1318\u001b[0;31m                           encode_chunked=req.has_header('Transfer-encoding'))\n\u001b[0m\u001b[1;32m   1319\u001b[0m             \u001b[0;32mexcept\u001b[0m \u001b[0mOSError\u001b[0m \u001b[0;32mas\u001b[0m \u001b[0merr\u001b[0m\u001b[0;34m:\u001b[0m \u001b[0;31m# timeout error\u001b[0m\u001b[0;34m\u001b[0m\u001b[0m\n",
      "\u001b[0;32m~/anaconda3/lib/python3.6/http/client.py\u001b[0m in \u001b[0;36mrequest\u001b[0;34m(self, method, url, body, headers, encode_chunked)\u001b[0m\n\u001b[1;32m   1238\u001b[0m         \u001b[0;34m\"\"\"Send a complete request to the server.\"\"\"\u001b[0m\u001b[0;34m\u001b[0m\u001b[0m\n\u001b[0;32m-> 1239\u001b[0;31m         \u001b[0mself\u001b[0m\u001b[0;34m.\u001b[0m\u001b[0m_send_request\u001b[0m\u001b[0;34m(\u001b[0m\u001b[0mmethod\u001b[0m\u001b[0;34m,\u001b[0m \u001b[0murl\u001b[0m\u001b[0;34m,\u001b[0m \u001b[0mbody\u001b[0m\u001b[0;34m,\u001b[0m \u001b[0mheaders\u001b[0m\u001b[0;34m,\u001b[0m \u001b[0mencode_chunked\u001b[0m\u001b[0;34m)\u001b[0m\u001b[0;34m\u001b[0m\u001b[0m\n\u001b[0m\u001b[1;32m   1240\u001b[0m \u001b[0;34m\u001b[0m\u001b[0m\n",
      "\u001b[0;32m~/anaconda3/lib/python3.6/http/client.py\u001b[0m in \u001b[0;36m_send_request\u001b[0;34m(self, method, url, body, headers, encode_chunked)\u001b[0m\n\u001b[1;32m   1284\u001b[0m             \u001b[0mbody\u001b[0m \u001b[0;34m=\u001b[0m \u001b[0m_encode\u001b[0m\u001b[0;34m(\u001b[0m\u001b[0mbody\u001b[0m\u001b[0;34m,\u001b[0m \u001b[0;34m'body'\u001b[0m\u001b[0;34m)\u001b[0m\u001b[0;34m\u001b[0m\u001b[0m\n\u001b[0;32m-> 1285\u001b[0;31m         \u001b[0mself\u001b[0m\u001b[0;34m.\u001b[0m\u001b[0mendheaders\u001b[0m\u001b[0;34m(\u001b[0m\u001b[0mbody\u001b[0m\u001b[0;34m,\u001b[0m \u001b[0mencode_chunked\u001b[0m\u001b[0;34m=\u001b[0m\u001b[0mencode_chunked\u001b[0m\u001b[0;34m)\u001b[0m\u001b[0;34m\u001b[0m\u001b[0m\n\u001b[0m\u001b[1;32m   1286\u001b[0m \u001b[0;34m\u001b[0m\u001b[0m\n",
      "\u001b[0;32m~/anaconda3/lib/python3.6/http/client.py\u001b[0m in \u001b[0;36mendheaders\u001b[0;34m(self, message_body, encode_chunked)\u001b[0m\n\u001b[1;32m   1233\u001b[0m             \u001b[0;32mraise\u001b[0m \u001b[0mCannotSendHeader\u001b[0m\u001b[0;34m(\u001b[0m\u001b[0;34m)\u001b[0m\u001b[0;34m\u001b[0m\u001b[0m\n\u001b[0;32m-> 1234\u001b[0;31m         \u001b[0mself\u001b[0m\u001b[0;34m.\u001b[0m\u001b[0m_send_output\u001b[0m\u001b[0;34m(\u001b[0m\u001b[0mmessage_body\u001b[0m\u001b[0;34m,\u001b[0m \u001b[0mencode_chunked\u001b[0m\u001b[0;34m=\u001b[0m\u001b[0mencode_chunked\u001b[0m\u001b[0;34m)\u001b[0m\u001b[0;34m\u001b[0m\u001b[0m\n\u001b[0m\u001b[1;32m   1235\u001b[0m \u001b[0;34m\u001b[0m\u001b[0m\n",
      "\u001b[0;32m~/anaconda3/lib/python3.6/http/client.py\u001b[0m in \u001b[0;36m_send_output\u001b[0;34m(self, message_body, encode_chunked)\u001b[0m\n\u001b[1;32m   1025\u001b[0m         \u001b[0;32mdel\u001b[0m \u001b[0mself\u001b[0m\u001b[0;34m.\u001b[0m\u001b[0m_buffer\u001b[0m\u001b[0;34m[\u001b[0m\u001b[0;34m:\u001b[0m\u001b[0;34m]\u001b[0m\u001b[0;34m\u001b[0m\u001b[0m\n\u001b[0;32m-> 1026\u001b[0;31m         \u001b[0mself\u001b[0m\u001b[0;34m.\u001b[0m\u001b[0msend\u001b[0m\u001b[0;34m(\u001b[0m\u001b[0mmsg\u001b[0m\u001b[0;34m)\u001b[0m\u001b[0;34m\u001b[0m\u001b[0m\n\u001b[0m\u001b[1;32m   1027\u001b[0m \u001b[0;34m\u001b[0m\u001b[0m\n",
      "\u001b[0;32m~/anaconda3/lib/python3.6/http/client.py\u001b[0m in \u001b[0;36msend\u001b[0;34m(self, data)\u001b[0m\n\u001b[1;32m    963\u001b[0m             \u001b[0;32mif\u001b[0m \u001b[0mself\u001b[0m\u001b[0;34m.\u001b[0m\u001b[0mauto_open\u001b[0m\u001b[0;34m:\u001b[0m\u001b[0;34m\u001b[0m\u001b[0m\n\u001b[0;32m--> 964\u001b[0;31m                 \u001b[0mself\u001b[0m\u001b[0;34m.\u001b[0m\u001b[0mconnect\u001b[0m\u001b[0;34m(\u001b[0m\u001b[0;34m)\u001b[0m\u001b[0;34m\u001b[0m\u001b[0m\n\u001b[0m\u001b[1;32m    965\u001b[0m             \u001b[0;32melse\u001b[0m\u001b[0;34m:\u001b[0m\u001b[0;34m\u001b[0m\u001b[0m\n",
      "\u001b[0;32m~/anaconda3/lib/python3.6/http/client.py\u001b[0m in \u001b[0;36mconnect\u001b[0;34m(self)\u001b[0m\n\u001b[1;32m   1391\u001b[0m \u001b[0;34m\u001b[0m\u001b[0m\n\u001b[0;32m-> 1392\u001b[0;31m             \u001b[0msuper\u001b[0m\u001b[0;34m(\u001b[0m\u001b[0;34m)\u001b[0m\u001b[0;34m.\u001b[0m\u001b[0mconnect\u001b[0m\u001b[0;34m(\u001b[0m\u001b[0;34m)\u001b[0m\u001b[0;34m\u001b[0m\u001b[0m\n\u001b[0m\u001b[1;32m   1393\u001b[0m \u001b[0;34m\u001b[0m\u001b[0m\n",
      "\u001b[0;32m~/anaconda3/lib/python3.6/http/client.py\u001b[0m in \u001b[0;36mconnect\u001b[0;34m(self)\u001b[0m\n\u001b[1;32m    935\u001b[0m         self.sock = self._create_connection(\n\u001b[0;32m--> 936\u001b[0;31m             (self.host,self.port), self.timeout, self.source_address)\n\u001b[0m\u001b[1;32m    937\u001b[0m         \u001b[0mself\u001b[0m\u001b[0;34m.\u001b[0m\u001b[0msock\u001b[0m\u001b[0;34m.\u001b[0m\u001b[0msetsockopt\u001b[0m\u001b[0;34m(\u001b[0m\u001b[0msocket\u001b[0m\u001b[0;34m.\u001b[0m\u001b[0mIPPROTO_TCP\u001b[0m\u001b[0;34m,\u001b[0m \u001b[0msocket\u001b[0m\u001b[0;34m.\u001b[0m\u001b[0mTCP_NODELAY\u001b[0m\u001b[0;34m,\u001b[0m \u001b[0;36m1\u001b[0m\u001b[0;34m)\u001b[0m\u001b[0;34m\u001b[0m\u001b[0m\n",
      "\u001b[0;32m~/anaconda3/lib/python3.6/socket.py\u001b[0m in \u001b[0;36mcreate_connection\u001b[0;34m(address, timeout, source_address)\u001b[0m\n\u001b[1;32m    703\u001b[0m     \u001b[0merr\u001b[0m \u001b[0;34m=\u001b[0m \u001b[0;32mNone\u001b[0m\u001b[0;34m\u001b[0m\u001b[0m\n\u001b[0;32m--> 704\u001b[0;31m     \u001b[0;32mfor\u001b[0m \u001b[0mres\u001b[0m \u001b[0;32min\u001b[0m \u001b[0mgetaddrinfo\u001b[0m\u001b[0;34m(\u001b[0m\u001b[0mhost\u001b[0m\u001b[0;34m,\u001b[0m \u001b[0mport\u001b[0m\u001b[0;34m,\u001b[0m \u001b[0;36m0\u001b[0m\u001b[0;34m,\u001b[0m \u001b[0mSOCK_STREAM\u001b[0m\u001b[0;34m)\u001b[0m\u001b[0;34m:\u001b[0m\u001b[0;34m\u001b[0m\u001b[0m\n\u001b[0m\u001b[1;32m    705\u001b[0m         \u001b[0maf\u001b[0m\u001b[0;34m,\u001b[0m \u001b[0msocktype\u001b[0m\u001b[0;34m,\u001b[0m \u001b[0mproto\u001b[0m\u001b[0;34m,\u001b[0m \u001b[0mcanonname\u001b[0m\u001b[0;34m,\u001b[0m \u001b[0msa\u001b[0m \u001b[0;34m=\u001b[0m \u001b[0mres\u001b[0m\u001b[0;34m\u001b[0m\u001b[0m\n",
      "\u001b[0;32m~/anaconda3/lib/python3.6/socket.py\u001b[0m in \u001b[0;36mgetaddrinfo\u001b[0;34m(host, port, family, type, proto, flags)\u001b[0m\n\u001b[1;32m    744\u001b[0m     \u001b[0maddrlist\u001b[0m \u001b[0;34m=\u001b[0m \u001b[0;34m[\u001b[0m\u001b[0;34m]\u001b[0m\u001b[0;34m\u001b[0m\u001b[0m\n\u001b[0;32m--> 745\u001b[0;31m     \u001b[0;32mfor\u001b[0m \u001b[0mres\u001b[0m \u001b[0;32min\u001b[0m \u001b[0m_socket\u001b[0m\u001b[0;34m.\u001b[0m\u001b[0mgetaddrinfo\u001b[0m\u001b[0;34m(\u001b[0m\u001b[0mhost\u001b[0m\u001b[0;34m,\u001b[0m \u001b[0mport\u001b[0m\u001b[0;34m,\u001b[0m \u001b[0mfamily\u001b[0m\u001b[0;34m,\u001b[0m \u001b[0mtype\u001b[0m\u001b[0;34m,\u001b[0m \u001b[0mproto\u001b[0m\u001b[0;34m,\u001b[0m \u001b[0mflags\u001b[0m\u001b[0;34m)\u001b[0m\u001b[0;34m:\u001b[0m\u001b[0;34m\u001b[0m\u001b[0m\n\u001b[0m\u001b[1;32m    746\u001b[0m         \u001b[0maf\u001b[0m\u001b[0;34m,\u001b[0m \u001b[0msocktype\u001b[0m\u001b[0;34m,\u001b[0m \u001b[0mproto\u001b[0m\u001b[0;34m,\u001b[0m \u001b[0mcanonname\u001b[0m\u001b[0;34m,\u001b[0m \u001b[0msa\u001b[0m \u001b[0;34m=\u001b[0m \u001b[0mres\u001b[0m\u001b[0;34m\u001b[0m\u001b[0m\n",
      "\u001b[0;31mgaierror\u001b[0m: [Errno 8] nodename nor servname provided, or not known",
      "\nDuring handling of the above exception, another exception occurred:\n",
      "\u001b[0;31mURLError\u001b[0m                                  Traceback (most recent call last)",
      "\u001b[0;32m<ipython-input-36-876581a867e5>\u001b[0m in \u001b[0;36m<module>\u001b[0;34m()\u001b[0m\n\u001b[1;32m      7\u001b[0m                                  \u001b[0msize\u001b[0m \u001b[0;34m=\u001b[0m \u001b[0;36m10000\u001b[0m\u001b[0;34m,\u001b[0m\u001b[0;34m\u001b[0m\u001b[0m\n\u001b[1;32m      8\u001b[0m                                  \u001b[0mfunctional_group_list\u001b[0m \u001b[0;34m=\u001b[0m \u001b[0mfunctional_group_list\u001b[0m\u001b[0;34m,\u001b[0m\u001b[0;34m\u001b[0m\u001b[0m\n\u001b[0;32m----> 9\u001b[0;31m                                  div_per_list = div_per_list_DCAA, isOneGroup=False)\n\u001b[0m\u001b[1;32m     10\u001b[0m     \u001b[0mprint\u001b[0m\u001b[0;34m(\u001b[0m\u001b[0mstr\u001b[0m\u001b[0;34m(\u001b[0m\u001b[0mi\u001b[0m\u001b[0;34m+\u001b[0m\u001b[0;36m1\u001b[0m\u001b[0;34m)\u001b[0m \u001b[0;34m+\u001b[0m \u001b[0;34m\"time\"\u001b[0m\u001b[0;34m)\u001b[0m\u001b[0;34m\u001b[0m\u001b[0m\n\u001b[1;32m     11\u001b[0m     \u001b[0;32mfor\u001b[0m \u001b[0mj\u001b[0m \u001b[0;32min\u001b[0m \u001b[0mrange\u001b[0m\u001b[0;34m(\u001b[0m\u001b[0mlen\u001b[0m\u001b[0;34m(\u001b[0m\u001b[0mrandom_dic\u001b[0m\u001b[0;34m)\u001b[0m\u001b[0;34m)\u001b[0m\u001b[0;34m:\u001b[0m\u001b[0;34m\u001b[0m\u001b[0m\n",
      "\u001b[0;32m<ipython-input-24-ee665dc2025a>\u001b[0m in \u001b[0;36mcreateRandomDic\u001b[0;34m(dataframe, size, functional_group_list, div_per_list, isOneGroup)\u001b[0m\n\u001b[1;32m     12\u001b[0m         \u001b[0mtem_df\u001b[0m \u001b[0;34m=\u001b[0m \u001b[0mdataframe\u001b[0m\u001b[0;34m.\u001b[0m\u001b[0miloc\u001b[0m\u001b[0;34m[\u001b[0m\u001b[0mrandom_list\u001b[0m\u001b[0;34m[\u001b[0m\u001b[0mi\u001b[0m\u001b[0;34m]\u001b[0m\u001b[0;34m]\u001b[0m\u001b[0;34m\u001b[0m\u001b[0m\n\u001b[1;32m     13\u001b[0m         \u001b[0;32mif\u001b[0m \u001b[0mlen\u001b[0m\u001b[0;34m(\u001b[0m\u001b[0mtem_df\u001b[0m\u001b[0;34m)\u001b[0m \u001b[0;34m!=\u001b[0m \u001b[0;36m0\u001b[0m\u001b[0;34m:\u001b[0m\u001b[0;34m\u001b[0m\u001b[0m\n\u001b[0;32m---> 14\u001b[0;31m             \u001b[0mtem_df\u001b[0m \u001b[0;34m=\u001b[0m \u001b[0mpd\u001b[0m\u001b[0;34m.\u001b[0m\u001b[0mDataFrame\u001b[0m\u001b[0;34m(\u001b[0m\u001b[0mpcp\u001b[0m\u001b[0;34m.\u001b[0m\u001b[0mget_properties\u001b[0m\u001b[0;34m(\u001b[0m\u001b[0mproperties\u001b[0m\u001b[0;34m,\u001b[0m \u001b[0mlist\u001b[0m\u001b[0;34m(\u001b[0m\u001b[0mtem_df\u001b[0m\u001b[0;34m[\u001b[0m\u001b[0;34m\"CID\"\u001b[0m\u001b[0;34m]\u001b[0m\u001b[0;34m)\u001b[0m\u001b[0;34m,\u001b[0m \u001b[0;34m'cid'\u001b[0m\u001b[0;34m)\u001b[0m\u001b[0;34m)\u001b[0m\u001b[0;34m\u001b[0m\u001b[0m\n\u001b[0m\u001b[1;32m     15\u001b[0m             \u001b[0mPandasTools\u001b[0m\u001b[0;34m.\u001b[0m\u001b[0mAddMoleculeColumnToFrame\u001b[0m\u001b[0;34m(\u001b[0m\u001b[0mtem_df\u001b[0m\u001b[0;34m,\u001b[0m \u001b[0msmilesCol\u001b[0m\u001b[0;34m=\u001b[0m\u001b[0;34m'CanonicalSMILES'\u001b[0m\u001b[0;34m,\u001b[0m \u001b[0mincludeFingerprints\u001b[0m\u001b[0;34m=\u001b[0m\u001b[0;32mFalse\u001b[0m\u001b[0;34m)\u001b[0m\u001b[0;34m\u001b[0m\u001b[0m\n\u001b[1;32m     16\u001b[0m             \u001b[0mtem2_df\u001b[0m \u001b[0;34m=\u001b[0m \u001b[0mcreate_functional_group_df\u001b[0m\u001b[0;34m(\u001b[0m\u001b[0mtem_df\u001b[0m\u001b[0;34m,\u001b[0m \u001b[0mfunctional_group_list\u001b[0m\u001b[0;34m)\u001b[0m\u001b[0;34m\u001b[0m\u001b[0m\n",
      "\u001b[0;32m~/anaconda3/lib/python3.6/site-packages/pubchempy.py\u001b[0m in \u001b[0;36mget_properties\u001b[0;34m(properties, identifier, namespace, searchtype, as_dataframe, **kwargs)\u001b[0m\n\u001b[1;32m    408\u001b[0m     \u001b[0mproperties\u001b[0m \u001b[0;34m=\u001b[0m \u001b[0;34m','\u001b[0m\u001b[0;34m.\u001b[0m\u001b[0mjoin\u001b[0m\u001b[0;34m(\u001b[0m\u001b[0;34m[\u001b[0m\u001b[0mPROPERTY_MAP\u001b[0m\u001b[0;34m.\u001b[0m\u001b[0mget\u001b[0m\u001b[0;34m(\u001b[0m\u001b[0mp\u001b[0m\u001b[0;34m,\u001b[0m \u001b[0mp\u001b[0m\u001b[0;34m)\u001b[0m \u001b[0;32mfor\u001b[0m \u001b[0mp\u001b[0m \u001b[0;32min\u001b[0m \u001b[0mproperties\u001b[0m\u001b[0;34m]\u001b[0m\u001b[0;34m)\u001b[0m\u001b[0;34m\u001b[0m\u001b[0m\n\u001b[1;32m    409\u001b[0m     \u001b[0mproperties\u001b[0m \u001b[0;34m=\u001b[0m \u001b[0;34m'property/%s'\u001b[0m \u001b[0;34m%\u001b[0m \u001b[0mproperties\u001b[0m\u001b[0;34m\u001b[0m\u001b[0m\n\u001b[0;32m--> 410\u001b[0;31m     \u001b[0mresults\u001b[0m \u001b[0;34m=\u001b[0m \u001b[0mget_json\u001b[0m\u001b[0;34m(\u001b[0m\u001b[0midentifier\u001b[0m\u001b[0;34m,\u001b[0m \u001b[0mnamespace\u001b[0m\u001b[0;34m,\u001b[0m \u001b[0;34m'compound'\u001b[0m\u001b[0;34m,\u001b[0m \u001b[0mproperties\u001b[0m\u001b[0;34m,\u001b[0m \u001b[0msearchtype\u001b[0m\u001b[0;34m=\u001b[0m\u001b[0msearchtype\u001b[0m\u001b[0;34m,\u001b[0m \u001b[0;34m**\u001b[0m\u001b[0mkwargs\u001b[0m\u001b[0;34m)\u001b[0m\u001b[0;34m\u001b[0m\u001b[0m\n\u001b[0m\u001b[1;32m    411\u001b[0m     \u001b[0mresults\u001b[0m \u001b[0;34m=\u001b[0m \u001b[0mresults\u001b[0m\u001b[0;34m[\u001b[0m\u001b[0;34m'PropertyTable'\u001b[0m\u001b[0;34m]\u001b[0m\u001b[0;34m[\u001b[0m\u001b[0;34m'Properties'\u001b[0m\u001b[0;34m]\u001b[0m \u001b[0;32mif\u001b[0m \u001b[0mresults\u001b[0m \u001b[0;32melse\u001b[0m \u001b[0;34m[\u001b[0m\u001b[0;34m]\u001b[0m\u001b[0;34m\u001b[0m\u001b[0m\n\u001b[1;32m    412\u001b[0m     \u001b[0;32mif\u001b[0m \u001b[0mas_dataframe\u001b[0m\u001b[0;34m:\u001b[0m\u001b[0;34m\u001b[0m\u001b[0m\n",
      "\u001b[0;32m~/anaconda3/lib/python3.6/site-packages/pubchempy.py\u001b[0m in \u001b[0;36mget_json\u001b[0;34m(identifier, namespace, domain, operation, searchtype, **kwargs)\u001b[0m\n\u001b[1;32m    297\u001b[0m     \u001b[0;34m\"\"\"Request wrapper that automatically parses JSON response and supresses NotFoundError.\"\"\"\u001b[0m\u001b[0;34m\u001b[0m\u001b[0m\n\u001b[1;32m    298\u001b[0m     \u001b[0;32mtry\u001b[0m\u001b[0;34m:\u001b[0m\u001b[0;34m\u001b[0m\u001b[0m\n\u001b[0;32m--> 299\u001b[0;31m         \u001b[0;32mreturn\u001b[0m \u001b[0mjson\u001b[0m\u001b[0;34m.\u001b[0m\u001b[0mloads\u001b[0m\u001b[0;34m(\u001b[0m\u001b[0mget\u001b[0m\u001b[0;34m(\u001b[0m\u001b[0midentifier\u001b[0m\u001b[0;34m,\u001b[0m \u001b[0mnamespace\u001b[0m\u001b[0;34m,\u001b[0m \u001b[0mdomain\u001b[0m\u001b[0;34m,\u001b[0m \u001b[0moperation\u001b[0m\u001b[0;34m,\u001b[0m \u001b[0;34m'JSON'\u001b[0m\u001b[0;34m,\u001b[0m \u001b[0msearchtype\u001b[0m\u001b[0;34m,\u001b[0m \u001b[0;34m**\u001b[0m\u001b[0mkwargs\u001b[0m\u001b[0;34m)\u001b[0m\u001b[0;34m.\u001b[0m\u001b[0mdecode\u001b[0m\u001b[0;34m(\u001b[0m\u001b[0;34m)\u001b[0m\u001b[0;34m)\u001b[0m\u001b[0;34m\u001b[0m\u001b[0m\n\u001b[0m\u001b[1;32m    300\u001b[0m     \u001b[0;32mexcept\u001b[0m \u001b[0mNotFoundError\u001b[0m \u001b[0;32mas\u001b[0m \u001b[0me\u001b[0m\u001b[0;34m:\u001b[0m\u001b[0;34m\u001b[0m\u001b[0m\n\u001b[1;32m    301\u001b[0m         \u001b[0mlog\u001b[0m\u001b[0;34m.\u001b[0m\u001b[0minfo\u001b[0m\u001b[0;34m(\u001b[0m\u001b[0me\u001b[0m\u001b[0;34m)\u001b[0m\u001b[0;34m\u001b[0m\u001b[0m\n",
      "\u001b[0;32m~/anaconda3/lib/python3.6/site-packages/pubchempy.py\u001b[0m in \u001b[0;36mget\u001b[0;34m(identifier, namespace, domain, operation, output, searchtype, **kwargs)\u001b[0m\n\u001b[1;32m    290\u001b[0m                 \u001b[0mresponse\u001b[0m \u001b[0;34m=\u001b[0m \u001b[0mrequest\u001b[0m\u001b[0;34m(\u001b[0m\u001b[0midentifier\u001b[0m\u001b[0;34m,\u001b[0m \u001b[0mnamespace\u001b[0m\u001b[0;34m,\u001b[0m \u001b[0mdomain\u001b[0m\u001b[0;34m,\u001b[0m \u001b[0moperation\u001b[0m\u001b[0;34m,\u001b[0m \u001b[0moutput\u001b[0m\u001b[0;34m,\u001b[0m \u001b[0msearchtype\u001b[0m\u001b[0;34m,\u001b[0m \u001b[0;34m**\u001b[0m\u001b[0mkwargs\u001b[0m\u001b[0;34m)\u001b[0m\u001b[0;34m.\u001b[0m\u001b[0mread\u001b[0m\u001b[0;34m(\u001b[0m\u001b[0;34m)\u001b[0m\u001b[0;34m\u001b[0m\u001b[0m\n\u001b[1;32m    291\u001b[0m     \u001b[0;32melse\u001b[0m\u001b[0;34m:\u001b[0m\u001b[0;34m\u001b[0m\u001b[0m\n\u001b[0;32m--> 292\u001b[0;31m         \u001b[0mresponse\u001b[0m \u001b[0;34m=\u001b[0m \u001b[0mrequest\u001b[0m\u001b[0;34m(\u001b[0m\u001b[0midentifier\u001b[0m\u001b[0;34m,\u001b[0m \u001b[0mnamespace\u001b[0m\u001b[0;34m,\u001b[0m \u001b[0mdomain\u001b[0m\u001b[0;34m,\u001b[0m \u001b[0moperation\u001b[0m\u001b[0;34m,\u001b[0m \u001b[0moutput\u001b[0m\u001b[0;34m,\u001b[0m \u001b[0msearchtype\u001b[0m\u001b[0;34m,\u001b[0m \u001b[0;34m**\u001b[0m\u001b[0mkwargs\u001b[0m\u001b[0;34m)\u001b[0m\u001b[0;34m.\u001b[0m\u001b[0mread\u001b[0m\u001b[0;34m(\u001b[0m\u001b[0;34m)\u001b[0m\u001b[0;34m\u001b[0m\u001b[0m\n\u001b[0m\u001b[1;32m    293\u001b[0m     \u001b[0;32mreturn\u001b[0m \u001b[0mresponse\u001b[0m\u001b[0;34m\u001b[0m\u001b[0m\n\u001b[1;32m    294\u001b[0m \u001b[0;34m\u001b[0m\u001b[0m\n",
      "\u001b[0;32m~/anaconda3/lib/python3.6/site-packages/pubchempy.py\u001b[0m in \u001b[0;36mrequest\u001b[0;34m(identifier, namespace, domain, operation, output, searchtype, **kwargs)\u001b[0m\n\u001b[1;32m    269\u001b[0m         \u001b[0mlog\u001b[0m\u001b[0;34m.\u001b[0m\u001b[0mdebug\u001b[0m\u001b[0;34m(\u001b[0m\u001b[0;34m'Request URL: %s'\u001b[0m\u001b[0;34m,\u001b[0m \u001b[0mapiurl\u001b[0m\u001b[0;34m)\u001b[0m\u001b[0;34m\u001b[0m\u001b[0m\n\u001b[1;32m    270\u001b[0m         \u001b[0mlog\u001b[0m\u001b[0;34m.\u001b[0m\u001b[0mdebug\u001b[0m\u001b[0;34m(\u001b[0m\u001b[0;34m'Request data: %s'\u001b[0m\u001b[0;34m,\u001b[0m \u001b[0mpostdata\u001b[0m\u001b[0;34m)\u001b[0m\u001b[0;34m\u001b[0m\u001b[0m\n\u001b[0;32m--> 271\u001b[0;31m         \u001b[0mresponse\u001b[0m \u001b[0;34m=\u001b[0m \u001b[0murlopen\u001b[0m\u001b[0;34m(\u001b[0m\u001b[0mapiurl\u001b[0m\u001b[0;34m,\u001b[0m \u001b[0mpostdata\u001b[0m\u001b[0;34m)\u001b[0m\u001b[0;34m\u001b[0m\u001b[0m\n\u001b[0m\u001b[1;32m    272\u001b[0m         \u001b[0;32mreturn\u001b[0m \u001b[0mresponse\u001b[0m\u001b[0;34m\u001b[0m\u001b[0m\n\u001b[1;32m    273\u001b[0m     \u001b[0;32mexcept\u001b[0m \u001b[0mHTTPError\u001b[0m \u001b[0;32mas\u001b[0m \u001b[0me\u001b[0m\u001b[0;34m:\u001b[0m\u001b[0;34m\u001b[0m\u001b[0m\n",
      "\u001b[0;32m~/anaconda3/lib/python3.6/urllib/request.py\u001b[0m in \u001b[0;36murlopen\u001b[0;34m(url, data, timeout, cafile, capath, cadefault, context)\u001b[0m\n\u001b[1;32m    221\u001b[0m     \u001b[0;32melse\u001b[0m\u001b[0;34m:\u001b[0m\u001b[0;34m\u001b[0m\u001b[0m\n\u001b[1;32m    222\u001b[0m         \u001b[0mopener\u001b[0m \u001b[0;34m=\u001b[0m \u001b[0m_opener\u001b[0m\u001b[0;34m\u001b[0m\u001b[0m\n\u001b[0;32m--> 223\u001b[0;31m     \u001b[0;32mreturn\u001b[0m \u001b[0mopener\u001b[0m\u001b[0;34m.\u001b[0m\u001b[0mopen\u001b[0m\u001b[0;34m(\u001b[0m\u001b[0murl\u001b[0m\u001b[0;34m,\u001b[0m \u001b[0mdata\u001b[0m\u001b[0;34m,\u001b[0m \u001b[0mtimeout\u001b[0m\u001b[0;34m)\u001b[0m\u001b[0;34m\u001b[0m\u001b[0m\n\u001b[0m\u001b[1;32m    224\u001b[0m \u001b[0;34m\u001b[0m\u001b[0m\n\u001b[1;32m    225\u001b[0m \u001b[0;32mdef\u001b[0m \u001b[0minstall_opener\u001b[0m\u001b[0;34m(\u001b[0m\u001b[0mopener\u001b[0m\u001b[0;34m)\u001b[0m\u001b[0;34m:\u001b[0m\u001b[0;34m\u001b[0m\u001b[0m\n",
      "\u001b[0;32m~/anaconda3/lib/python3.6/urllib/request.py\u001b[0m in \u001b[0;36mopen\u001b[0;34m(self, fullurl, data, timeout)\u001b[0m\n\u001b[1;32m    524\u001b[0m             \u001b[0mreq\u001b[0m \u001b[0;34m=\u001b[0m \u001b[0mmeth\u001b[0m\u001b[0;34m(\u001b[0m\u001b[0mreq\u001b[0m\u001b[0;34m)\u001b[0m\u001b[0;34m\u001b[0m\u001b[0m\n\u001b[1;32m    525\u001b[0m \u001b[0;34m\u001b[0m\u001b[0m\n\u001b[0;32m--> 526\u001b[0;31m         \u001b[0mresponse\u001b[0m \u001b[0;34m=\u001b[0m \u001b[0mself\u001b[0m\u001b[0;34m.\u001b[0m\u001b[0m_open\u001b[0m\u001b[0;34m(\u001b[0m\u001b[0mreq\u001b[0m\u001b[0;34m,\u001b[0m \u001b[0mdata\u001b[0m\u001b[0;34m)\u001b[0m\u001b[0;34m\u001b[0m\u001b[0m\n\u001b[0m\u001b[1;32m    527\u001b[0m \u001b[0;34m\u001b[0m\u001b[0m\n\u001b[1;32m    528\u001b[0m         \u001b[0;31m# post-process response\u001b[0m\u001b[0;34m\u001b[0m\u001b[0;34m\u001b[0m\u001b[0m\n",
      "\u001b[0;32m~/anaconda3/lib/python3.6/urllib/request.py\u001b[0m in \u001b[0;36m_open\u001b[0;34m(self, req, data)\u001b[0m\n\u001b[1;32m    542\u001b[0m         \u001b[0mprotocol\u001b[0m \u001b[0;34m=\u001b[0m \u001b[0mreq\u001b[0m\u001b[0;34m.\u001b[0m\u001b[0mtype\u001b[0m\u001b[0;34m\u001b[0m\u001b[0m\n\u001b[1;32m    543\u001b[0m         result = self._call_chain(self.handle_open, protocol, protocol +\n\u001b[0;32m--> 544\u001b[0;31m                                   '_open', req)\n\u001b[0m\u001b[1;32m    545\u001b[0m         \u001b[0;32mif\u001b[0m \u001b[0mresult\u001b[0m\u001b[0;34m:\u001b[0m\u001b[0;34m\u001b[0m\u001b[0m\n\u001b[1;32m    546\u001b[0m             \u001b[0;32mreturn\u001b[0m \u001b[0mresult\u001b[0m\u001b[0;34m\u001b[0m\u001b[0m\n",
      "\u001b[0;32m~/anaconda3/lib/python3.6/urllib/request.py\u001b[0m in \u001b[0;36m_call_chain\u001b[0;34m(self, chain, kind, meth_name, *args)\u001b[0m\n\u001b[1;32m    502\u001b[0m         \u001b[0;32mfor\u001b[0m \u001b[0mhandler\u001b[0m \u001b[0;32min\u001b[0m \u001b[0mhandlers\u001b[0m\u001b[0;34m:\u001b[0m\u001b[0;34m\u001b[0m\u001b[0m\n\u001b[1;32m    503\u001b[0m             \u001b[0mfunc\u001b[0m \u001b[0;34m=\u001b[0m \u001b[0mgetattr\u001b[0m\u001b[0;34m(\u001b[0m\u001b[0mhandler\u001b[0m\u001b[0;34m,\u001b[0m \u001b[0mmeth_name\u001b[0m\u001b[0;34m)\u001b[0m\u001b[0;34m\u001b[0m\u001b[0m\n\u001b[0;32m--> 504\u001b[0;31m             \u001b[0mresult\u001b[0m \u001b[0;34m=\u001b[0m \u001b[0mfunc\u001b[0m\u001b[0;34m(\u001b[0m\u001b[0;34m*\u001b[0m\u001b[0margs\u001b[0m\u001b[0;34m)\u001b[0m\u001b[0;34m\u001b[0m\u001b[0m\n\u001b[0m\u001b[1;32m    505\u001b[0m             \u001b[0;32mif\u001b[0m \u001b[0mresult\u001b[0m \u001b[0;32mis\u001b[0m \u001b[0;32mnot\u001b[0m \u001b[0;32mNone\u001b[0m\u001b[0;34m:\u001b[0m\u001b[0;34m\u001b[0m\u001b[0m\n\u001b[1;32m    506\u001b[0m                 \u001b[0;32mreturn\u001b[0m \u001b[0mresult\u001b[0m\u001b[0;34m\u001b[0m\u001b[0m\n",
      "\u001b[0;32m~/anaconda3/lib/python3.6/urllib/request.py\u001b[0m in \u001b[0;36mhttps_open\u001b[0;34m(self, req)\u001b[0m\n\u001b[1;32m   1359\u001b[0m         \u001b[0;32mdef\u001b[0m \u001b[0mhttps_open\u001b[0m\u001b[0;34m(\u001b[0m\u001b[0mself\u001b[0m\u001b[0;34m,\u001b[0m \u001b[0mreq\u001b[0m\u001b[0;34m)\u001b[0m\u001b[0;34m:\u001b[0m\u001b[0;34m\u001b[0m\u001b[0m\n\u001b[1;32m   1360\u001b[0m             return self.do_open(http.client.HTTPSConnection, req,\n\u001b[0;32m-> 1361\u001b[0;31m                 context=self._context, check_hostname=self._check_hostname)\n\u001b[0m\u001b[1;32m   1362\u001b[0m \u001b[0;34m\u001b[0m\u001b[0m\n\u001b[1;32m   1363\u001b[0m         \u001b[0mhttps_request\u001b[0m \u001b[0;34m=\u001b[0m \u001b[0mAbstractHTTPHandler\u001b[0m\u001b[0;34m.\u001b[0m\u001b[0mdo_request_\u001b[0m\u001b[0;34m\u001b[0m\u001b[0m\n",
      "\u001b[0;32m~/anaconda3/lib/python3.6/urllib/request.py\u001b[0m in \u001b[0;36mdo_open\u001b[0;34m(self, http_class, req, **http_conn_args)\u001b[0m\n\u001b[1;32m   1318\u001b[0m                           encode_chunked=req.has_header('Transfer-encoding'))\n\u001b[1;32m   1319\u001b[0m             \u001b[0;32mexcept\u001b[0m \u001b[0mOSError\u001b[0m \u001b[0;32mas\u001b[0m \u001b[0merr\u001b[0m\u001b[0;34m:\u001b[0m \u001b[0;31m# timeout error\u001b[0m\u001b[0;34m\u001b[0m\u001b[0m\n\u001b[0;32m-> 1320\u001b[0;31m                 \u001b[0;32mraise\u001b[0m \u001b[0mURLError\u001b[0m\u001b[0;34m(\u001b[0m\u001b[0merr\u001b[0m\u001b[0;34m)\u001b[0m\u001b[0;34m\u001b[0m\u001b[0m\n\u001b[0m\u001b[1;32m   1321\u001b[0m             \u001b[0mr\u001b[0m \u001b[0;34m=\u001b[0m \u001b[0mh\u001b[0m\u001b[0;34m.\u001b[0m\u001b[0mgetresponse\u001b[0m\u001b[0;34m(\u001b[0m\u001b[0;34m)\u001b[0m\u001b[0;34m\u001b[0m\u001b[0m\n\u001b[1;32m   1322\u001b[0m         \u001b[0;32mexcept\u001b[0m\u001b[0;34m:\u001b[0m\u001b[0;34m\u001b[0m\u001b[0m\n",
      "\u001b[0;31mURLError\u001b[0m: <urlopen error [Errno 8] nodename nor servname provided, or not known>"
     ]
    }
   ],
   "source": [
    "times = 10\n",
    "source_one_time = {}\n",
    "source_10times = []\n",
    "for i in range(times):\n",
    "    source_one_time = {}\n",
    "    random_dic = createRandomDic(dataframe = result_df,\n",
    "                                 size = 10000, \n",
    "                                 functional_group_list = functional_group_list, \n",
    "                                 div_per_list = div_per_list_DCAA, isOneGroup=False)\n",
    "    print(str(i+1) + \"time\")\n",
    "    for j in range(len(random_dic)):\n",
    "        print(str(div_per_str_list[j]) + \"FP\")\n",
    "        functional_group_df = random_dic[div_per_str_list[j]]\n",
    "        source_one_time[div_per_str_list[j]] = createSource(functional_group_df)\n",
    "    source_10times.append(source_one_time)  \n",
    "print(\"finish create source\")"
   ]
  },
  {
   "cell_type": "markdown",
   "metadata": {},
   "source": [
    "#### The purpose is to store the mean values, standard deviations and coeffecients of variance in the functional group counts for each category."
   ]
  },
  {
   "cell_type": "code",
   "execution_count": null,
   "metadata": {},
   "outputs": [],
   "source": [
    "source_result_df_dic.keys()"
   ]
  },
  {
   "cell_type": "code",
   "execution_count": null,
   "metadata": {},
   "outputs": [],
   "source": [
    "####calculate MN, SD, CV and store\n",
    "\n",
    "source_result_df_dic = {}\n",
    "source_result_list = []\n",
    "source_one_fp_list = []\n",
    "for j in range(len(random_dic)):\n",
    "    source_result_list = []\n",
    "    source_one_fp_list = []\n",
    "    for i in range(times):\n",
    "        source_one_fp_list.append(source_10times[i][div_per_str_list[j]])\n",
    "    source_one_fp_list_t = np.array(source_one_fp_list).T.tolist() \n",
    "    for i in source_one_fp_list_t:\n",
    "        tem = np.array(i)\n",
    "        source_result_list.append([int(tem.mean()),tem.std(),tem.std()/tem.mean()])\n",
    "    source_result_list = np.array(source_result_list).T.tolist()\n",
    "    source_result_df_dic[div_per_str_list[j]] = pd.DataFrame(source_result_list,index = [\"MN\",\"SD\",\"CV\"])\n",
    "    \n",
    "for i in div_per_str_list:\n",
    "    source_result_df_dic[i].to_csv(\"data/\" + str(i) + \"May28_dcaa.csv\",header=True,index=False)"
   ]
  },
  {
   "cell_type": "code",
   "execution_count": null,
   "metadata": {},
   "outputs": [],
   "source": [
    "# ### rerun to get DCAA\n",
    "# div_number_list = divideNumber(div_per_list_tcaa) \n",
    "# random_list = CreateRandom(div_number_list, 100000)\n",
    "# random_dic_tcaa = createRandomDic(result_df, functional_group_list, isOneGroup = False)"
   ]
  },
  {
   "cell_type": "markdown",
   "metadata": {},
   "source": [
    "#### Here, we import the data from each category were it is defined and listed "
   ]
  },
  {
   "cell_type": "code",
   "execution_count": 122,
   "metadata": {},
   "outputs": [],
   "source": [
    "veryhigh_df = pd.read_csv(\"data/2.0~May28_tcaa.csv\")\n",
    "high_df = pd.read_csv(\"data/1.5~2.0May28_dcaa.csv\")\n",
    "highint_df = pd.read_csv(\"data/1.0~1.5May28_dcaa.csv\")\n",
    "lowint_df = pd.read_csv(\"data/0.5~1.0May28_dcaa.csv\")\n",
    "low_df = pd.read_csv(\"data/0~0.5May28_dcaa.csv\")\n",
    "verylow_df = pd.read_csv(\"data/~0.0May28_dcaa.csv\")\n",
    "\n"
   ]
  },
  {
   "cell_type": "markdown",
   "metadata": {},
   "source": [
    "#### Upsetplot requires a list of the counts to be included (not all are included because in each category (i.e., low high etc) so here we create lists appropiate depending of the category of choice. "
   ]
  },
  {
   "cell_type": "code",
   "execution_count": 123,
   "metadata": {},
   "outputs": [],
   "source": [
    "def df_to_upset(data):\n",
    "    data_list = list(data.iloc[0])\n",
    "    source = from_memberships(\n",
    "    c_f_list,\n",
    "    data=data_list\n",
    "    )\n",
    "    data_df = pd.DataFrame({\"categories\" : c_f_list , \"counts\" : data_list})\n",
    "    return data_df"
   ]
  },
  {
   "cell_type": "markdown",
   "metadata": {},
   "source": [
    "#### Categories with no counts should not appear in the plot"
   ]
  },
  {
   "cell_type": "code",
   "execution_count": 124,
   "metadata": {},
   "outputs": [],
   "source": [
    "def clean(data_df):\n",
    "    \"\"\"data has to be a dataframe\"\"\"\n",
    "    clean_data = data_df[data_df['counts'] != 0]\n",
    "    return clean_data\n",
    "\n",
    "def get_source(data):\n",
    "    source = from_memberships(data[\"categories\"],data = data[\"counts\"])\n",
    "    return source"
   ]
  },
  {
   "cell_type": "code",
   "execution_count": 125,
   "metadata": {},
   "outputs": [],
   "source": [
    "data = veryhigh_df"
   ]
  },
  {
   "cell_type": "code",
   "execution_count": 126,
   "metadata": {
    "scrolled": true
   },
   "outputs": [],
   "source": [
    "data_df = df_to_upset(data)\n",
    "clean_data = clean(data_df)\n",
    "clean_source = get_source(clean_data)\n",
    "\n",
    "# clean_source = from_memberships(   ####delete after confiming function works\n",
    "#     data_clean[\"categories\"],\n",
    "#     data= data_clean[\"counts\"]\n",
    "#     )"
   ]
  },
  {
   "cell_type": "markdown",
   "metadata": {},
   "source": [
    "#### Counts of functional groups are best shown as UpSet plots. The purpose of the function \"show_figure1\" is to build the upsetplot"
   ]
  },
  {
   "cell_type": "code",
   "execution_count": 127,
   "metadata": {},
   "outputs": [],
   "source": [
    "def get_upsetplot(clean_source, title = \"\"):\n",
    "\n",
    "    font = {'family': 'serif',\n",
    "            'color':  'black',\n",
    "            'weight': 'normal',\n",
    "            'size': 18,\n",
    "            }\n",
    "\n",
    "\n",
    "\n",
    "    plot = uplot(clean_source, \n",
    "                            orientation='horizontal', \n",
    "                            sort_by='cardinality', \n",
    "                            #sort_categories_by='cardinality', \n",
    "                            subset_size='auto', \n",
    "                            sum_over=None, \n",
    "                            facecolor='black', \n",
    "                            with_lines=True, \n",
    "                            element_size=40, \n",
    "                            intersection_plot_elements=15, \n",
    "                            totals_plot_elements=5, \n",
    "                            show_counts='', \n",
    "                            show_percentages=True,\n",
    "                    )\n",
    "\n",
    "    plt.yticks(size=20)\n",
    "    # plt.delaxes(low_plot[\"totals\"])                    #get rid of \"single\" counts\n",
    "    plot[\"totals\"].set_title(\"single\")\n",
    "    plot[\"intersections\"].grid(b = None)\n",
    "    plot[\"totals\"].grid(b = None)\n",
    "    plt.title(str(title), fontdict = font)\n",
    "    plt.ylabel(\"Counts\", fontdict = font)\n",
    "    #plt.subplot_tool()\n",
    "    plt.savefig(\"data/\" + str(title) + \".pdf\")\n",
    "    return plt.show()\n",
    "\n"
   ]
  },
  {
   "cell_type": "code",
   "execution_count": 128,
   "metadata": {},
   "outputs": [
    {
     "data": {
      "image/png": "[encoded data removed]",
      "text/plain": [
       "<Figure size 1173.5x800 with 4 Axes>"
      ]
     },
     "metadata": {
      "needs_background": "light"
     },
     "output_type": "display_data"
    }
   ],
   "source": [
    "get_upsetplot(clean_source, title = \"tcaa_veryhigh\")"
   ]
  },
  {
   "cell_type": "markdown",
   "metadata": {},
   "source": [
    "#### Unused-old lines that need to be checked"
   ]
  },
  {
   "cell_type": "code",
   "execution_count": null,
   "metadata": {},
   "outputs": [],
   "source": [
    "# random_dic[div_per_str_list[0]]"
   ]
  },
  {
   "cell_type": "code",
   "execution_count": null,
   "metadata": {},
   "outputs": [],
   "source": [
    "# result_df.iloc[random_list[0]]"
   ]
  },
  {
   "cell_type": "code",
   "execution_count": null,
   "metadata": {},
   "outputs": [],
   "source": [
    "# for i in range(len(random_dic)):\n",
    "#     title = div_per_str_list[i]\n",
    "#     functional_group_df = random_dic[div_per_str_list[i]]\n",
    "#     show_figure1(functional_group_df,title)"
   ]
  },
  {
   "cell_type": "code",
   "execution_count": null,
   "metadata": {},
   "outputs": [],
   "source": [
    "# upsetplot.UpSet(data_clean, orientation='horizontal', sort_by='degree', sort_categories_by='cardinality', subset_size='auto', sum_over=None, facecolor='black', with_lines=True, element_size=32, intersection_plot_elements=6, totals_plot_elements=2, show_counts='', show_percentages=False)"
   ]
  },
  {
   "cell_type": "code",
   "execution_count": null,
   "metadata": {},
   "outputs": [],
   "source": [
    "# result_df.iloc[createRandom(divideNumber(100000))[6]]"
   ]
  },
  {
   "cell_type": "code",
   "execution_count": null,
   "metadata": {},
   "outputs": [],
   "source": [
    "# len(random_dic)"
   ]
  },
  {
   "cell_type": "code",
   "execution_count": null,
   "metadata": {},
   "outputs": [],
   "source": [
    "# l = [2,3,4,5]"
   ]
  },
  {
   "cell_type": "code",
   "execution_count": null,
   "metadata": {},
   "outputs": [],
   "source": [
    "# list(result_df[\"CID\"].iloc[random_list[0]])"
   ]
  },
  {
   "cell_type": "code",
   "execution_count": null,
   "metadata": {
    "scrolled": true
   },
   "outputs": [],
   "source": [
    "# source_10times = []\n",
    "# source_all_10times = []\n",
    "# dicnum = 6\n",
    "# times = 10\n",
    "# for j in range(dicnum):\n",
    "#     for i in range(times):\n",
    "#         random_dic = createRandomDic()\n",
    "#         functional_group_df = random_dic[div_per_str_list[j]]\n",
    "#         source_10times.append(createSource(functional_group_df))\n",
    "#     source_all_10times.append(source_10times)\n",
    "#     source_10times_t = np.array(source_10times).T.tolist()\n",
    "# source_cv_list = []\n",
    "# source_all_cv_list = []"
   ]
  },
  {
   "cell_type": "code",
   "execution_count": null,
   "metadata": {},
   "outputs": [],
   "source": [
    "# len(source_10times_t)"
   ]
  },
  {
   "cell_type": "code",
   "execution_count": null,
   "metadata": {},
   "outputs": [],
   "source": [
    "# len(source_10times)"
   ]
  },
  {
   "cell_type": "code",
   "execution_count": null,
   "metadata": {},
   "outputs": [],
   "source": [
    "# for i in range(times):\n",
    "#         random_dic = createRandomDic()\n",
    "#         functional_group_df = random_dic[div_per_str_list[6]]\n",
    "#         source_10times.append(createSource(functional_group_df))"
   ]
  },
  {
   "cell_type": "code",
   "execution_count": null,
   "metadata": {},
   "outputs": [],
   "source": [
    "# len(source_10times)"
   ]
  },
  {
   "cell_type": "code",
   "execution_count": null,
   "metadata": {
    "scrolled": true
   },
   "outputs": [],
   "source": [
    "# source_cv_list = []\n",
    "# source_all_cv_list = {}\n",
    "# for j in range(dicnum):\n",
    "#     for i in source_10times_t:\n",
    "#         tem = np.array(i)\n",
    "#         source_cv_list.append([int(tem.mean()),tem.std(),tem.std()/tem.mean()])\n",
    "#         source_cv_list_t = np.array(source_cv_list).T.tolist()\n",
    "#         tem_df = pd.DataFrame(source_cv_list_t,index = [\"MN\",\"SD\",\"CV\"])\n",
    "        \n",
    "#     source_all_cv_list[div_per_str_list[j]] = tem_df\n",
    "    "
   ]
  },
  {
   "cell_type": "code",
   "execution_count": null,
   "metadata": {},
   "outputs": [],
   "source": [
    "# "
   ]
  },
  {
   "cell_type": "code",
   "execution_count": null,
   "metadata": {
    "scrolled": true
   },
   "outputs": [],
   "source": [
    "# source_all_cv_list[div_per_str_list[0]]"
   ]
  },
  {
   "cell_type": "code",
   "execution_count": null,
   "metadata": {},
   "outputs": [],
   "source": [
    "# for i in div_per_str_list:\n",
    "#     source_all_cv_list[i].to_csv(\"excel_py/\" + str(i) + \".csv\",header=True,index=False)"
   ]
  },
  {
   "cell_type": "code",
   "execution_count": null,
   "metadata": {},
   "outputs": [],
   "source": [
    "# def show_figure1(functional_group_df,title):\n",
    "#     l = functional_group_list\n",
    "#     c_f_tuple = []\n",
    "#     c_f_list = []\n",
    "#     data_list = []\n",
    "#     for i in range(1,len(l)+1):\n",
    "#         c_f_tuple = c_f_tuple + list(itertools.combinations(l, i))\n",
    "#     for i in c_f_tuple:\n",
    "#         c_f_list.append(list(i))\n",
    "#     for i in c_f_list: \n",
    "#         count = 0\n",
    "#         for j in range(0,len(functional_group_df)):\n",
    "#             if list(pd.DataFrame(functional_group_df.iloc[j][functional_group_df.iloc[j]>0]).index) == i:            \n",
    "#                 count = count + 1\n",
    "#         data_list.append(count)            \n",
    "#     source = from_memberships(\n",
    "#     c_f_list,\n",
    "#     data=data_list\n",
    "#     )\n",
    "#     plot(source, show_counts=\"%d\",sort_by='cardinality')\n",
    "#     plt.suptitle(str(title))\n",
    "#     plt.show()"
   ]
  },
  {
   "cell_type": "code",
   "execution_count": null,
   "metadata": {},
   "outputs": [],
   "source": []
  },
  {
   "cell_type": "code",
   "execution_count": null,
   "metadata": {},
   "outputs": [],
   "source": [
    "# for j in range(6):\n",
    "#     for i in source_10times_t:\n",
    "#         tem = np.array(i)\n",
    "#         source_cv_list.append(tem.std()/tem.mean())\n",
    "#     source_all_cv_list[] = source_cv_list)\n",
    "    "
   ]
  },
  {
   "cell_type": "code",
   "execution_count": null,
   "metadata": {},
   "outputs": [],
   "source": [
    "# len(div_per_str_list)"
   ]
  },
  {
   "cell_type": "code",
   "execution_count": null,
   "metadata": {},
   "outputs": [],
   "source": [
    "# source_all_cv_list"
   ]
  },
  {
   "cell_type": "code",
   "execution_count": null,
   "metadata": {},
   "outputs": [],
   "source": [
    "# functional_group_df.iloc[1,5:]"
   ]
  },
  {
   "cell_type": "code",
   "execution_count": null,
   "metadata": {},
   "outputs": [],
   "source": [
    "# source_10times_t = np.array(source_10times).T.tolist()"
   ]
  },
  {
   "cell_type": "code",
   "execution_count": null,
   "metadata": {},
   "outputs": [],
   "source": [
    "# def divideNumber(number):\n",
    "#     div_number_list =  [0] + [int(float(i)/float(100)*float(number)) for i in div_per_list] + [number]\n",
    "#     return div_number_list"
   ]
  },
  {
   "cell_type": "code",
   "execution_count": null,
   "metadata": {},
   "outputs": [],
   "source": [
    "#random_dic[\"2.0~\"][(random_dic[\"2.0~\"][\"phenol\"] == 0) & (random_dic[\"2.0~\"][\"aniline\"] > 0) & (random_dic[\"2.0~\"][\"benzene\"] == 0) & (random_dic[\"2.0~\"][\"methoxy\"] == 0) & (random_dic[\"2.0~\"][\"ketone\"] == 0)][[\"CID\",\"ROMol\"]]"
   ]
  },
  {
   "cell_type": "markdown",
   "metadata": {},
   "source": [
    "## 4. Export examples of each category"
   ]
  },
  {
   "cell_type": "code",
   "execution_count": null,
   "metadata": {},
   "outputs": [],
   "source": [
    "### First lets see the structures of all compounds in the \"very high\" list of TCAA and DCAA.\n",
    "### Lets show them in descending order\n",
    "### Lets highlight non-obvious compounds and consider experimentla testing.\n"
   ]
  },
  {
   "cell_type": "markdown",
   "metadata": {},
   "source": [
    "## 4.a \"Very high\""
   ]
  },
  {
   "cell_type": "markdown",
   "metadata": {},
   "source": [
    "### For very high FPs the number of compounds is small so we can visually inspect all of them"
   ]
  },
  {
   "cell_type": "markdown",
   "metadata": {},
   "source": [
    "#### See the notebook highHAAFPs\n",
    "#### In the future I will bring those lines of code to this notebook. "
   ]
  },
  {
   "cell_type": "markdown",
   "metadata": {},
   "source": [
    "## 4.b \"high\" FPs "
   ]
  },
  {
   "cell_type": "markdown",
   "metadata": {},
   "source": [
    "#### \"modified_createRandomDic\" function was created to get a \"n_size\" random sample from agiven dataframe"
   ]
  },
  {
   "cell_type": "code",
   "execution_count": null,
   "metadata": {},
   "outputs": [],
   "source": [
    "\n",
    "#### I had\n",
    "### we need a seed for random\n",
    "#  high_tcaa_dic = CreateRandomDic(div_str = \"1.5~2.0\" )  ### We need to modify Create RandomDic first\n",
    "##### Remeber to create a seed for the random_dic so that the results are reproducible\n",
    "def modified_createRandomDic(dataframe, size, functional_group_list, isOneGroup=True):\n",
    "    \"\"\" Takes dataframe as input, that dataframe should contain CIDs, SMILES & Romol are calculated during dic \"\"\"\n",
    "    random_dic = {}\n",
    "    random_list = []\n",
    "    if not isOneGroup:\n",
    "        random_list = createRandom(divideNumber(len(dataframe)), size)  ### Lets modify createRandomDic() so that it can be use for the category of choice\n",
    "    else:\n",
    "        random_list.append(sorted(random.sample(range(len(dataframe)), k=size)))\n",
    "    properties = ['IUPACName','CanonicalSMILES','MolecularFormula']\n",
    "    for i in range(len(random_list)):\n",
    "        tem_df = dataframe.iloc[random_list[i]]\n",
    "        if len(tem_df) != 0:\n",
    "            tem3_df = tem_df.copy()\n",
    "            tem_df = pd.DataFrame(pcp.get_properties(properties, list(tem_df[\"CID\"]), 'cid'))\n",
    "            PandasTools.AddMoleculeColumnToFrame(tem_df, smilesCol='CanonicalSMILES', includeFingerprints=False)\n",
    "            tem2_df = create_functional_group_df(tem_df, functional_group_list)\n",
    "            tem2_df = pd.concat([tem_df,tem2_df],axis = 1)\n",
    "            tem3_df = pd.merge(tem2_df, tem3_df, on = \"CID\")\n",
    "        return tem3_df\n",
    "#             tem3_df = pd.concat([tem2_df,tem3_df],axis = 1)\n",
    "#         else:\n",
    "#             tem2_df = tem_df\n",
    "#         random_dic[div_per_str_list[i]] = tem3_df\n",
    "#     return random_dic\n",
    "        "
   ]
  },
  {
   "cell_type": "markdown",
   "metadata": {},
   "source": [
    "#### For high FPs we have 283393 compounds. \n",
    "#### A random list of 300 compounds in the range [1.5, 2.0[  is sampled and the structures are displayed for visual inspection"
   ]
  },
  {
   "cell_type": "code",
   "execution_count": null,
   "metadata": {},
   "outputs": [],
   "source": [
    "### get random set from whole database to test PCA \n",
    "functional_group_list = [\"phenol\",\"methoxy\",\"ketone\",\"aniline\",\"benzene\"]\n",
    "dataframe = result_df[(result_df[\"log10_TCAA\"] >= 1.5) & (result_df[\"log10_TCAA\"] < 2.0 )]  #we should slice only once,this is making it slow\n",
    "random_dic_all = modified_createRandomDic(dataframe,300, functional_group_list)\n",
    "# random_dic_all[\"2.0~\"].head(5)\n",
    "pd.set_option(\"display.max_rows\", None)\n",
    "random_dic_all\n"
   ]
  },
  {
   "cell_type": "markdown",
   "metadata": {},
   "source": [
    "### Check examples of each of the counts in the upsetplots"
   ]
  },
  {
   "cell_type": "code",
   "execution_count": null,
   "metadata": {},
   "outputs": [],
   "source": [
    "data_df = df_to_upset(data = high_df)\n",
    "clean_data = clean(data_df)\n",
    "clean_source = get_source(clean_data)\n",
    "get_upsetplot(clean_source)"
   ]
  },
  {
   "cell_type": "markdown",
   "metadata": {},
   "source": [
    "#### The upsetplots show the averages of 10 random samplings so we cannot get compounds from that global list. We could sample again a 1000 random compounds OR we could store one the lists/ \"first sampling\". "
   ]
  },
  {
   "cell_type": "code",
   "execution_count": null,
   "metadata": {},
   "outputs": [],
   "source": [
    "### Next we can sample ~10 compounds from each of the \n",
    "### \"functional groups combinations\" in the UpsetPlots and return their structures\n",
    "\n"
   ]
  },
  {
   "cell_type": "code",
   "execution_count": null,
   "metadata": {},
   "outputs": [],
   "source": [
    "#### Explain which ones are selected for further experiments and explain why. "
   ]
  },
  {
   "cell_type": "markdown",
   "metadata": {},
   "source": [
    "## 4. C Intermediate\n",
    "#### 1.0 < logTCAA < 1.5"
   ]
  },
  {
   "cell_type": "code",
   "execution_count": null,
   "metadata": {},
   "outputs": [],
   "source": [
    "functional_group_list = [\"phenol\",\"methoxy\",\"ketone\",\"aniline\",\"benzene\"]\n",
    "dataframe = result_df[(result_df[\"log10_TCAA\"] >= 1.0) & (result_df[\"log10_TCAA\"] < 1.5 )]  #we should slice only once,this is making it slow\n",
    "random_dic_int = modified_createRandomDic(dataframe,300, functional_group_list)\n",
    "# random_dic_all[\"2.0~\"].head(5)\n",
    "pd.set_option(\"display.max_rows\", None)\n",
    "random_dic_int"
   ]
  },
  {
   "cell_type": "code",
   "execution_count": null,
   "metadata": {},
   "outputs": [],
   "source": [
    "data_df = df_to_upset(data = highint_df)\n",
    "clean_data = clean(data_df)\n",
    "clean_source = get_source(clean_data)\n",
    "get_upsetplot(clean_source)"
   ]
  },
  {
   "cell_type": "markdown",
   "metadata": {},
   "source": [
    "## 4. C Low\n",
    "#### 0.5 < logTCAA < 1.0"
   ]
  },
  {
   "cell_type": "code",
   "execution_count": null,
   "metadata": {},
   "outputs": [],
   "source": [
    "functional_group_list = [\"phenol\",\"methoxy\",\"ketone\",\"aniline\",\"benzene\"]\n",
    "dataframe = result_df[(result_df[\"log10_TCAA\"] >= 0.5) & (result_df[\"log10_TCAA\"] < 1.0 )]  #we should slice only once,this is making it slow\n",
    "random_dic_int = modified_createRandomDic(dataframe,300, functional_group_list)\n",
    "# random_dic_all[\"2.0~\"].head(5)\n",
    "pd.set_option(\"display.max_rows\", None)\n",
    "random_dic_int"
   ]
  },
  {
   "cell_type": "code",
   "execution_count": null,
   "metadata": {},
   "outputs": [],
   "source": [
    "data_df = df_to_upset(data = low_df)\n",
    "clean_data = clean(data_df)\n",
    "clean_source = get_source(clean_data)\n",
    "get_upsetplot(clean_source)"
   ]
  },
  {
   "cell_type": "markdown",
   "metadata": {},
   "source": [
    "## 4. C Very Low\n",
    "#### 0 logTCAA < 0.0"
   ]
  },
  {
   "cell_type": "code",
   "execution_count": null,
   "metadata": {},
   "outputs": [],
   "source": [
    "functional_group_list = [\"phenol\",\"methoxy\",\"ketone\",\"aniline\",\"benzene\"]\n",
    "dataframe = result_df[result_df[\"log10_TCAA\"] < 0.0 ]  #we should slice only once,this is making it slow\n",
    "random_dic_int = modified_createRandomDic(dataframe,300, functional_group_list)\n",
    "# random_dic_all[\"2.0~\"].head(5)\n",
    "pd.set_option(\"display.max_rows\", None)\n",
    "random_dic_int"
   ]
  },
  {
   "cell_type": "code",
   "execution_count": null,
   "metadata": {},
   "outputs": [],
   "source": [
    "for a in random_dic_int[\"ROMol\"]:\n",
    "    display(a)"
   ]
  },
  {
   "cell_type": "code",
   "execution_count": null,
   "metadata": {},
   "outputs": [],
   "source": [
    "data_df = df_to_upset(data = verylow_df)\n",
    "clean_data = clean(data_df)\n",
    "clean_source = get_source(clean_data)\n",
    "get_upsetplot(clean_source)"
   ]
  },
  {
   "cell_type": "code",
   "execution_count": null,
   "metadata": {},
   "outputs": [],
   "source": []
  },
  {
   "cell_type": "markdown",
   "metadata": {},
   "source": [
    "### We repeat for all categories for both DCAA and TCAA"
   ]
  },
  {
   "cell_type": "markdown",
   "metadata": {},
   "source": [
    "# 5. Clustering "
   ]
  },
  {
   "cell_type": "markdown",
   "metadata": {},
   "source": [
    "## For now see notebook highHAAFPs"
   ]
  },
  {
   "cell_type": "code",
   "execution_count": null,
   "metadata": {},
   "outputs": [],
   "source": []
  },
  {
   "cell_type": "code",
   "execution_count": null,
   "metadata": {},
   "outputs": [],
   "source": []
  },
  {
   "cell_type": "code",
   "execution_count": null,
   "metadata": {},
   "outputs": [],
   "source": []
  }
 ],
 "metadata": {
  "kernelspec": {
   "display_name": "Python 3",
   "language": "python",
   "name": "python3"
  },
  "language_info": {
   "codemirror_mode": {
    "name": "ipython",
    "version": 3
   },
   "file_extension": ".py",
   "mimetype": "text/x-python",
   "name": "python",
   "nbconvert_exporter": "python",
   "pygments_lexer": "ipython3",
   "version": "3.6.4"
  }
 },
 "nbformat": 4,
 "nbformat_minor": 4
}
