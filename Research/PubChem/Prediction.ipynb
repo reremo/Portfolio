{
 "cells": [
  {
   "cell_type": "markdown",
   "metadata": {},
   "source": [
    "###  This notebook takes the calculated descriptors, retrains the model with all experimental data and estimates HAAFPs for all compounds in the PubChem database"
   ]
  },
  {
   "cell_type": "code",
   "execution_count": null,
   "metadata": {},
   "outputs": [],
   "source": [
    "#conda install -c mordred-descriptor mordred"
   ]
  },
  {
   "cell_type": "code",
   "execution_count": 3,
   "metadata": {},
   "outputs": [],
   "source": [
    "import pubchempy as pcp\n",
    "import pandas as pd\n",
    "import numpy as np\n",
    "# import seaborn as sns\n",
    "\n",
    "from rdkit.Chem import AllChem\n",
    "from rdkit.Chem import Draw\n",
    "from rdkit.Chem import PandasTools\n",
    "\n",
    "from mordred import Calculator, descriptors\n",
    "from mordred import  ABCIndex\n",
    "\n",
    "import matplotlib.pyplot as plt\n",
    "from statistics import mean\n",
    "from math import sqrt\n",
    "from rdkit import Chem\n",
    "from sklearn import metrics\n",
    "from sklearn import model_selection\n",
    "from sklearn import linear_model\n",
    "from sklearn.svm import SVR\n",
    "from sklearn.ensemble import RandomForestRegressor\n",
    "from sklearn.neural_network import MLPRegressor\n",
    "from sklearn.preprocessing import StandardScaler\n",
    "from sklearn.pipeline import Pipeline\n",
    "from sklearn.model_selection import GridSearchCV\n",
    "from sklearn.model_selection import LeaveOneOut\n",
    "from sklearn.metrics import mean_squared_error\n",
    "from sklearn.model_selection import train_test_split"
   ]
  },
  {
   "cell_type": "markdown",
   "metadata": {},
   "source": [
    "####  The sets of descriptors for all compounds are stored in a separate database - The data is read and formated in a single pandas dataframe"
   ]
  },
  {
   "cell_type": "code",
   "execution_count": 15,
   "metadata": {},
   "outputs": [
    {
     "name": "stdout",
     "output_type": "stream",
     "text": [
      "done\n"
     ]
    }
   ],
   "source": [
    "qsar_df1 = pd.read_csv(\"data/qsar_20201120_0_10000000.csv\")\n",
    "print(\"1\")\n",
    "qsar_df2 = pd.read_csv(\"data/qsar_20201120_10000000_20000000.csv\")\n",
    "print(\"2\")\n",
    "qsar_df3 = pd.read_csv(\"data/qsar_20201120_20000000_30000000.csv\")\n",
    "print(\"3\")\n",
    "qsar_df4 = pd.read_csv(\"data/qsar_20201120_30000000_40000000.csv\")\n",
    "qsar_df5 = pd.read_csv(\"data/qsar_20201120_40000000_50000000.csv\")\n",
    "print(\"5\")\n",
    "qsar_df6 = pd.read_csv(\"data/qsar_20201120_50000000_60000000.csv\")\n",
    "qsar_df7 = pd.read_csv(\"data/qsar_20201120_60000000_70000000.csv\")\n",
    "qsar_df8 = pd.read_csv(\"data/qsar_20201120_70000000_80000000.csv\")\n",
    "print(\"8\")\n",
    "qsar_df9 = pd.read_csv(\"data/qsar_20201120_80000000_90000000.csv\")\n",
    "qsar_df10 = pd.read_csv(\"data/qsar_20201120_90000000_100000000.csv\")\n",
    "print(\"10\")\n",
    "qsar_df11 = pd.read_csv(\"data/qsar_20201120_100000000_110000000.csv\")\n",
    "qsar_df12 = pd.read_csv(\"data/qsar_20201120_110000000_111456896.csv\")\n",
    "print(\"done\")\n"
   ]
  },
  {
   "cell_type": "code",
   "execution_count": null,
   "metadata": {},
   "outputs": [],
   "source": [
    "qsar_df = pd.concat([qsar_df1,qsar_df2,qsar_df3,qsar_df4,qsar_df5,qsar_df6,qsar_df7,qsar_df8,qsar_df9,qsar_df10,qsar_df11,qsar_df12], axis=0)\n",
    "qsar_df.shape"
   ]
  },
  {
   "cell_type": "code",
   "execution_count": null,
   "metadata": {},
   "outputs": [],
   "source": [
    "#### The \"qsar\" file contains all descriptors necessary for the prediction of　HAAs, here the descriptors are filtered according to the desired endpoint (DCAA or TCAA)"
   ]
  },
  {
   "cell_type": "code",
   "execution_count": null,
   "metadata": {},
   "outputs": [],
   "source": [
    "features_list_TCAA_rf = [\"SsOH\",\n",
    "                         \"C2SP2\",\n",
    "                        \"SlogP_VSA11\",\n",
    "                        \"SMR_VSA7\",\n",
    "                        \"PEOE_VSA1\",\n",
    "                        \"EState_VSA7\",\n",
    "                        \"ATSC5are\",\n",
    "                        \"nBondsKD\",\n",
    "                        \"ATS1i\",\n",
    "                        \"nBondsM\"]\n",
    "\n",
    "features_list_DCAA_rf = [\"AATSC0are\",\n",
    "                         \"ATSC3dv\",\n",
    "                         \"SlogP_VSA11\",\n",
    "                         \"ATS4m\",\n",
    "                         \"ATS4Z\",\n",
    "                         \"Xch-7d\",\n",
    "                         \"PEOE_VSA1\",\n",
    "                         \"SaasC\",\n",
    "                         \"piPC4\",\n",
    "                         \"VSA_EState9\"]\n",
    "features_list_TCAA_DCAA_rf = [\"SsOH\",\n",
    "                         \"C2SP2\",\n",
    "                        \"SlogP_VSA11\",\n",
    "                        \"SMR_VSA7\",\n",
    "                        \"PEOE_VSA1\",\n",
    "                        \"EState_VSA7\",\n",
    "                        \"ATSC5are\",\n",
    "                        \"nBondsKD\",\n",
    "                        \"ATS1i\",\n",
    "                        \"nBondsM\",\n",
    "                        \"AATSC0are\",\n",
    "                        \"ATSC3dv\",\n",
    "                        \"ATS4m\",\n",
    "                        \"ATS4Z\",\n",
    "                        \"Xch-7d\",\n",
    "                        \"SaasC\",\n",
    "                        \"piPC4\",\n",
    "                        \"VSA_EState9\" ] \n",
    "\n",
    "calc_dummy = Calculator(descriptors, ignore_3D=False)\n",
    "my_desc_names_TCAA = features_list_TCAA_rf\n",
    "my_desc_names_DCAA = features_list_DCAA_rf\n",
    "my_desc_names_TCAA_DCAA = features_list_TCAA_DCAA_rf                        \n",
    "my_descs = []\n",
    "for i, desc in enumerate(calc_dummy.descriptors):\n",
    "    if desc.__str__()  in my_desc_names_TCAA:\n",
    "       my_descs.append(desc)\n",
    "\n",
    "calc_TCAA = Calculator(my_descs, ignore_3D=False)\n",
    "my_descs = []\n",
    "for i, desc in enumerate(calc_dummy.descriptors):\n",
    "    if desc.__str__()  in my_desc_names_DCAA:\n",
    "       my_descs.append(desc)\n",
    "\n",
    "calc_DCAA = Calculator(my_descs, ignore_3D=False)\n",
    "my_descs = []\n",
    "for i, desc in enumerate(calc_dummy.descriptors):\n",
    "    if desc.__str__()  in my_desc_names_TCAA_DCAA:\n",
    "       my_descs.append(desc)\n",
    "\n",
    "calc_TCAA_DCAA = Calculator(my_descs, ignore_3D=False)"
   ]
  },
  {
   "cell_type": "code",
   "execution_count": null,
   "metadata": {},
   "outputs": [],
   "source": [
    "calc=calc_TCAA_DCAA"
   ]
  },
  {
   "cell_type": "code",
   "execution_count": null,
   "metadata": {},
   "outputs": [],
   "source": [
    "exp_descriptor_data = pd.DataFrame(calc.pandas(df_result['ROMol']))\n",
    "X_Exp_TCAA = exp_descriptor_data[features_list_TCAA_rf]\n",
    "X_Exp_DCAA = exp_descriptor_data[features_list_DCAA_rf]"
   ]
  },
  {
   "cell_type": "markdown",
   "metadata": {},
   "source": [
    "#### Here the model is retrained with the experimental data"
   ]
  },
  {
   "cell_type": "code",
   "execution_count": null,
   "metadata": {},
   "outputs": [],
   "source": [
    "mols = pd.read_excel(\"data/training_data.xlsx\", engine = \"openpyxl\", header=0)\n",
    "df_result = mols[['DCAA (umol/mmol)', 'TCAA (umol/mmol)', 'HAAFP (umol/mmol)']]\n",
    "Y = df_result.values       ##at this point column 0 is DCAA and column 1 is TCAA\n",
    "df_result = mols[['SMILES','DCAA (umol/mmol)', 'TCAA (umol/mmol)', 'HAAFP (umol/mmol)']]\n",
    "PandasTools.AddMoleculeColumnToFrame(df_result, smilesCol='SMILES', includeFingerprints=False)\n",
    "log_Y = np.log1p(Y)"
   ]
  },
  {
   "cell_type": "code",
   "execution_count": null,
   "metadata": {},
   "outputs": [],
   "source": [
    "pipe_DCAA_rf = Pipeline(\n",
    "    [\n",
    "        ('std_scaler', StandardScaler()),\n",
    "        (\"RF\", RandomForestRegressor(random_state = 17,\n",
    "                                    n_estimators = 300,\n",
    "                                    max_features = \"auto\",\n",
    "                                    min_samples_split = 0.03,\n",
    "                                    min_samples_leaf = 0.01,\n",
    "                                    max_depth = 30,\n",
    "                                    max_leaf_nodes = None,\n",
    "                                    n_jobs = 1))\n",
    "    ]\n",
    ")\n",
    "\n",
    "pipe_TCAA_rf = Pipeline(\n",
    "    [\n",
    "        ('std_scaler', StandardScaler()),\n",
    "        (\"RF\", RandomForestRegressor(random_state = 17,\n",
    "                                    n_estimators = 100,\n",
    "                                    max_features = \"auto\",\n",
    "                                     min_samples_split = 2,\n",
    "                                     min_samples_leaf = 1,\n",
    "                                     max_depth = None,\n",
    "                                     max_leaf_nodes = None,\n",
    "                                    n_jobs = 1))\n",
    "    ]\n",
    ")\n",
    "pipe_TCAA_rf.fit(X_Exp_TCAA, log_Y[:,1])\n",
    "pipe_DCAA_rf.fit(X_Exp_DCAA, log_Y[:,0]) #### Something wrong here!!!"
   ]
  },
  {
   "cell_type": "markdown",
   "metadata": {},
   "source": [
    "#### qsar_df contains the necessary descriptors to predict HAAFPs.\n",
    "#### Here qsar_df is passed on the trained model and new dataframes \"predicted_DCAA_df\" & \"predicted_TCAA_df\" are created and later concatenated to obtain the full results database \"result_TCAA_DCAA_df\", which is later exported as a csv file.   "
   ]
  },
  {
   "cell_type": "code",
   "execution_count": 18,
   "metadata": {},
   "outputs": [],
   "source": [
    "qsar_df = pd.DataFrame(qsar_df, index = qsar_df.index).dropna(axis=0)"
   ]
  },
  {
   "cell_type": "code",
   "execution_count": 19,
   "metadata": {},
   "outputs": [
    {
     "data": {
      "text/html": [
       "<div>\n",
       "<style scoped>\n",
       "    .dataframe tbody tr th:only-of-type {\n",
       "        vertical-align: middle;\n",
       "    }\n",
       "\n",
       "    .dataframe tbody tr th {\n",
       "        vertical-align: top;\n",
       "    }\n",
       "\n",
       "    .dataframe thead th {\n",
       "        text-align: right;\n",
       "    }\n",
       "</style>\n",
       "<table border=\"1\" class=\"dataframe\">\n",
       "  <thead>\n",
       "    <tr style=\"text-align: right;\">\n",
       "      <th></th>\n",
       "      <th>CID</th>\n",
       "      <th>ATS4Z</th>\n",
       "      <th>ATS4m</th>\n",
       "      <th>ATS1i</th>\n",
       "      <th>ATSC3dv</th>\n",
       "      <th>ATSC5are</th>\n",
       "      <th>AATSC0are</th>\n",
       "      <th>nBondsM</th>\n",
       "      <th>nBondsKD</th>\n",
       "      <th>C2SP2</th>\n",
       "      <th>Xch-7d</th>\n",
       "      <th>SaasC</th>\n",
       "      <th>SsOH</th>\n",
       "      <th>PEOE_VSA1</th>\n",
       "      <th>SMR_VSA7</th>\n",
       "      <th>SlogP_VSA11</th>\n",
       "      <th>EState_VSA7</th>\n",
       "      <th>VSA_EState9</th>\n",
       "      <th>piPC4</th>\n",
       "    </tr>\n",
       "  </thead>\n",
       "  <tbody>\n",
       "    <tr>\n",
       "      <th>0</th>\n",
       "      <td>1</td>\n",
       "      <td>983.0</td>\n",
       "      <td>3451.906965</td>\n",
       "      <td>4531.610682</td>\n",
       "      <td>-46.196670</td>\n",
       "      <td>-2.196433</td>\n",
       "      <td>0.188575</td>\n",
       "      <td>2</td>\n",
       "      <td>2</td>\n",
       "      <td>0</td>\n",
       "      <td>0.000000</td>\n",
       "      <td>0.0</td>\n",
       "      <td>0.000000</td>\n",
       "      <td>19.120958</td>\n",
       "      <td>0.000000</td>\n",
       "      <td>0.0</td>\n",
       "      <td>21.143016</td>\n",
       "      <td>5.683855</td>\n",
       "      <td>3.091042</td>\n",
       "    </tr>\n",
       "    <tr>\n",
       "      <th>1</th>\n",
       "      <td>2</td>\n",
       "      <td>991.0</td>\n",
       "      <td>3466.046181</td>\n",
       "      <td>4716.794959</td>\n",
       "      <td>-48.277344</td>\n",
       "      <td>-2.335284</td>\n",
       "      <td>0.185105</td>\n",
       "      <td>2</td>\n",
       "      <td>2</td>\n",
       "      <td>0</td>\n",
       "      <td>0.000000</td>\n",
       "      <td>0.0</td>\n",
       "      <td>8.595382</td>\n",
       "      <td>14.326421</td>\n",
       "      <td>0.000000</td>\n",
       "      <td>0.0</td>\n",
       "      <td>21.143016</td>\n",
       "      <td>5.745079</td>\n",
       "      <td>3.091042</td>\n",
       "    </tr>\n",
       "    <tr>\n",
       "      <th>2</th>\n",
       "      <td>3</td>\n",
       "      <td>663.0</td>\n",
       "      <td>2323.102654</td>\n",
       "      <td>2822.099375</td>\n",
       "      <td>-0.969529</td>\n",
       "      <td>-0.268532</td>\n",
       "      <td>0.241330</td>\n",
       "      <td>3</td>\n",
       "      <td>3</td>\n",
       "      <td>3</td>\n",
       "      <td>0.175366</td>\n",
       "      <td>0.0</td>\n",
       "      <td>26.466667</td>\n",
       "      <td>15.319582</td>\n",
       "      <td>23.801165</td>\n",
       "      <td>0.0</td>\n",
       "      <td>0.000000</td>\n",
       "      <td>0.000000</td>\n",
       "      <td>3.761200</td>\n",
       "    </tr>\n",
       "    <tr>\n",
       "      <th>3</th>\n",
       "      <td>4</td>\n",
       "      <td>69.0</td>\n",
       "      <td>126.153216</td>\n",
       "      <td>2069.792191</td>\n",
       "      <td>-12.000000</td>\n",
       "      <td>0.384690</td>\n",
       "      <td>0.145978</td>\n",
       "      <td>0</td>\n",
       "      <td>0</td>\n",
       "      <td>0</td>\n",
       "      <td>0.000000</td>\n",
       "      <td>0.0</td>\n",
       "      <td>8.236111</td>\n",
       "      <td>10.840195</td>\n",
       "      <td>0.000000</td>\n",
       "      <td>0.0</td>\n",
       "      <td>0.000000</td>\n",
       "      <td>0.000000</td>\n",
       "      <td>0.000000</td>\n",
       "    </tr>\n",
       "    <tr>\n",
       "      <th>4</th>\n",
       "      <td>5</td>\n",
       "      <td>533.0</td>\n",
       "      <td>1911.181738</td>\n",
       "      <td>2673.307775</td>\n",
       "      <td>-47.035208</td>\n",
       "      <td>3.062675</td>\n",
       "      <td>0.323581</td>\n",
       "      <td>2</td>\n",
       "      <td>2</td>\n",
       "      <td>1</td>\n",
       "      <td>0.000000</td>\n",
       "      <td>0.0</td>\n",
       "      <td>16.115799</td>\n",
       "      <td>15.520491</td>\n",
       "      <td>0.000000</td>\n",
       "      <td>0.0</td>\n",
       "      <td>0.000000</td>\n",
       "      <td>-4.509159</td>\n",
       "      <td>2.197225</td>\n",
       "    </tr>\n",
       "  </tbody>\n",
       "</table>\n",
       "</div>"
      ],
      "text/plain": [
       "   CID  ATS4Z        ATS4m        ATS1i    ATSC3dv  ATSC5are  AATSC0are  \\\n",
       "0    1  983.0  3451.906965  4531.610682 -46.196670 -2.196433   0.188575   \n",
       "1    2  991.0  3466.046181  4716.794959 -48.277344 -2.335284   0.185105   \n",
       "2    3  663.0  2323.102654  2822.099375  -0.969529 -0.268532   0.241330   \n",
       "3    4   69.0   126.153216  2069.792191 -12.000000  0.384690   0.145978   \n",
       "4    5  533.0  1911.181738  2673.307775 -47.035208  3.062675   0.323581   \n",
       "\n",
       "   nBondsM  nBondsKD  C2SP2    Xch-7d  SaasC       SsOH  PEOE_VSA1   SMR_VSA7  \\\n",
       "0        2         2      0  0.000000    0.0   0.000000  19.120958   0.000000   \n",
       "1        2         2      0  0.000000    0.0   8.595382  14.326421   0.000000   \n",
       "2        3         3      3  0.175366    0.0  26.466667  15.319582  23.801165   \n",
       "3        0         0      0  0.000000    0.0   8.236111  10.840195   0.000000   \n",
       "4        2         2      1  0.000000    0.0  16.115799  15.520491   0.000000   \n",
       "\n",
       "   SlogP_VSA11  EState_VSA7  VSA_EState9     piPC4  \n",
       "0          0.0    21.143016     5.683855  3.091042  \n",
       "1          0.0    21.143016     5.745079  3.091042  \n",
       "2          0.0     0.000000     0.000000  3.761200  \n",
       "3          0.0     0.000000     0.000000  0.000000  \n",
       "4          0.0     0.000000    -4.509159  2.197225  "
      ]
     },
     "execution_count": 19,
     "metadata": {},
     "output_type": "execute_result"
    }
   ],
   "source": [
    "qsar_df.head()"
   ]
  },
  {
   "cell_type": "code",
   "execution_count": 20,
   "metadata": {},
   "outputs": [
    {
     "data": {
      "text/plain": [
       "(111390281, 1)"
      ]
     },
     "execution_count": 20,
     "metadata": {},
     "output_type": "execute_result"
    }
   ],
   "source": [
    "cid_df = qsar_df[[\"CID\"]]\n",
    "cid_df.shape"
   ]
  },
  {
   "cell_type": "code",
   "execution_count": null,
   "metadata": {},
   "outputs": [
    {
     "name": "stdout",
     "output_type": "stream",
     "text": [
      "0\n"
     ]
    }
   ],
   "source": [
    "ext_TCAA_df = qsar_df[features_list_TCAA_rf]\n",
    "ext_DCAA_df = qsar_df[features_list_DCAA_rf]\n",
    "print(\"0\")\n",
    "Y_predicted_TCAA_rf = pipe_TCAA_rf.predict(ext_TCAA_df)\n",
    "Y_predicted_DCAA_rf = pipe_DCAA_rf.predict(ext_DCAA_df)\n",
    "print(\"1\")\n",
    "predicted_TCAA_df = pd.DataFrame(Y_predicted_TCAA_rf)\n",
    "predicted_TCAA_df.columns = [\"TCAA\"]\n",
    "print(\"2\")\n",
    "predicted_TCAA_df.index = qsar_df.index\n",
    "predicted_DCAA_df = pd.DataFrame(Y_predicted_DCAA_rf)\n",
    "predicted_DCAA_df.columns = [\"DCAA\"]\n",
    "print(\"3\")\n",
    "predicted_DCAA_df.index = qsar_df.index\n",
    "print(\"4\")\n",
    "result_TCAA_DCAA_df = pd.concat([cid_df,predicted_TCAA_df,predicted_DCAA_df], axis=1)\n",
    "print(\"5\")\n",
    "# result_TCAA_DCAA_df = result_TCAA_DCAA_df.sort_values(by = [\"TCAA\"], ascending = False)\n",
    "print(\"6\")"
   ]
  },
  {
   "cell_type": "code",
   "execution_count": null,
   "metadata": {},
   "outputs": [],
   "source": [
    "result_TCAA_DCAA_df.shape"
   ]
  },
  {
   "cell_type": "code",
   "execution_count": null,
   "metadata": {},
   "outputs": [],
   "source": [
    "result_TCAA_DCAA_df_stored = result_TCAA_DCAA_df[[\"CID\",\"TCAA\",\"DCAA\"]]"
   ]
  },
  {
   "cell_type": "code",
   "execution_count": null,
   "metadata": {},
   "outputs": [],
   "source": [
    "result_TCAA_DCAA_df_stored.to_csv(\"/Users/andrescordero/Downloads/result_TCAA_DCAA_May12.csv\",header=True,index=False)"
   ]
  },
  {
   "cell_type": "markdown",
   "metadata": {},
   "source": [
    "#### A function showResult() is defined to show a sample of the results containing names, values and structures. "
   ]
  },
  {
   "cell_type": "code",
   "execution_count": null,
   "metadata": {},
   "outputs": [],
   "source": [
    "def showResult():\n",
    "    result_TCAA_DCAA_df_10 = result_TCAA_DCAA_df.head(10)\n",
    "    properties = ['IUPACName','CanonicalSMILES','MolecularFormula']\n",
    "    cid_list = result_TCAA_DCAA_df_10[\"CID\"].values.tolist()\n",
    "    div_df = pd.DataFrame(pcp.get_properties(properties, cid_list, 'cid'))\n",
    "    PandasTools.AddMoleculeColumnToFrame(div_df, smilesCol='CanonicalSMILES', includeFingerprints=False)\n",
    "    result_TCAA_DCAA_df_10 = result_TCAA_DCAA_df_10.drop(\"CID\", axis=1)\n",
    "    result_TCAA_DCAA_df_10.index = div_df.index\n",
    "    result_TCAA_DCAA_df_10 = pd.concat([div_df,result_TCAA_DCAA_df_10], axis=1)"
   ]
  },
  {
   "cell_type": "code",
   "execution_count": null,
   "metadata": {},
   "outputs": [],
   "source": [
    "tcaa_distribution = result_TCAA_DCAA_df[\"TCAA\"].values\n",
    "# tcaa_distribution = np.exp(tcaa_distribution)-1\n",
    "sns.displot(tcaa_distribution)"
   ]
  },
  {
   "cell_type": "code",
   "execution_count": null,
   "metadata": {},
   "outputs": [],
   "source": [
    "result_TCAA_DCAA_df_10"
   ]
  },
  {
   "cell_type": "code",
   "execution_count": null,
   "metadata": {},
   "outputs": [],
   "source": []
  },
  {
   "cell_type": "code",
   "execution_count": null,
   "metadata": {},
   "outputs": [],
   "source": []
  }
 ],
 "metadata": {
  "kernelspec": {
   "display_name": "Python 3",
   "language": "python",
   "name": "python3"
  },
  "language_info": {
   "codemirror_mode": {
    "name": "ipython",
    "version": 3
   },
   "file_extension": ".py",
   "mimetype": "text/x-python",
   "name": "python",
   "nbconvert_exporter": "python",
   "pygments_lexer": "ipython3",
   "version": "3.6.4"
  }
 },
 "nbformat": 4,
 "nbformat_minor": 4
}
